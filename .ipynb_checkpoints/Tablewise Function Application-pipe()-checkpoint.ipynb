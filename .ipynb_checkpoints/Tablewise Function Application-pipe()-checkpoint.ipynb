{
 "cells": [
  {
   "cell_type": "markdown",
   "metadata": {},
   "source": [
    "应用 Function\n",
    "====\n",
    "\n",
    "要将您自己或其他库的函数应用于pandas对象，主要有以下三种方法。使用哪个方法适当，取决于函数是期望在整个`DataFrame`或`Series`上，还是行或列方式，或元素方式上运行。\n",
    "\n",
    "1. [Tablewise Function Application](http://pandas.pydata.org/pandas-docs/version/0.20.3/basics.html#tablewise-function-application): [`pipe()`](http://pandas.pydata.org/pandas-docs/version/0.20.3/generated/pandas.DataFrame.pipe.html#pandas.DataFrame.pipe)\n",
    "2. [Row or Column-wise Function Application](http://pandas.pydata.org/pandas-docs/version/0.20.3/basics.html#row-or-column-wise-function-application): [`apply()`](http://pandas.pydata.org/pandas-docs/version/0.20.3/generated/pandas.DataFrame.apply.html#pandas.DataFrame.apply)\n",
    "3. [Aggregation API](http://pandas.pydata.org/pandas-docs/version/0.20.3/basics.html#aggregation-api): [`agg()`](http://pandas.pydata.org/pandas-docs/version/0.20.3/generated/pandas.DataFrame.agg.html#pandas.DataFrame.agg) and [`transform()`](http://pandas.pydata.org/pandas-docs/version/0.20.3/generated/pandas.DataFrame.transform.html#pandas.DataFrame.transform)\n",
    "4. [Applying Elementwise Functions](http://pandas.pydata.org/pandas-docs/version/0.20.3/basics.html#applying-elementwise-functions): [`applymap()`](http://pandas.pydata.org/pandas-docs/version/0.20.3/generated/pandas.DataFrame.applymap.html#pandas.DataFrame.applymap)"
   ]
  },
  {
   "cell_type": "markdown",
   "metadata": {},
   "source": [
    "Tablewise Function Application: pipe()\n",
    "====\n",
    "**表格式应用函数**"
   ]
  },
  {
   "cell_type": "markdown",
   "metadata": {},
   "source": [
    "`DataFrames` and `Series` can of course just be passed into functions. However, if the function needs to be called in a chain, consider using the [`pipe()`](http://pandas.pydata.org/pandas-docs/version/0.20.3/generated/pandas.DataFrame.pipe.html#pandas.DataFrame.pipe) method. Compare the following\n",
    "\n",
    "`DataFrames`和`Series`当然可以被传递给函数。但是，如果需要在链中调用函数，请考虑使用[`pipe()`](http://pandas.pydata.org/pandas-docs/version/0.20.3/generated/pandas.DataFrame.pipe.html#pandas.DataFrame.pipe) 方法。 比较以下内容："
   ]
  },
  {
   "cell_type": "markdown",
   "metadata": {},
   "source": []
  },
  {
   "cell_type": "markdown",
   "metadata": {},
   "source": [
    "[`pandas`文档](http://pandas.pydata.org/pandas-docs/stable/), [Tablewise Function Application](http://pandas.pydata.org/pandas-docs/version/0.20.3/basics.html#tablewise-function-application): [`pipe()`](http://pandas.pydata.org/pandas-docs/version/0.20.3/generated/pandas.DataFrame.pipe.html#pandas.DataFrame.pipe)介绍了`pipe()`方法，该方法可以使在pandas对象上连续执行多个函数操作的代码变得简洁明了。\n",
    "\n",
    "假设想要将一个函数应用于`DataFrame`或`Series`，然后应用其他，其他，...等函数，一种方法是以“夹心”方式执行此操作：\n",
    "\n",
    "```\n",
    "f(g(h(df), arg1=a), arg2=b, arg3=c)\n",
    "\n",
    "```\n",
    "\n",
    "上述这种符号的嵌套使代码变得混乱并且容易出错。可以使用`pipe（）`方法实现相同的功能，但代码会简明得得。pipe可以被认为是一种功能链。下面是用`pipe（）`完成上面代码相同任务的方法：\n",
    "\n",
    "```\n",
    "(df.pipe(h)\n",
    " .pipe(g, arg1=a)\n",
    " .pipe(f, arg2=b, arg3=c)\n",
    ")\n",
    "```\n",
    "这种方式更简洁，有助于跟踪函数及其相应参数的应用顺序。\n",
    "\n",
    "\n",
    "\n"
   ]
  },
  {
   "cell_type": "markdown",
   "metadata": {},
   "source": [
    "## pipe语法\n",
    "`DataFrame.pipe(func, *args, **kwargs)`\n",
    "\n",
    "### Parameters:\t\n",
    "**func** : function\n",
    "\n",
    "要应用于NDFrame的函数。 `args`和`kwargs`是传入`func`的参数。\n",
    "\n",
    "注意：默认`func`的第一个位置参数是`NDFrame`，如果在定义`func`时，第一个位置参数不是`NDFrame`，在`pipe()`中需要使用`data`关键字引用`NDFrame`的名称，显示地指定`NDFrame`。\n",
    "\n",
    "**args** : positional arguments passed into func. 位置参数，传递给`func`。\n",
    "\n",
    "**kwargs** : a dictionary of keyword arguments passed into func. 字典关键字参数，传递给`func`。"
   ]
  },
  {
   "cell_type": "markdown",
   "metadata": {},
   "source": [
    "### Returns:\t\n",
    "**object** : the return type of func. \n",
    "\n",
    "**对象**：`func`返回的类型。"
   ]
  },
  {
   "cell_type": "markdown",
   "metadata": {},
   "source": [
    "**Notes**\n",
    "\n",
    "当将期望在`Series`或`DataFrames`上将函数链接在一起时，使用`.pipe`，而不是这样写：\n",
    "\n",
    "> `f(g(h(df), arg1=a), arg2=b, arg3=c)`\n",
    "\n",
    "应该这样写：\n",
    "\n",
    "```\n",
    ">>> (df.pipe(h)\n",
    "...    .pipe(g, arg1=a)\n",
    "...    .pipe(f, arg2=b, arg3=c)\n",
    "... )\n",
    "```\n",
    "\n",
    "如果有一个函数不是将数据作为第一个参数，例如作为第二个参数，则传递一个元组，指示哪个关键字需要数据。 例如，假设`f`将数据作为`arg2`：\n",
    "\n",
    "```\n",
    ">>> (df.pipe(h)\n",
    "...    .pipe(g, arg1=a)\n",
    "...    .pipe((f, 'arg2'), arg1=a, arg3=c)\n",
    "...  )\n",
    "```\n",
    "\n",
    "即将 `func`参数和该函数需要数据集作为参数的参数名称字符串组成一个元组，作为`pipe()`的第一个参数。"
   ]
  },
  {
   "cell_type": "markdown",
   "metadata": {},
   "source": [
    "## Example 1\n",
    "\n",
    "假设想要将以下三个函数应用于DataFrame或Series：\n",
    "\n",
    "- 第一个函数对数据集做减法\n",
    "- 第二个函数对数据集做除法\n",
    "- 第三个函数对数据集先做乘方，再做与标量求模。"
   ]
  },
  {
   "cell_type": "markdown",
   "metadata": {},
   "source": [
    "先创建这些函数：\n",
    "\n",
    "```\n",
    "def adder(dataset,addn):\n",
    "    dataset += addn\n",
    "    return dataset\n",
    "    \n",
    "def div(dataset,divn):\n",
    "    dataset /= divn\n",
    "    return dataset\n",
    "    \n",
    "def time_mod(dataset, tn, mn):\n",
    "    dataset = np.mod(np.power(dataset,mn),tn)\n",
    "    return dataset\n",
    "```"
   ]
  },
  {
   "cell_type": "markdown",
   "metadata": {},
   "source": [
    "首先，我使用`adder`函数向数据集指定列的每个条目添加2。然后，使用`div`函数将指定列的每个条目除以2。最后，用`time_log`函数将指定列执行乘方和log运算。"
   ]
  },
  {
   "cell_type": "markdown",
   "metadata": {},
   "source": [
    "## 示例代码"
   ]
  },
  {
   "cell_type": "code",
   "execution_count": 233,
   "metadata": {},
   "outputs": [],
   "source": [
    "import numpy as np\n",
    "import pandas as pd"
   ]
  },
  {
   "cell_type": "code",
   "execution_count": 234,
   "metadata": {},
   "outputs": [],
   "source": [
    "def adder(dataset,addn):\n",
    "    dataset += addn\n",
    "    return dataset"
   ]
  },
  {
   "cell_type": "code",
   "execution_count": 235,
   "metadata": {},
   "outputs": [],
   "source": [
    "def div(dataset,divn):\n",
    "    dataset /= divn\n",
    "    return dataset"
   ]
  },
  {
   "cell_type": "code",
   "execution_count": 236,
   "metadata": {},
   "outputs": [],
   "source": [
    "def time_mod(dataset, tn, mn):\n",
    "    dataframe = np.mod(np.power(dataset,mn),tn)\n",
    "    return dataset"
   ]
  },
  {
   "cell_type": "code",
   "execution_count": 237,
   "metadata": {},
   "outputs": [],
   "source": [
    "dn = np.arange(1,10,1).reshape(3,3)"
   ]
  },
  {
   "cell_type": "code",
   "execution_count": 238,
   "metadata": {},
   "outputs": [],
   "source": [
    "df = pd.DataFrame(data = dn,index=['A','B','C'],columns=['col1','col2','col3'])"
   ]
  },
  {
   "cell_type": "code",
   "execution_count": 239,
   "metadata": {
    "scrolled": true
   },
   "outputs": [
    {
     "data": {
      "text/html": [
       "<div>\n",
       "<style scoped>\n",
       "    .dataframe tbody tr th:only-of-type {\n",
       "        vertical-align: middle;\n",
       "    }\n",
       "\n",
       "    .dataframe tbody tr th {\n",
       "        vertical-align: top;\n",
       "    }\n",
       "\n",
       "    .dataframe thead th {\n",
       "        text-align: right;\n",
       "    }\n",
       "</style>\n",
       "<table border=\"1\" class=\"dataframe\">\n",
       "  <thead>\n",
       "    <tr style=\"text-align: right;\">\n",
       "      <th></th>\n",
       "      <th>col1</th>\n",
       "      <th>col2</th>\n",
       "      <th>col3</th>\n",
       "    </tr>\n",
       "  </thead>\n",
       "  <tbody>\n",
       "    <tr>\n",
       "      <th>A</th>\n",
       "      <td>0.75</td>\n",
       "      <td>1.00</td>\n",
       "      <td>1.25</td>\n",
       "    </tr>\n",
       "    <tr>\n",
       "      <th>B</th>\n",
       "      <td>1.50</td>\n",
       "      <td>1.75</td>\n",
       "      <td>2.00</td>\n",
       "    </tr>\n",
       "    <tr>\n",
       "      <th>C</th>\n",
       "      <td>2.25</td>\n",
       "      <td>2.50</td>\n",
       "      <td>2.75</td>\n",
       "    </tr>\n",
       "  </tbody>\n",
       "</table>\n",
       "</div>"
      ],
      "text/plain": [
       "   col1  col2  col3\n",
       "A  0.75  1.00  1.25\n",
       "B  1.50  1.75  2.00\n",
       "C  2.25  2.50  2.75"
      ]
     },
     "execution_count": 239,
     "metadata": {},
     "output_type": "execute_result"
    }
   ],
   "source": [
    "(df.pipe(adder, addn=2)\n",
    "       .pipe(div, divn=4)\n",
    "       .pipe(time_mod, tn=4, mn=2)\n",
    ")"
   ]
  },
  {
   "cell_type": "markdown",
   "metadata": {},
   "source": [
    "**注意**：\n",
    "\n",
    "要应用`pipe()`，函数的第一个参数一般应是数据集，在`pipe()`链接函数时，函数的第一个参数省略，会自动传递调用的数据集给`func`。例如，`adder`接受两个参数`adder(dataframe, addn)`。第一个参数`dataframe`接收数据集，可以直接使用`pipe(adder, addn)`。\n",
    "\n",
    "如果要应用于`pipe()`的函数的第一个参数不是数据集，就不起作用。解决办法是指定`pipe`函数中引用数据集的参数名称，即告知pipe，该函数中哪个参数引用数据集。方法是：\n",
    "\n",
    "- 将 `func`名 和函数定义中代表数据集的参数名称字符串组成一个元组，作为`pipe()`的第一个参数传递。**参数名称需要引用包括，即将参数名称作为字典键**。"
   ]
  },
  {
   "cell_type": "markdown",
   "metadata": {},
   "source": [
    "## 示例 2\n",
    "\n",
    "现在重新定义`adder()`函数，将数据集作为第二个参数：`adder（addn，dataset）`。\n",
    "\n",
    "要在`pipe()`中使用该函数，格式如下：`DataFrame.pipe((adder,\"dataset\"), addn)`。"
   ]
  },
  {
   "cell_type": "code",
   "execution_count": 244,
   "metadata": {},
   "outputs": [],
   "source": [
    "def adder(addn,dataset):  #adder函数的dataset参数表示数据集\n",
    "    dataset += addn\n",
    "    return dataset"
   ]
  },
  {
   "cell_type": "code",
   "execution_count": 245,
   "metadata": {},
   "outputs": [],
   "source": [
    "df = pd.DataFrame(data = dn,index=['A','B','C'],columns=['col1','col2','col3'])"
   ]
  },
  {
   "cell_type": "code",
   "execution_count": 246,
   "metadata": {},
   "outputs": [
    {
     "data": {
      "text/html": [
       "<div>\n",
       "<style scoped>\n",
       "    .dataframe tbody tr th:only-of-type {\n",
       "        vertical-align: middle;\n",
       "    }\n",
       "\n",
       "    .dataframe tbody tr th {\n",
       "        vertical-align: top;\n",
       "    }\n",
       "\n",
       "    .dataframe thead th {\n",
       "        text-align: right;\n",
       "    }\n",
       "</style>\n",
       "<table border=\"1\" class=\"dataframe\">\n",
       "  <thead>\n",
       "    <tr style=\"text-align: right;\">\n",
       "      <th></th>\n",
       "      <th>col1</th>\n",
       "      <th>col2</th>\n",
       "      <th>col3</th>\n",
       "    </tr>\n",
       "  </thead>\n",
       "  <tbody>\n",
       "    <tr>\n",
       "      <th>A</th>\n",
       "      <td>0.75</td>\n",
       "      <td>1.00</td>\n",
       "      <td>1.25</td>\n",
       "    </tr>\n",
       "    <tr>\n",
       "      <th>B</th>\n",
       "      <td>1.50</td>\n",
       "      <td>1.75</td>\n",
       "      <td>2.00</td>\n",
       "    </tr>\n",
       "    <tr>\n",
       "      <th>C</th>\n",
       "      <td>2.25</td>\n",
       "      <td>2.50</td>\n",
       "      <td>2.75</td>\n",
       "    </tr>\n",
       "  </tbody>\n",
       "</table>\n",
       "</div>"
      ],
      "text/plain": [
       "   col1  col2  col3\n",
       "A  0.75  1.00  1.25\n",
       "B  1.50  1.75  2.00\n",
       "C  2.25  2.50  2.75"
      ]
     },
     "execution_count": 246,
     "metadata": {},
     "output_type": "execute_result"
    }
   ],
   "source": [
    "(df.pipe((adder, 'dataset'),addn=2) #adder函数的dataset参数表示数据集，和函数名组成一个元组，参数名需要用引号包括。\n",
    "       .pipe(div,divn=4)\n",
    "       .pipe(time_mod,tn=4,mn=2)\n",
    ")"
   ]
  }
 ],
 "metadata": {
  "kernelspec": {
   "display_name": "Python 3",
   "language": "python",
   "name": "python3"
  },
  "language_info": {
   "codemirror_mode": {
    "name": "ipython",
    "version": 3
   },
   "file_extension": ".py",
   "mimetype": "text/x-python",
   "name": "python",
   "nbconvert_exporter": "python",
   "pygments_lexer": "ipython3",
   "version": "3.6.6"
  },
  "toc": {
   "nav_menu": {},
   "number_sections": true,
   "sideBar": true,
   "skip_h1_title": false,
   "title_cell": "Table of Contents",
   "title_sidebar": "Contents",
   "toc_cell": false,
   "toc_position": {},
   "toc_section_display": true,
   "toc_window_display": false
  }
 },
 "nbformat": 4,
 "nbformat_minor": 2
}
