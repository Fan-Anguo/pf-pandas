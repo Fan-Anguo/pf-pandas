{
 "cells": [
  {
   "cell_type": "markdown",
   "metadata": {},
   "source": [
    "查看和导出R内置数据集\n",
    "===="
   ]
  },
  {
   "cell_type": "markdown",
   "metadata": {},
   "source": [
    "## 查看R内置数据集\n",
    "\n",
    "R语言中自带了一些数据集，安装的包中也会包含一些数据集，这些数据集的查看方法如下：\n",
    "\n",
    "打开R控制台：\n",
    "\n",
    "- `data()` #列出已载入的包中的所有数据集。\n",
    "- `data(package = .packages(all.available = TRUE))` #列出已安装的包中的所有数据集。\n",
    "- `datasetsname` #数据集名，在控制台中查看数据\n"
   ]
  },
  {
   "cell_type": "markdown",
   "metadata": {},
   "source": [
    "- > library(plyr)\n",
    "- > data(baseball)\n",
    "- > baseball"
   ]
  },
  {
   "cell_type": "markdown",
   "metadata": {},
   "source": [
    "## 导出R内置数据集的数据\n",
    "\n",
    "**以查看和导出`plyr`R程序包内置的`baseball`数据集为例：**\n",
    "\n",
    "*加载`plyr`程序包*\n",
    "\n",
    "> `library(plyr)`\n",
    "\n",
    "*加载baseball数据集*\n",
    "\n",
    "> `data(baseball)`\n",
    "\n",
    "*将数据输出到R控制台*\n",
    "\n",
    "> `baseball`\n",
    "\n",
    "*查看baseball数据集的类型*\n",
    "\n",
    "> `typeof(baseball)`\n",
    "\n",
    "*显示这是一个列表*\n",
    "\n",
    "`[1] \"list\"`\n",
    "\n",
    "*将S4类型转换为data.frame类型*\n",
    "\n",
    "> `cc <- as(baseball,'data.frame')`\n",
    "\n",
    "*设置RGui的工作路径*\n",
    "\n",
    "> `setwd(\"D:\\\\RDatasets\")`\n",
    "\n",
    "*导出baseball数据集*\n",
    "\n",
    "> `write.csv(cc,\"baseball.csv\")`"
   ]
  },
  {
   "cell_type": "code",
   "execution_count": null,
   "metadata": {},
   "outputs": [],
   "source": []
  }
 ],
 "metadata": {
  "kernelspec": {
   "display_name": "Python 3",
   "language": "python",
   "name": "python3"
  },
  "language_info": {
   "codemirror_mode": {
    "name": "ipython",
    "version": 3
   },
   "file_extension": ".py",
   "mimetype": "text/x-python",
   "name": "python",
   "nbconvert_exporter": "python",
   "pygments_lexer": "ipython3",
   "version": "3.6.6"
  },
  "toc": {
   "nav_menu": {},
   "number_sections": true,
   "sideBar": true,
   "skip_h1_title": false,
   "title_cell": "Table of Contents",
   "title_sidebar": "Contents",
   "toc_cell": false,
   "toc_position": {},
   "toc_section_display": true,
   "toc_window_display": false
  }
 },
 "nbformat": 4,
 "nbformat_minor": 2
}
