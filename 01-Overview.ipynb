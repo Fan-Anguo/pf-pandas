{
 "cells": [
  {
   "cell_type": "markdown",
   "metadata": {},
   "source": [
    "Pandas Overview\n",
    "===="
   ]
  },
  {
   "cell_type": "markdown",
   "metadata": {},
   "source": [
    "Pandas是一个Python包，专注于提高Python平台上数据分析的速度和性能。"
   ]
  },
  {
   "cell_type": "markdown",
   "metadata": {},
   "source": [
    "pandas is a Python package providing fast, flexible, and expressive data structures designed to make working with “relational” or “labeled” data both easy and intuitive. It aims to be the fundamental high-level building block for doing practical, real world data analysis in Python. Additionally, it has the broader goal of becoming the most powerful and flexible open source data analysis / manipulation tool available in any language. It is already well on its way toward this goal.\n",
    "\n",
    "pandas是一个Python包，提供快速，灵活和富有表现力的数据结构，旨在使处理“关系型”或“标记的”数据既简单又直观。 它旨在成为在Python中进行实际，真实世界数据分析的基础高级构造块。此外，它还有更广泛的目标，即成为任意语言中最强大，最灵活的开源数据分析/操作工具。 它已朝着这个目标迈进。"
   ]
  },
  {
   "cell_type": "markdown",
   "metadata": {},
   "source": [
    "pandas is well suited for many different kinds of data:\n",
    "\n",
    "- Tabular data with heterogeneously-typed columns, as in an SQL table or Excel spreadsheet\n",
    "- Ordered and unordered (not necessarily fixed-frequency) time series data.\n",
    "- Arbitrary matrix data (homogeneously typed or heterogeneous) with row and column labels\n",
    "- Any other form of observational / statistical data sets. The data actually need not be labeled at all to be placed into a pandas data structure"
   ]
  },
  {
   "cell_type": "markdown",
   "metadata": {},
   "source": [
    "Pandas 非常适合许多不同类型的数据：\n",
    "\n",
    "- 具有异构类型列的表格数据，如SQL表或Excel电子表格中\n",
    "- 有序和无序（不一定是固定频率）时间序列数据。\n",
    "- 具有行和列标签的任意矩阵数据（同构或异构类型）\n",
    "- 任何其他形式的观察/统计数据集。 实际上，这些数据根本不需要被标记为Pandas数据结构。"
   ]
  },
  {
   "cell_type": "markdown",
   "metadata": {},
   "source": [
    "The two primary data structures of pandas, Series (1-dimensional) and DataFrame (2-dimensional), handle the vast majority of typical use cases in finance, statistics, social science, and many areas of engineering. For R users, DataFrame provides everything that R’s data.frame provides and much more. pandas is built on top of NumPy and is intended to integrate well within a scientific computing environment with many other 3rd party libraries."
   ]
  },
  {
   "cell_type": "markdown",
   "metadata": {},
   "source": [
    "pandas的两个主要数据结构，Series（1维）和 DataFrame（2维），用于处理金融，统计，社会科学和许多工程领域中的绝大多数典型用例。 对于R用户，DataFrame提供R的data.frame提供的所有内容以及更多内容。 pandas建立在NumPy之上，旨在与许多其他第三方库完美地集成在科学计算环境中。\n",
    "\n",
    "Here are just a few of the things that pandas does well:\n",
    "\n",
    "以下是pandas做得很好的一些事情："
   ]
  },
  {
   "cell_type": "markdown",
   "metadata": {},
   "source": [
    "- Easy handling of **missing data** (represented as NaN) in floating point as well as non-floating point data\n",
    "- Size mutability: columns can be **inserted and deleted** from DataFrame and higher dimensional objects\n",
    "- Automatic and explicit **data alignment**: objects can be explicitly aligned to a set of labels, or the user can simply ignore the labels and let Series, DataFrame, etc. automatically align the data for you in computations\n",
    "- Powerful, flexible **group by** functionality to perform split-apply-combine operations on data sets, for both aggregating and transforming data\n",
    "- Make it **easy to convert** ragged, differently-indexed data in other Python and NumPy data structures into DataFrame objects\n",
    "- Intelligent label-based **slicing**, **fancy indexing**, and **subsetting** of large data sets\n",
    "- Intuitive **merging** and **joining** data sets\n",
    "- Flexible **reshaping** and pivoting of data sets\n",
    "- **Hierarchical** labeling of axes (possible to have multiple labels per tick)\n",
    "- Robust IO tools for loading data from **flat files** (CSV and delimited), Excel files, databases, and saving / loading data from the ultrafast **HDF5 format**\n",
    "- **Time series**-specific functionality: date range generation and frequency conversion, moving window statistics, moving window linear regressions, date shifting and lagging, etc."
   ]
  },
  {
   "cell_type": "markdown",
   "metadata": {},
   "source": [
    "- 轻松处理浮点中的**缺失数据**（表示为NaN）以及非浮点数据\n",
    "- 大小可变性：可以从DataFrame和更高维对象**插入和删除**列\n",
    "- 自动和显式**数据对齐**：对象可以显式对齐到一组标签，或者用户可以简单地忽略标签，让Series，DataFrame等在计算中自动对齐数据\n",
    "- 功能强大，灵活的**分组**功能，可对数据集执行拆分应用组合操作，以便聚合和转换数据\n",
    "- 可以**轻松地将**其他Python和NumPy数据结构中的不规则索引数据**转换**为DataFrame对象\n",
    "- 基于智能标签的**切片**，**花式索引**和 大型数据集的**子**集化\n",
    "- 直观的**合并**和**连接**数据集\n",
    "- 灵活的数据集**reshape**和旋转\n",
    "- 轴的**分层**标记（每个刻度可能有多个标签）\n",
    "- 强大的IO工具，用于从**平面文件**（CSV和分隔），Excel文件，数据库加载数据，以及从超快速**HDF5格式**保存/加载数据\n",
    "- **时间序列** - 特定功能：日期范围生成和频率转换，移动窗口统计，移动窗口线性回归，日期转换和滞后等。"
   ]
  },
  {
   "cell_type": "markdown",
   "metadata": {},
   "source": [
    "Many of these principles are here to address the shortcomings frequently experienced using other languages / scientific research environments. For data scientists, working with data is typically divided into multiple stages: munging and cleaning data, analyzing / modeling it, then organizing the results of the analysis into a form suitable for plotting or tabular display. pandas is the ideal tool for all of these tasks."
   ]
  },
  {
   "cell_type": "markdown",
   "metadata": {},
   "source": [
    "其中许多原则旨在解决使用其他语言/科学研究环境时经常遇到的缺点。对于数据科学家来说，处理数据通常分为多个阶段：整理和清理数据，分析/建模数据，然后将分析结果组织成适合绘图或表格显示的形式。pandas是完成所有这些任务的理想工具。"
   ]
  },
  {
   "cell_type": "markdown",
   "metadata": {},
   "source": [
    "Some other notes\n",
    "\n",
    "> - pandas is **fast**. Many of the low-level algorithmic bits have been extensively tweaked in [Cython](http://cython.org/) code. However, as with anything else generalization usually sacrifices performance. So if you focus on one feature for your application you may be able to create a faster specialized tool.\n",
    "> - pandas is a dependency of [statsmodels](http://www.statsmodels.org/stable/index.html), making it an important part of the statistical computing ecosystem in Python.\n",
    "> - pandas has been used extensively in production in financial applications."
   ]
  },
  {
   "cell_type": "markdown",
   "metadata": {},
   "source": [
    "其他一些说明:\n",
    "\n",
    "> - pandas**很快**。许多低级算法位已经在[Cython](http://cython.org/)代码中进行了大量调整。然而，与其他任何事物一样，通常会牺牲性能。因此，如果您专注于应用程序的一个功能，您可以创建一个更快的专用工具。\n",
    "> - pandas是[statsmodels](http://www.statsmodels.org/stable/index.html)的依赖，使其成为Python中统计计算生态系统的重要组成部分。\n",
    "> - 大熊猫已广泛用于金融应用的生产中。"
   ]
  },
  {
   "cell_type": "markdown",
   "metadata": {},
   "source": [
    "Note\n",
    "\n",
    "This documentation assumes general familiarity with NumPy. If you haven’t used NumPy much or at all, do invest some time in [learning about NumPy](http://docs.scipy.org/) first."
   ]
  },
  {
   "cell_type": "markdown",
   "metadata": {},
   "source": [
    "注意\n",
    "本文档假定您对NumPy有一般的了解。如果您还没有使用过[NumPy](http://docs.scipy.org/)请先投入一些时间来[learning NumPy](http://docs.scipy.org/)。"
   ]
  },
  {
   "cell_type": "markdown",
   "metadata": {},
   "source": [
    "# Package overview"
   ]
  },
  {
   "cell_type": "markdown",
   "metadata": {},
   "source": [
    "`pandas` consists of the following things\n",
    "\n",
    "> - A set of labeled array data structures, the primary of which are Series and DataFrame\n",
    "> - Index objects enabling both simple axis indexing and multi-level / hierarchical axis indexing\n",
    "> - An integrated group by engine for aggregating and transforming data sets\n",
    "> - Date range generation (date_range) and custom date offsets enabling the implementation of customized frequencies\n",
    "> - Input/Output tools: loading tabular data from flat files (CSV, delimited, Excel 2003), and saving and loading pandas objects from the fast and efficient PyTables/HDF5 format.\n",
    "> - Memory-efficient “sparse” versions of the standard data structures for storing data that is mostly missing or mostly constant (some fixed value)\n",
    "> - Moving window statistics (rolling mean, rolling standard deviation, etc.)\n",
    "> - Static and moving window linear and [panel regression](http://en.wikipedia.org/wiki/Panel_data)"
   ]
  },
  {
   "cell_type": "markdown",
   "metadata": {},
   "source": [
    "由以下几部分组成\n",
    "\n",
    "> - 一组带标签的数组数据结构，主要是Series和DataFrame\n",
    "> - 索引对象启用简单轴索引和多级/分层轴索引\n",
    "> - 引擎的集成组，用于聚合和转换数据集\n",
    "> - 日期范围生成（date_range）和自定义日期偏移，可实现自定义频率\n",
    "> - 输入/输出工具：从平面文件（CSV，分隔符，Excel 2003）加载表格数据，以及从快速有效的PyTables / HDF5格式保存和加载pandas对象。\n",
    "> - 内存高效的“稀疏”版本的标准数据结构，用于存储大部分缺失或大部分不变的数据（某些固定值）\n",
    "> - 移动窗口统计（滚动平均值，滚动标准偏差等）\n",
    "> - 静态和移动窗口线性和[面板回归](http://en.wikipedia.org/wiki/Panel_data)"
   ]
  },
  {
   "cell_type": "markdown",
   "metadata": {},
   "source": [
    "**Data structures at a glance**\n",
    "\n",
    "| Dimensions | Name      | Description                                                  |\n",
    "| ---------- | --------- | ------------------------------------------------------------ |\n",
    "| 1          | Series    | 1D labeled homogeneously-typed array                         |\n",
    "| 2          | DataFrame | General 2D labeled, size-mutable tabular structure with potentially heterogeneously-typed columns |\n",
    "| 3          | Panel     | General 3D labeled, also size-mutable array                  |"
   ]
  },
  {
   "cell_type": "markdown",
   "metadata": {},
   "source": [
    "## 数据结构一览\n",
    "\n",
    "| 外形尺寸 | 名称   | 描述                                                 |\n",
    "| -------- | ------ | ---------------------------------------------------- |\n",
    "| 1        | Series   | 1D 标记的同类型数组                                   |\n",
    "| 2        | DataFrame | 常规的2D标记的，大小可变的表格结构，具有潜在的异质类型的列 |\n",
    "| 3        | Panel   | 常规的3D标记的，也是大小可变的数组                         |"
   ]
  },
  {
   "cell_type": "markdown",
   "metadata": {},
   "source": [
    "**Why more than 1 data structure?**\n",
    "The best way to think about the pandas data structures is as flexible containers for lower dimensional data. For example, DataFrame is a container for Series, and Panel is a container for DataFrame objects. We would like to be able to insert and remove objects from these containers in a dictionary-like fashion.\n",
    "\n",
    "## 为什么多于 1 种数据结构？\n",
    "考虑pandas数据结构的最佳方式是作为低维数据的灵活容器。例如，DataFrame是Series的容器，Panel是DataFrame对象的容器。我们希望能够以类似字典的方式插入和删除这些容器中的对象。\n",
    "\n",
    "Also, we would like sensible default behaviors for the common API functions which take into account the typical orientation of time series and cross-sectional data sets. When using ndarrays to store 2- and 3-dimensional data, a burden is placed on the user to consider the orientation of the data set when writing functions; axes are considered more or less equivalent (except when C- or Fortran-contiguousness matters for performance). In pandas, the axes are intended to lend more semantic meaning to the data; i.e., for a particular data set there is likely to be a “right” way to orient the data. The goal, then, is to reduce the amount of mental effort required to code up data transformations in downstream functions.\n",
    "\n",
    "此外，我们希望为通用API函数提供合理的默认行为，考虑到时间序列和横截面数据集的典型方向。当使用ndarrays存储2维和3维数据时，在编写函数时用户需要考虑数据集的方向，这会给用户带来负担; axes 轴被认为或多或少相等（除非C-或Fortran-连续性对性能有影响）。在 pandas 中，轴旨在为数据提供更多的语义含义; 即，对于特定数据集，可能存在定向数据的“正确”方式。因此，目标是减少在下游功能中编码数据转换所需的心理努力量。\n",
    "\n",
    "For example, with tabular data (DataFrame) it is more semantically helpful to think of the index (the rows) and the columns rather than axis 0 and axis 1. And iterating through the columns of the DataFrame thus results in more readable code:\n",
    "\n",
    "例如，对于表格数据（DataFrame），考虑索引（行）和列而不是轴0和轴1 在语义上更有帮助。并且迭代 DataFrame 的列因此导致更易读的代码："
   ]
  },
  {
   "cell_type": "markdown",
   "metadata": {},
   "source": [
    "```\n",
    "for col in df.columns:\n",
    "    series = df[col]\n",
    "    # do something with series\n",
    " ```"
   ]
  },
  {
   "cell_type": "markdown",
   "metadata": {},
   "source": [
    "**Mutability and copying of data**\n",
    "\n",
    "All pandas data structures are value-mutable (the values they contain can be altered) but not always size-mutable. The length of a Series cannot be changed, but, for example, columns can be inserted into a DataFrame. However, the vast majority of methods produce new objects and leave the input data untouched. In general, though, we like to **favor immutability** where sensible."
   ]
  },
  {
   "cell_type": "markdown",
   "metadata": {},
   "source": [
    "## 可变性和数据复制\n",
    "所有pandas数据结构都是值可变的（它们包含的值可以改变）但不总是大小可变的。无法更改Series的长度，但是，例如，可以将列插入到DataFrame中。但是，绝大多数方法都会生成新对象并保持输入数据不变。但总的来说，我们喜欢在合理的情况下支持不变性。"
   ]
  },
  {
   "cell_type": "code",
   "execution_count": null,
   "metadata": {},
   "outputs": [],
   "source": []
  }
 ],
 "metadata": {
  "kernelspec": {
   "display_name": "Python 3",
   "language": "python",
   "name": "python3"
  },
  "language_info": {
   "codemirror_mode": {
    "name": "ipython",
    "version": 3
   },
   "file_extension": ".py",
   "mimetype": "text/x-python",
   "name": "python",
   "nbconvert_exporter": "python",
   "pygments_lexer": "ipython3",
   "version": "3.6.6"
  },
  "toc": {
   "base_numbering": 1,
   "nav_menu": {},
   "number_sections": true,
   "sideBar": true,
   "skip_h1_title": false,
   "title_cell": "Table of Contents",
   "title_sidebar": "Contents",
   "toc_cell": false,
   "toc_position": {},
   "toc_section_display": true,
   "toc_window_display": true
  }
 },
 "nbformat": 4,
 "nbformat_minor": 2
}
