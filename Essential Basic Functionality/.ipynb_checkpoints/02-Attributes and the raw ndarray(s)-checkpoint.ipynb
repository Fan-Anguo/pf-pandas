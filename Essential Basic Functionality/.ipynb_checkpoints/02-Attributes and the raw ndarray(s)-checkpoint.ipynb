{
 "cells": [
  {
   "cell_type": "markdown",
   "metadata": {},
   "source": [
    "Attributes and the raw ndarray(s)\n",
    "===="
   ]
  },
  {
   "cell_type": "code",
   "execution_count": 1,
   "metadata": {},
   "outputs": [
    {
     "name": "stderr",
     "output_type": "stream",
     "text": [
      "C:\\ProgramData\\Anaconda3\\lib\\site-packages\\IPython\\core\\interactiveshell.py:2961: FutureWarning: \n",
      "Panel is deprecated and will be removed in a future version.\n",
      "The recommended way to represent these types of 3-dimensional data are with a MultiIndex on a DataFrame, via the Panel.to_frame() method\n",
      "Alternatively, you can use the xarray package http://xarray.pydata.org/en/stable/.\n",
      "Pandas provides a `.to_xarray()` method to help automate this conversion.\n",
      "\n",
      "  exec(code_obj, self.user_global_ns, self.user_ns)\n"
     ]
    }
   ],
   "source": [
    "import numpy as np\n",
    "import pandas as pd\n",
    "\n",
    "index = pd.date_range('1/1/2000', periods=8)\n",
    "\n",
    "s = pd.Series(np.random.randn(5), index=['a', 'b', 'c', 'd', 'e'])\n",
    "\n",
    "df = pd.DataFrame(np.random.randn(8, 3), index=index,\n",
    "                  columns=['A', 'B', 'C'])\n",
    "\n",
    "wp = pd.Panel(np.random.randn(2, 5, 4), items=['Item1', 'Item2'],\n",
    "              major_axis=pd.date_range('1/1/2000', periods=5),\n",
    "              minor_axis=['A', 'B', 'C', 'D'])"
   ]
  },
  {
   "cell_type": "markdown",
   "metadata": {},
   "source": [
    "pandas objects have a number of attributes enabling you to access the metadata\n",
    "\n",
    "pandas 对象有许多属性，使您能够访问元数据:\n",
    "\n",
    "> - **shape**: gives the axis dimensions of the object, consistent with ndarray\n",
    "> - Axis labels\n",
    ">   - **Series**: *index* (only axis)\n",
    ">   - **DataFrame**: *index* (rows) and *columns*\n",
    ">   - **Panel**: *items*, *major_axis*, and *minor_axis*\n",
    "\n",
    "Note, **these attributes can be safely assigned to**!\n",
    "\n",
    "注意：**注意，可以安全地给这些属性分配值！**"
   ]
  },
  {
   "cell_type": "code",
   "execution_count": 2,
   "metadata": {},
   "outputs": [
    {
     "data": {
      "text/html": [
       "<div>\n",
       "<style scoped>\n",
       "    .dataframe tbody tr th:only-of-type {\n",
       "        vertical-align: middle;\n",
       "    }\n",
       "\n",
       "    .dataframe tbody tr th {\n",
       "        vertical-align: top;\n",
       "    }\n",
       "\n",
       "    .dataframe thead th {\n",
       "        text-align: right;\n",
       "    }\n",
       "</style>\n",
       "<table border=\"1\" class=\"dataframe\">\n",
       "  <thead>\n",
       "    <tr style=\"text-align: right;\">\n",
       "      <th></th>\n",
       "      <th>A</th>\n",
       "      <th>B</th>\n",
       "      <th>C</th>\n",
       "    </tr>\n",
       "  </thead>\n",
       "  <tbody>\n",
       "    <tr>\n",
       "      <th>2000-01-01</th>\n",
       "      <td>0.394674</td>\n",
       "      <td>0.433492</td>\n",
       "      <td>2.023796</td>\n",
       "    </tr>\n",
       "    <tr>\n",
       "      <th>2000-01-02</th>\n",
       "      <td>-0.528558</td>\n",
       "      <td>-0.402739</td>\n",
       "      <td>-0.930417</td>\n",
       "    </tr>\n",
       "  </tbody>\n",
       "</table>\n",
       "</div>"
      ],
      "text/plain": [
       "                   A         B         C\n",
       "2000-01-01  0.394674  0.433492  2.023796\n",
       "2000-01-02 -0.528558 -0.402739 -0.930417"
      ]
     },
     "execution_count": 2,
     "metadata": {},
     "output_type": "execute_result"
    }
   ],
   "source": [
    "df[:2]"
   ]
  },
  {
   "cell_type": "code",
   "execution_count": 4,
   "metadata": {},
   "outputs": [
    {
     "data": {
      "text/html": [
       "<div>\n",
       "<style scoped>\n",
       "    .dataframe tbody tr th:only-of-type {\n",
       "        vertical-align: middle;\n",
       "    }\n",
       "\n",
       "    .dataframe tbody tr th {\n",
       "        vertical-align: top;\n",
       "    }\n",
       "\n",
       "    .dataframe thead th {\n",
       "        text-align: right;\n",
       "    }\n",
       "</style>\n",
       "<table border=\"1\" class=\"dataframe\">\n",
       "  <thead>\n",
       "    <tr style=\"text-align: right;\">\n",
       "      <th></th>\n",
       "      <th>a</th>\n",
       "      <th>b</th>\n",
       "      <th>c</th>\n",
       "    </tr>\n",
       "  </thead>\n",
       "  <tbody>\n",
       "    <tr>\n",
       "      <th>2000-01-01</th>\n",
       "      <td>0.394674</td>\n",
       "      <td>0.433492</td>\n",
       "      <td>2.023796</td>\n",
       "    </tr>\n",
       "    <tr>\n",
       "      <th>2000-01-02</th>\n",
       "      <td>-0.528558</td>\n",
       "      <td>-0.402739</td>\n",
       "      <td>-0.930417</td>\n",
       "    </tr>\n",
       "    <tr>\n",
       "      <th>2000-01-03</th>\n",
       "      <td>0.917812</td>\n",
       "      <td>-0.787132</td>\n",
       "      <td>-0.162575</td>\n",
       "    </tr>\n",
       "    <tr>\n",
       "      <th>2000-01-04</th>\n",
       "      <td>0.256214</td>\n",
       "      <td>-0.171129</td>\n",
       "      <td>-0.355904</td>\n",
       "    </tr>\n",
       "    <tr>\n",
       "      <th>2000-01-05</th>\n",
       "      <td>1.298942</td>\n",
       "      <td>0.735948</td>\n",
       "      <td>-0.207659</td>\n",
       "    </tr>\n",
       "    <tr>\n",
       "      <th>2000-01-06</th>\n",
       "      <td>0.896531</td>\n",
       "      <td>1.283653</td>\n",
       "      <td>-0.003820</td>\n",
       "    </tr>\n",
       "    <tr>\n",
       "      <th>2000-01-07</th>\n",
       "      <td>0.388685</td>\n",
       "      <td>-0.715222</td>\n",
       "      <td>-1.152511</td>\n",
       "    </tr>\n",
       "    <tr>\n",
       "      <th>2000-01-08</th>\n",
       "      <td>0.769418</td>\n",
       "      <td>1.378707</td>\n",
       "      <td>0.206160</td>\n",
       "    </tr>\n",
       "  </tbody>\n",
       "</table>\n",
       "</div>"
      ],
      "text/plain": [
       "                   a         b         c\n",
       "2000-01-01  0.394674  0.433492  2.023796\n",
       "2000-01-02 -0.528558 -0.402739 -0.930417\n",
       "2000-01-03  0.917812 -0.787132 -0.162575\n",
       "2000-01-04  0.256214 -0.171129 -0.355904\n",
       "2000-01-05  1.298942  0.735948 -0.207659\n",
       "2000-01-06  0.896531  1.283653 -0.003820\n",
       "2000-01-07  0.388685 -0.715222 -1.152511\n",
       "2000-01-08  0.769418  1.378707  0.206160"
      ]
     },
     "execution_count": 4,
     "metadata": {},
     "output_type": "execute_result"
    }
   ],
   "source": [
    "df.columns = [x.lower() for x in df.columns]\n",
    "df"
   ]
  },
  {
   "cell_type": "markdown",
   "metadata": {},
   "source": [
    "To get the actual data inside a data structure, one need only access the **values** property:\n",
    "\n",
    "要获取数据结构中的实际数据，只需访问** values **属性："
   ]
  },
  {
   "cell_type": "code",
   "execution_count": 6,
   "metadata": {},
   "outputs": [
    {
     "data": {
      "text/plain": [
       "array([2.4867193 , 0.01745447, 0.14298012, 1.20575426, 0.59399626])"
      ]
     },
     "execution_count": 6,
     "metadata": {},
     "output_type": "execute_result"
    }
   ],
   "source": [
    "s.values"
   ]
  },
  {
   "cell_type": "code",
   "execution_count": 7,
   "metadata": {},
   "outputs": [
    {
     "data": {
      "text/plain": [
       "array([[ 0.39467431,  0.43349235,  2.02379618],\n",
       "       [-0.528558  , -0.40273923, -0.93041671],\n",
       "       [ 0.91781164, -0.78713182, -0.16257453],\n",
       "       [ 0.25621413, -0.17112861, -0.35590385],\n",
       "       [ 1.29894221,  0.73594835, -0.20765854],\n",
       "       [ 0.89653072,  1.28365261, -0.0038204 ],\n",
       "       [ 0.38868505, -0.71522216, -1.1525112 ],\n",
       "       [ 0.76941786,  1.3787074 ,  0.20615985]])"
      ]
     },
     "execution_count": 7,
     "metadata": {},
     "output_type": "execute_result"
    }
   ],
   "source": [
    "df.values"
   ]
  },
  {
   "cell_type": "code",
   "execution_count": 8,
   "metadata": {},
   "outputs": [
    {
     "data": {
      "text/plain": [
       "array([[[-0.17074669,  0.66851919, -1.53978767, -0.11472463],\n",
       "        [ 0.63384452, -2.47289731, -1.7582439 , -0.14286273],\n",
       "        [ 0.13781111, -0.67006671,  0.95351074, -0.56746184],\n",
       "        [-0.27862113,  0.47679002, -1.46929364,  1.14373804],\n",
       "        [-0.83308108,  1.16399997,  1.34573088, -1.39655571]],\n",
       "\n",
       "       [[ 0.93904349, -1.09245451, -0.35381776, -0.97695504],\n",
       "        [-1.83692393, -1.56439524,  1.46279797, -0.62253708],\n",
       "        [ 1.14304908, -0.49556513, -1.15649517,  0.7763023 ],\n",
       "        [-1.49528171,  0.07482871, -0.45071584, -0.79840014],\n",
       "        [-0.04749522,  1.10373656,  1.78909911,  0.51019508]]])"
      ]
     },
     "execution_count": 8,
     "metadata": {},
     "output_type": "execute_result"
    }
   ],
   "source": [
    "wp.values"
   ]
  },
  {
   "cell_type": "markdown",
   "metadata": {},
   "source": [
    "If a DataFrame or Panel contains homogeneously-typed data, the ndarray can actually be modified in-place, and the changes will be reflected in the data structure. For heterogeneous data (e.g. some of the DataFrame’s columns are not all the same dtype), this will not be the case. The values attribute itself, unlike the axis labels, cannot be assigned to.\n",
    "\n",
    "如果DataFrame或Panel包含同类型数据，则ndarray实际上可以就地修改，并且更改将反映在数据结构中。 对于异构数据（例如，某些DataFrame的列不是完全相同的dtype），情况并非如此。 与轴标签不同，无法给值属性本身分配值。"
   ]
  },
  {
   "cell_type": "markdown",
   "metadata": {},
   "source": [
    "**Note** When working with heterogeneous data, the dtype of the resulting ndarray will be chosen to accommodate all of the data involved. For example, if strings are involved, the result will be of object dtype. If there are only floats and integers, the resulting array will be of float dtype.\n",
    "\n",
    "**注意** 使用异构数据时，将选择生成的ndarray的dtype以容纳所涉及的所有数据。 例如，如果涉及字符串，则结果将是对象dtype。 如果只有浮点数和整数，则生成的数组将为float dtype。"
   ]
  },
  {
   "cell_type": "code",
   "execution_count": null,
   "metadata": {},
   "outputs": [],
   "source": []
  }
 ],
 "metadata": {
  "kernelspec": {
   "display_name": "Python 3",
   "language": "python",
   "name": "python3"
  },
  "language_info": {
   "codemirror_mode": {
    "name": "ipython",
    "version": 3
   },
   "file_extension": ".py",
   "mimetype": "text/x-python",
   "name": "python",
   "nbconvert_exporter": "python",
   "pygments_lexer": "ipython3",
   "version": "3.6.6"
  },
  "toc": {
   "nav_menu": {},
   "number_sections": true,
   "sideBar": true,
   "skip_h1_title": false,
   "title_cell": "Table of Contents",
   "title_sidebar": "Contents",
   "toc_cell": false,
   "toc_position": {},
   "toc_section_display": true,
   "toc_window_display": false
  }
 },
 "nbformat": 4,
 "nbformat_minor": 2
}
