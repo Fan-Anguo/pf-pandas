{
 "cells": [
  {
   "cell_type": "markdown",
   "metadata": {},
   "source": [
    "Descriptive statistics\n",
    "===="
   ]
  },
  {
   "cell_type": "markdown",
   "metadata": {},
   "source": [
    "A large number of methods for computing descriptive statistics and other related operations on [Series](http://pandas.pydata.org/pandas-docs/version/0.20.3/api.html#api-series-stats), [DataFrame](http://pandas.pydata.org/pandas-docs/version/0.20.3/api.html#api-dataframe-stats), and [Panel](http://pandas.pydata.org/pandas-docs/version/0.20.3/api.html#api-panel-stats). Most of these are aggregations (hence producing a lower-dimensional result) like [`sum()`](http://pandas.pydata.org/pandas-docs/version/0.20.3/generated/pandas.DataFrame.sum.html#pandas.DataFrame.sum), [`mean()`](http://pandas.pydata.org/pandas-docs/version/0.20.3/generated/pandas.DataFrame.mean.html#pandas.DataFrame.mean), and [`quantile()`](http://pandas.pydata.org/pandas-docs/version/0.20.3/generated/pandas.DataFrame.quantile.html#pandas.DataFrame.quantile), but some of them, like [`cumsum()`](http://pandas.pydata.org/pandas-docs/version/0.20.3/generated/pandas.DataFrame.cumsum.html#pandas.DataFrame.cumsum) and [`cumprod()`](http://pandas.pydata.org/pandas-docs/version/0.20.3/generated/pandas.DataFrame.cumprod.html#pandas.DataFrame.cumprod), produce an object of the same size. Generally speaking, these methods take an **axis** argument, just like *ndarray.{sum, std, ...}*, but the axis can be specified by name or integer:\n",
    "\n",
    "> - **Series**: no axis argument needed\n",
    "> - **DataFrame**: “index” (axis=0, default), “columns” (axis=1)\n",
    "> - **Panel**: “items” (axis=0), “major” (axis=1, default), “minor” (axis=2)\n",
    "\n",
    "For example:"
   ]
  },
  {
   "cell_type": "markdown",
   "metadata": {},
   "source": [
    " [Series](http://pandas.pydata.org/pandas-docs/version/0.20.3/api.html#api-series-stats), [DataFrame](http://pandas.pydata.org/pandas-docs/version/0.20.3/api.html#api-dataframe-stats), 和 [Panel](http://pandas.pydata.org/pandas-docs/version/0.20.3/api.html#api-panel-stats)有用于计算描述性统计和其他相关操作的大量方法。 像 [`sum()`](http://pandas.pydata.org/pandas-docs/version/0.20.3/generated/pandas.DataFrame.sum.html#pandas.DataFrame.sum), [`mean()`](http://pandas.pydata.org/pandas-docs/version/0.20.3/generated/pandas.DataFrame.mean.html#pandas.DataFrame.mean), and [`quantile()`](http://pandas.pydata.org/pandas-docs/version/0.20.3/generated/pandas.DataFrame.quantile.html#pandas.DataFrame.quantile)等都是聚合（因此产生了一个低维度的结果）。但其它一些，像 [`cumsum()`](http://pandas.pydata.org/pandas-docs/version/0.20.3/generated/pandas.DataFrame.cumsum.html#pandas.DataFrame.cumsum) 和 [`cumprod()`](http://pandas.pydata.org/pandas-docs/version/0.20.3/generated/pandas.DataFrame.cumprod.html#pandas.DataFrame.cumprod),生成一个大小相同的对象。一般来说，这些方法接受一个 **axis** 参数，就像*ndarray.{sum, std, ...}*，但 axis 可以通过名称或者整数指定:\n",
    "\n",
    "> - **Series**: no axis argument needed，不需要axis参数。\n",
    "> - **DataFrame**: “index” (axis=0, default), “columns” (axis=1)\n",
    "> - **Panel**: “items” (axis=0), “major” (axis=1, default), “minor” (axis=2)\n",
    "\n",
    "例如："
   ]
  },
  {
   "cell_type": "code",
   "execution_count": 7,
   "metadata": {},
   "outputs": [
    {
     "data": {
      "text/html": [
       "<div>\n",
       "<style scoped>\n",
       "    .dataframe tbody tr th:only-of-type {\n",
       "        vertical-align: middle;\n",
       "    }\n",
       "\n",
       "    .dataframe tbody tr th {\n",
       "        vertical-align: top;\n",
       "    }\n",
       "\n",
       "    .dataframe thead th {\n",
       "        text-align: right;\n",
       "    }\n",
       "</style>\n",
       "<table border=\"1\" class=\"dataframe\">\n",
       "  <thead>\n",
       "    <tr style=\"text-align: right;\">\n",
       "      <th></th>\n",
       "      <th>one</th>\n",
       "      <th>two</th>\n",
       "      <th>three</th>\n",
       "    </tr>\n",
       "  </thead>\n",
       "  <tbody>\n",
       "    <tr>\n",
       "      <th>a</th>\n",
       "      <td>-0.213832</td>\n",
       "      <td>2.231999</td>\n",
       "      <td>NaN</td>\n",
       "    </tr>\n",
       "    <tr>\n",
       "      <th>b</th>\n",
       "      <td>0.440781</td>\n",
       "      <td>0.917159</td>\n",
       "      <td>1.161711</td>\n",
       "    </tr>\n",
       "    <tr>\n",
       "      <th>c</th>\n",
       "      <td>-0.623836</td>\n",
       "      <td>1.168000</td>\n",
       "      <td>-1.982916</td>\n",
       "    </tr>\n",
       "    <tr>\n",
       "      <th>d</th>\n",
       "      <td>NaN</td>\n",
       "      <td>0.681627</td>\n",
       "      <td>0.345367</td>\n",
       "    </tr>\n",
       "  </tbody>\n",
       "</table>\n",
       "</div>"
      ],
      "text/plain": [
       "        one       two     three\n",
       "a -0.213832  2.231999       NaN\n",
       "b  0.440781  0.917159  1.161711\n",
       "c -0.623836  1.168000 -1.982916\n",
       "d       NaN  0.681627  0.345367"
      ]
     },
     "execution_count": 7,
     "metadata": {},
     "output_type": "execute_result"
    }
   ],
   "source": [
    "import numpy as np\n",
    "import pandas as pd\n",
    "\n",
    "df = pd.DataFrame({'one' : pd.Series(np.random.randn(3), index=['a', 'b', 'c']),\n",
    "                    'two' : pd.Series(np.random.randn(4), index=['a', 'b', 'c', 'd']),\n",
    "                    'three' : pd.Series(np.random.randn(3), index=['b', 'c', 'd'])})\n",
    "    \n",
    "df"
   ]
  },
  {
   "cell_type": "markdown",
   "metadata": {},
   "source": [
    "df.mean(0)"
   ]
  },
  {
   "cell_type": "code",
   "execution_count": 8,
   "metadata": {},
   "outputs": [
    {
     "data": {
      "text/plain": [
       "a    1.009084\n",
       "b    0.839884\n",
       "c   -0.479584\n",
       "d    0.513497\n",
       "dtype: float64"
      ]
     },
     "execution_count": 8,
     "metadata": {},
     "output_type": "execute_result"
    }
   ],
   "source": [
    "df.mean(1)"
   ]
  },
  {
   "cell_type": "markdown",
   "metadata": {},
   "source": [
    "All such methods have a skipna option signaling whether to exclude missing data (True by default):\n",
    "\n",
    "所有这些方法都有一个skipna选项，用于显示是否排除缺失的数据（默认是 True）:"
   ]
  },
  {
   "cell_type": "code",
   "execution_count": 9,
   "metadata": {},
   "outputs": [
    {
     "data": {
      "text/plain": [
       "one           NaN\n",
       "two      4.998785\n",
       "three         NaN\n",
       "dtype: float64"
      ]
     },
     "execution_count": 9,
     "metadata": {},
     "output_type": "execute_result"
    }
   ],
   "source": [
    "df.sum(0, skipna=False)"
   ]
  },
  {
   "cell_type": "code",
   "execution_count": 10,
   "metadata": {},
   "outputs": [
    {
     "data": {
      "text/plain": [
       "a    2.018167\n",
       "b    2.519651\n",
       "c   -1.438753\n",
       "d    1.026994\n",
       "dtype: float64"
      ]
     },
     "execution_count": 10,
     "metadata": {},
     "output_type": "execute_result"
    }
   ],
   "source": [
    "df.sum(axis=1, skipna=True)"
   ]
  },
  {
   "cell_type": "markdown",
   "metadata": {},
   "source": [
    "Combined with the broadcasting / arithmetic behavior, one can describe various statistical procedures, like standardization (rendering data zero mean and standard deviation 1), very concisely:\n",
    "\n",
    "结合广播/算术行为，可以非常简洁地描述各种统计过程，如标准化（绘制数据零均值和标准差1）："
   ]
  },
  {
   "cell_type": "code",
   "execution_count": 13,
   "metadata": {},
   "outputs": [
    {
     "data": {
      "text/html": [
       "<div>\n",
       "<style scoped>\n",
       "    .dataframe tbody tr th:only-of-type {\n",
       "        vertical-align: middle;\n",
       "    }\n",
       "\n",
       "    .dataframe tbody tr th {\n",
       "        vertical-align: top;\n",
       "    }\n",
       "\n",
       "    .dataframe thead th {\n",
       "        text-align: right;\n",
       "    }\n",
       "</style>\n",
       "<table border=\"1\" class=\"dataframe\">\n",
       "  <thead>\n",
       "    <tr style=\"text-align: right;\">\n",
       "      <th></th>\n",
       "      <th>one</th>\n",
       "      <th>two</th>\n",
       "      <th>three</th>\n",
       "    </tr>\n",
       "  </thead>\n",
       "  <tbody>\n",
       "    <tr>\n",
       "      <th>a</th>\n",
       "      <td>-0.151845</td>\n",
       "      <td>1.435446</td>\n",
       "      <td>NaN</td>\n",
       "    </tr>\n",
       "    <tr>\n",
       "      <th>b</th>\n",
       "      <td>1.067238</td>\n",
       "      <td>-0.485939</td>\n",
       "      <td>0.809137</td>\n",
       "    </tr>\n",
       "    <tr>\n",
       "      <th>c</th>\n",
       "      <td>-0.915394</td>\n",
       "      <td>-0.119384</td>\n",
       "      <td>-1.117992</td>\n",
       "    </tr>\n",
       "    <tr>\n",
       "      <th>d</th>\n",
       "      <td>NaN</td>\n",
       "      <td>-0.830124</td>\n",
       "      <td>0.308855</td>\n",
       "    </tr>\n",
       "  </tbody>\n",
       "</table>\n",
       "</div>"
      ],
      "text/plain": [
       "        one       two     three\n",
       "a -0.151845  1.435446       NaN\n",
       "b  1.067238 -0.485939  0.809137\n",
       "c -0.915394 -0.119384 -1.117992\n",
       "d       NaN -0.830124  0.308855"
      ]
     },
     "execution_count": 13,
     "metadata": {},
     "output_type": "execute_result"
    }
   ],
   "source": [
    "ts_stand = (df - df.mean()) / df.std()\n",
    "\n",
    "ts_stand"
   ]
  },
  {
   "cell_type": "code",
   "execution_count": 12,
   "metadata": {},
   "outputs": [
    {
     "data": {
      "text/plain": [
       "one      1.0\n",
       "two      1.0\n",
       "three    1.0\n",
       "dtype: float64"
      ]
     },
     "execution_count": 12,
     "metadata": {},
     "output_type": "execute_result"
    }
   ],
   "source": [
    "ts_stand.std()"
   ]
  },
  {
   "cell_type": "code",
   "execution_count": 14,
   "metadata": {},
   "outputs": [],
   "source": [
    "xs_stand = df.sub(df.mean(1), axis=0).div(df.std(1), axis=0)"
   ]
  },
  {
   "cell_type": "code",
   "execution_count": 15,
   "metadata": {},
   "outputs": [
    {
     "data": {
      "text/plain": [
       "a    1.0\n",
       "b    1.0\n",
       "c    1.0\n",
       "d    1.0\n",
       "dtype: float64"
      ]
     },
     "execution_count": 15,
     "metadata": {},
     "output_type": "execute_result"
    }
   ],
   "source": [
    "xs_stand.std(1)"
   ]
  },
  {
   "cell_type": "markdown",
   "metadata": {},
   "source": [
    "Note that methods like [`cumsum()`](http://pandas.pydata.org/pandas-docs/version/0.20.3/generated/pandas.DataFrame.cumsum.html#pandas.DataFrame.cumsum) and [`cumprod()`](http://pandas.pydata.org/pandas-docs/version/0.20.3/generated/pandas.DataFrame.cumprod.html#pandas.DataFrame.cumprod) preserve the location of `NaN` values. This is somewhat different from[`expanding()`](http://pandas.pydata.org/pandas-docs/version/0.20.3/generated/pandas.DataFrame.expanding.html#pandas.DataFrame.expanding) and [`rolling()`](http://pandas.pydata.org/pandas-docs/version/0.20.3/generated/pandas.DataFrame.rolling.html#pandas.DataFrame.rolling). For more details please see [this note](http://pandas.pydata.org/pandas-docs/version/0.20.3/computation.html#stats-moments-expanding-note)."
   ]
  },
  {
   "cell_type": "markdown",
   "metadata": {},
   "source": [
    "**注意：** [`cumsum()`](http://pandas.pydata.org/pandas-docs/version/0.20.3/generated/pandas.DataFrame.cumsum.html#pandas.DataFrame.cumsum) 和 [`cumprod()`](http://pandas.pydata.org/pandas-docs/version/0.20.3/generated/pandas.DataFrame.cumprod.html#pandas.DataFrame.cumprod) 方法保留 `NaN` 值的位置. 这与[`expanding()`](http://pandas.pydata.org/pandas-docs/version/0.20.3/generated/pandas.DataFrame.expanding.html#pandas.DataFrame.expanding) 和 [`rolling()`](http://pandas.pydata.org/pandas-docs/version/0.20.3/generated/pandas.DataFrame.rolling.html#pandas.DataFrame.rolling)有点不同。更详细的说明请参见 [this note](http://pandas.pydata.org/pandas-docs/version/0.20.3/computation.html#stats-moments-expanding-note)."
   ]
  },
  {
   "cell_type": "code",
   "execution_count": 16,
   "metadata": {},
   "outputs": [
    {
     "data": {
      "text/html": [
       "<div>\n",
       "<style scoped>\n",
       "    .dataframe tbody tr th:only-of-type {\n",
       "        vertical-align: middle;\n",
       "    }\n",
       "\n",
       "    .dataframe tbody tr th {\n",
       "        vertical-align: top;\n",
       "    }\n",
       "\n",
       "    .dataframe thead th {\n",
       "        text-align: right;\n",
       "    }\n",
       "</style>\n",
       "<table border=\"1\" class=\"dataframe\">\n",
       "  <thead>\n",
       "    <tr style=\"text-align: right;\">\n",
       "      <th></th>\n",
       "      <th>one</th>\n",
       "      <th>two</th>\n",
       "      <th>three</th>\n",
       "    </tr>\n",
       "  </thead>\n",
       "  <tbody>\n",
       "    <tr>\n",
       "      <th>a</th>\n",
       "      <td>-0.213832</td>\n",
       "      <td>2.231999</td>\n",
       "      <td>NaN</td>\n",
       "    </tr>\n",
       "    <tr>\n",
       "      <th>b</th>\n",
       "      <td>0.226949</td>\n",
       "      <td>3.149159</td>\n",
       "      <td>1.161711</td>\n",
       "    </tr>\n",
       "    <tr>\n",
       "      <th>c</th>\n",
       "      <td>-0.396887</td>\n",
       "      <td>4.317158</td>\n",
       "      <td>-0.821205</td>\n",
       "    </tr>\n",
       "    <tr>\n",
       "      <th>d</th>\n",
       "      <td>NaN</td>\n",
       "      <td>4.998785</td>\n",
       "      <td>-0.475838</td>\n",
       "    </tr>\n",
       "  </tbody>\n",
       "</table>\n",
       "</div>"
      ],
      "text/plain": [
       "        one       two     three\n",
       "a -0.213832  2.231999       NaN\n",
       "b  0.226949  3.149159  1.161711\n",
       "c -0.396887  4.317158 -0.821205\n",
       "d       NaN  4.998785 -0.475838"
      ]
     },
     "execution_count": 16,
     "metadata": {},
     "output_type": "execute_result"
    }
   ],
   "source": [
    "df.cumsum()"
   ]
  },
  {
   "cell_type": "markdown",
   "metadata": {},
   "source": [
    "Here is a quick reference summary table of common functions. Each also takes an optional `level` parameter which applies only if the object has a [hierarchical index](http://pandas.pydata.org/pandas-docs/version/0.20.3/advanced.html#advanced-hierarchical)."
   ]
  },
  {
   "cell_type": "markdown",
   "metadata": {},
   "source": [
    "下面是常用函数的快速参考汇总表。每个都接受一个可选的`level`参数，该参数仅在对象具有 [hierarchical index](http://pandas.pydata.org/pandas-docs/version/0.20.3/advanced.html#advanced-hierarchical)（多层次索引）时才适用。"
   ]
  },
  {
   "cell_type": "markdown",
   "metadata": {},
   "source": [
    "| Function   | Description                                |\n",
    "| ---------- | ------------------------------------------ |\n",
    "| `count`    | Number of non-null observations            |\n",
    "| `sum`      | Sum of values                              |\n",
    "| `mean`     | Mean of values                             |\n",
    "| `mad`      | Mean absolute deviation                    |\n",
    "| `median`   | Arithmetic median of values                |\n",
    "| `min`      | Minimum                                    |\n",
    "| `max`      | Maximum                                    |\n",
    "| `mode`     | Mode                                       |\n",
    "| `abs`      | Absolute Value                             |\n",
    "| `prod`     | Product of values                          |\n",
    "| `std`      | Bessel-corrected sample standard deviation |\n",
    "| `var`      | Unbiased variance                          |\n",
    "| `sem`      | Standard error of the mean                 |\n",
    "| `skew`     | Sample skewness (3rd moment)               |\n",
    "| `kurt`     | Sample kurtosis (4th moment)               |\n",
    "| `quantile` | Sample quantile (value at %)               |\n",
    "| `cumsum`   | Cumulative sum                             |\n",
    "| `cumprod`  | Cumulative product                         |\n",
    "| `cummax`   | Cumulative maximum                         |\n",
    "| `cummin`   | Cumulative minimum                         |"
   ]
  },
  {
   "cell_type": "markdown",
   "metadata": {},
   "source": [
    "Note that by chance some NumPy methods, like `mean`, `std`, and `sum`, will exclude NAs on Series input by default:"
   ]
  },
  {
   "cell_type": "markdown",
   "metadata": {},
   "source": [
    "请注意，默认情况下，一些NumPy方法（如`mean`，`std`和`sum`）将排除系列输入上的NAs："
   ]
  },
  {
   "cell_type": "code",
   "execution_count": 17,
   "metadata": {},
   "outputs": [
    {
     "data": {
      "text/plain": [
       "-0.13229579103157632"
      ]
     },
     "execution_count": 17,
     "metadata": {},
     "output_type": "execute_result"
    }
   ],
   "source": [
    "np.mean(df['one'])"
   ]
  },
  {
   "cell_type": "code",
   "execution_count": 18,
   "metadata": {},
   "outputs": [
    {
     "data": {
      "text/plain": [
       "nan"
      ]
     },
     "execution_count": 18,
     "metadata": {},
     "output_type": "execute_result"
    }
   ],
   "source": [
    "np.mean(df['one'].values)"
   ]
  },
  {
   "cell_type": "markdown",
   "metadata": {},
   "source": [
    "`Series` also has a method [`nunique()`](http://pandas.pydata.org/pandas-docs/version/0.20.3/generated/pandas.Series.nunique.html#pandas.Series.nunique) which will return the number of unique non-null values:"
   ]
  },
  {
   "cell_type": "markdown",
   "metadata": {},
   "source": [
    "`Series` 也有一个方法 [`nunique()`](http://pandas.pydata.org/pandas-docs/version/0.20.3/generated/pandas.Series.nunique.html#pandas.Series.nunique) ，该方法返回唯一`non-null`（非空）值的数量："
   ]
  },
  {
   "cell_type": "code",
   "execution_count": 19,
   "metadata": {},
   "outputs": [],
   "source": [
    "series = pd.Series(np.random.randn(500))"
   ]
  },
  {
   "cell_type": "code",
   "execution_count": 20,
   "metadata": {},
   "outputs": [],
   "source": [
    "series[20:500] = np.nan"
   ]
  },
  {
   "cell_type": "code",
   "execution_count": 21,
   "metadata": {},
   "outputs": [],
   "source": [
    "series[10:20]  = 5"
   ]
  },
  {
   "cell_type": "code",
   "execution_count": 22,
   "metadata": {},
   "outputs": [
    {
     "data": {
      "text/plain": [
       "11"
      ]
     },
     "execution_count": 22,
     "metadata": {},
     "output_type": "execute_result"
    }
   ],
   "source": [
    "series.nunique()"
   ]
  },
  {
   "cell_type": "code",
   "execution_count": null,
   "metadata": {},
   "outputs": [],
   "source": []
  }
 ],
 "metadata": {
  "kernelspec": {
   "display_name": "Python 3",
   "language": "python",
   "name": "python3"
  },
  "language_info": {
   "codemirror_mode": {
    "name": "ipython",
    "version": 3
   },
   "file_extension": ".py",
   "mimetype": "text/x-python",
   "name": "python",
   "nbconvert_exporter": "python",
   "pygments_lexer": "ipython3",
   "version": "3.6.6"
  },
  "toc": {
   "nav_menu": {},
   "number_sections": true,
   "sideBar": true,
   "skip_h1_title": false,
   "title_cell": "Table of Contents",
   "title_sidebar": "Contents",
   "toc_cell": false,
   "toc_position": {},
   "toc_section_display": true,
   "toc_window_display": false
  }
 },
 "nbformat": 4,
 "nbformat_minor": 2
}
