{
 "cells": [
  {
   "cell_type": "markdown",
   "metadata": {},
   "source": [
    "Reindexing and altering labels\n",
    "====\n",
    "**重建索引和变更标签**"
   ]
  },
  {
   "cell_type": "markdown",
   "metadata": {},
   "source": [
    "[`reindex()`](http://pandas.pydata.org/pandas-docs/version/0.20.3/generated/pandas.Series.reindex.html#pandas.Series.reindex) is the fundamental data alignment method in pandas. It is used to implement nearly all other features relying on label-alignment functionality. To *reindex* means to conform the data to match a given set of labels along a particular axis. This accomplishes several things:\n",
    "\n",
    "[`reindex()`](http://pandas.pydata.org/pandas-docs/version/0.20.3/generated/pandas.Series.reindex.html#pandas.Series.reindex)是pandas中基本的数据对齐方法。它用于实现几乎所有依赖于标签对齐功能的其他功能。要*重建索引*意味着使数据符合以匹配特定轴上的给定标签集。这完成了几件事：\n",
    "\n",
    "> - Reorders the existing data to match a new set of labels\n",
    "> - Inserts missing value (NA) markers in label locations where no data for that label existed\n",
    "> - If specified, **fill** data for missing labels using logic (highly relevant to working with time series data)\n",
    "\n",
    "> - 重新排序现有数据以匹配一组新标签\n",
    "> - 在标签位置插入缺失值（NA）标记，其中不存在该标签的数据\n",
    "> - 如果指定，使用逻辑 **fill** 缺失标签的数据（与使用时间序列数据高度相关）\n",
    "\n",
    "Here is a simple example:\n",
    "\n",
    "下面是一个简单的例子："
   ]
  },
  {
   "cell_type": "code",
   "execution_count": 1,
   "metadata": {},
   "outputs": [],
   "source": [
    "import numpy as np\n",
    "import pandas as pd"
   ]
  },
  {
   "cell_type": "code",
   "execution_count": 2,
   "metadata": {
    "scrolled": true
   },
   "outputs": [
    {
     "data": {
      "text/plain": [
       "a   -0.318634\n",
       "b    0.127459\n",
       "c    1.425267\n",
       "d    2.209594\n",
       "e    0.979798\n",
       "dtype: float64"
      ]
     },
     "execution_count": 2,
     "metadata": {},
     "output_type": "execute_result"
    }
   ],
   "source": [
    "s = pd.Series(np.random.randn(5), index=['a', 'b', 'c', 'd', 'e'])\n",
    "\n",
    "s"
   ]
  },
  {
   "cell_type": "code",
   "execution_count": 3,
   "metadata": {},
   "outputs": [
    {
     "data": {
      "text/plain": [
       "e    0.979798\n",
       "b    0.127459\n",
       "f         NaN\n",
       "d    2.209594\n",
       "dtype: float64"
      ]
     },
     "execution_count": 3,
     "metadata": {},
     "output_type": "execute_result"
    }
   ],
   "source": [
    "s.reindex(['e', 'b', 'f', 'd'])"
   ]
  },
  {
   "cell_type": "markdown",
   "metadata": {},
   "source": [
    "Here, the `f` label was not contained in the Series and hence appears as `NaN` in the result.\n",
    "\n",
    "With a DataFrame, you can simultaneously reindex the index and columns:\n",
    "\n",
    "这里，`f`标签没有包含在Series中，所以在结果中显示为`NaN`。\n",
    "\n",
    "对于DataFrame，你可以同时重建索引和列："
   ]
  },
  {
   "cell_type": "code",
   "execution_count": 4,
   "metadata": {
    "scrolled": true
   },
   "outputs": [
    {
     "data": {
      "text/html": [
       "<div>\n",
       "<style scoped>\n",
       "    .dataframe tbody tr th:only-of-type {\n",
       "        vertical-align: middle;\n",
       "    }\n",
       "\n",
       "    .dataframe tbody tr th {\n",
       "        vertical-align: top;\n",
       "    }\n",
       "\n",
       "    .dataframe thead th {\n",
       "        text-align: right;\n",
       "    }\n",
       "</style>\n",
       "<table border=\"1\" class=\"dataframe\">\n",
       "  <thead>\n",
       "    <tr style=\"text-align: right;\">\n",
       "      <th></th>\n",
       "      <th>one</th>\n",
       "      <th>two</th>\n",
       "      <th>three</th>\n",
       "    </tr>\n",
       "  </thead>\n",
       "  <tbody>\n",
       "    <tr>\n",
       "      <th>a</th>\n",
       "      <td>1.296161</td>\n",
       "      <td>0.425753</td>\n",
       "      <td>NaN</td>\n",
       "    </tr>\n",
       "    <tr>\n",
       "      <th>b</th>\n",
       "      <td>0.815700</td>\n",
       "      <td>0.893428</td>\n",
       "      <td>0.021893</td>\n",
       "    </tr>\n",
       "    <tr>\n",
       "      <th>c</th>\n",
       "      <td>0.876341</td>\n",
       "      <td>0.674101</td>\n",
       "      <td>-0.748436</td>\n",
       "    </tr>\n",
       "    <tr>\n",
       "      <th>d</th>\n",
       "      <td>NaN</td>\n",
       "      <td>0.441937</td>\n",
       "      <td>-0.268829</td>\n",
       "    </tr>\n",
       "  </tbody>\n",
       "</table>\n",
       "</div>"
      ],
      "text/plain": [
       "        one       two     three\n",
       "a  1.296161  0.425753       NaN\n",
       "b  0.815700  0.893428  0.021893\n",
       "c  0.876341  0.674101 -0.748436\n",
       "d       NaN  0.441937 -0.268829"
      ]
     },
     "execution_count": 4,
     "metadata": {},
     "output_type": "execute_result"
    }
   ],
   "source": [
    "import numpy as np\n",
    "import pandas as pd\n",
    "\n",
    "df = pd.DataFrame({'one' : pd.Series(np.random.randn(3), index=['a', 'b', 'c']),\n",
    "                    'two' : pd.Series(np.random.randn(4), index=['a', 'b', 'c', 'd']),\n",
    "                    'three' : pd.Series(np.random.randn(3), index=['b', 'c', 'd'])})\n",
    "    \n",
    "df"
   ]
  },
  {
   "cell_type": "code",
   "execution_count": 5,
   "metadata": {},
   "outputs": [
    {
     "data": {
      "text/html": [
       "<div>\n",
       "<style scoped>\n",
       "    .dataframe tbody tr th:only-of-type {\n",
       "        vertical-align: middle;\n",
       "    }\n",
       "\n",
       "    .dataframe tbody tr th {\n",
       "        vertical-align: top;\n",
       "    }\n",
       "\n",
       "    .dataframe thead th {\n",
       "        text-align: right;\n",
       "    }\n",
       "</style>\n",
       "<table border=\"1\" class=\"dataframe\">\n",
       "  <thead>\n",
       "    <tr style=\"text-align: right;\">\n",
       "      <th></th>\n",
       "      <th>three</th>\n",
       "      <th>two</th>\n",
       "      <th>one</th>\n",
       "    </tr>\n",
       "  </thead>\n",
       "  <tbody>\n",
       "    <tr>\n",
       "      <th>c</th>\n",
       "      <td>-0.748436</td>\n",
       "      <td>0.674101</td>\n",
       "      <td>0.876341</td>\n",
       "    </tr>\n",
       "    <tr>\n",
       "      <th>f</th>\n",
       "      <td>NaN</td>\n",
       "      <td>NaN</td>\n",
       "      <td>NaN</td>\n",
       "    </tr>\n",
       "    <tr>\n",
       "      <th>b</th>\n",
       "      <td>0.021893</td>\n",
       "      <td>0.893428</td>\n",
       "      <td>0.815700</td>\n",
       "    </tr>\n",
       "  </tbody>\n",
       "</table>\n",
       "</div>"
      ],
      "text/plain": [
       "      three       two       one\n",
       "c -0.748436  0.674101  0.876341\n",
       "f       NaN       NaN       NaN\n",
       "b  0.021893  0.893428  0.815700"
      ]
     },
     "execution_count": 5,
     "metadata": {},
     "output_type": "execute_result"
    }
   ],
   "source": [
    "df.reindex(index=['c', 'f', 'b'], columns=['three', 'two', 'one'])"
   ]
  },
  {
   "cell_type": "markdown",
   "metadata": {},
   "source": [
    "For convenience, you may utilize the [`reindex_axis()`](http://pandas.pydata.org/pandas-docs/version/0.20.3/generated/pandas.Series.reindex_axis.html#pandas.Series.reindex_axis) method, which takes the labels and a keyword `axis`parameter.\n",
    "\n",
    "Note that the `Index` objects containing the actual axis labels can be **shared** between objects. So if we have a Series and a DataFrame, the following can be done:\n",
    "\n",
    "为方便起见，您可以使用reindex_axis（）方法，该方法采用标签和关键字轴参数。\n",
    "\n",
    "请注意，可以在对象之间共享包含实际轴标签的Index对象。 因此，如果我们有一个Series和一个DataFrame，可以执行以下操作："
   ]
  },
  {
   "cell_type": "code",
   "execution_count": 6,
   "metadata": {},
   "outputs": [
    {
     "data": {
      "text/plain": [
       "a   -0.318634\n",
       "b    0.127459\n",
       "c    1.425267\n",
       "d    2.209594\n",
       "dtype: float64"
      ]
     },
     "execution_count": 6,
     "metadata": {},
     "output_type": "execute_result"
    }
   ],
   "source": [
    "rs = s.reindex(df.index)\n",
    "\n",
    "rs"
   ]
  },
  {
   "cell_type": "code",
   "execution_count": 7,
   "metadata": {},
   "outputs": [
    {
     "data": {
      "text/plain": [
       "True"
      ]
     },
     "execution_count": 7,
     "metadata": {},
     "output_type": "execute_result"
    }
   ],
   "source": [
    "rs.index is df.index"
   ]
  },
  {
   "cell_type": "markdown",
   "metadata": {},
   "source": [
    "This means that the reindexed Series’s index is the same Python object as the DataFrame’s index.\n",
    "\n",
    "这意味着重新索引的Series索引与DataFrame的索引是相同的Python对象。"
   ]
  },
  {
   "cell_type": "markdown",
   "metadata": {},
   "source": [
    "**Note**\n",
    "\n",
    "When writing performance-sensitive code, there is a good reason to spend some time becoming a reindexing ninja: **many operations are faster on pre-aligned data**. Adding two unaligned DataFrames internally triggers a reindexing step. For exploratory analysis you will hardly notice the difference (because `reindex` has been heavily optimized), but when CPU cycles matter sprinkling a few explicit `reindex` calls here and there can have an impact.\n",
    "\n",
    "**注意** \n",
    "\n",
    "在编写对性能敏感的代码时，有充分的理由花一些时间成为重新索引的忍者：**许多操作在预对齐数据上更快**。 在内部添加两个未对齐的DataFrame会触发重建索引步骤。对于探索性分析，您几乎不会注意到差异（因为`reindex`已经过大量优化），但是当CPU周期很重要时，会在这里发出一些明确的`reindex`调用，并且会产生影响。"
   ]
  },
  {
   "cell_type": "markdown",
   "metadata": {},
   "source": [
    "**Reindexing to align with another object**\n",
    "\n",
    "You may wish to take an object and reindex its axes to be labeled the same as another object. While the syntax for this is straightforward albeit verbose, it is a common enough operation that the [`reindex_like()`](http://pandas.pydata.org/pandas-docs/version/0.20.3/generated/pandas.DataFrame.reindex_like.html#pandas.DataFrame.reindex_like)method is available to make this simpler:"
   ]
  },
  {
   "cell_type": "markdown",
   "metadata": {},
   "source": [
    "# 重新索引以与另一个对象对齐\n",
    "\n",
    "\n",
    "您可能希望获取一个对象并重建其轴标记以与另一个对象相同。虽然这个语法很简单，虽然详细，但这是一个常见的操作， [`reindex_like()`](http://pandas.pydata.org/pandas-docs/version/0.20.3/generated/pandas.DataFrame.reindex_like.html#pandas.DataFrame.reindex_like)方法可以使这更简单："
   ]
  },
  {
   "cell_type": "code",
   "execution_count": 9,
   "metadata": {},
   "outputs": [
    {
     "data": {
      "text/html": [
       "<div>\n",
       "<style scoped>\n",
       "    .dataframe tbody tr th:only-of-type {\n",
       "        vertical-align: middle;\n",
       "    }\n",
       "\n",
       "    .dataframe tbody tr th {\n",
       "        vertical-align: top;\n",
       "    }\n",
       "\n",
       "    .dataframe thead th {\n",
       "        text-align: right;\n",
       "    }\n",
       "</style>\n",
       "<table border=\"1\" class=\"dataframe\">\n",
       "  <thead>\n",
       "    <tr style=\"text-align: right;\">\n",
       "      <th></th>\n",
       "      <th>one</th>\n",
       "      <th>two</th>\n",
       "    </tr>\n",
       "  </thead>\n",
       "  <tbody>\n",
       "    <tr>\n",
       "      <th>a</th>\n",
       "      <td>-0.547411</td>\n",
       "      <td>0.631706</td>\n",
       "    </tr>\n",
       "    <tr>\n",
       "      <th>b</th>\n",
       "      <td>-0.882442</td>\n",
       "      <td>-0.730313</td>\n",
       "    </tr>\n",
       "    <tr>\n",
       "      <th>c</th>\n",
       "      <td>-0.513099</td>\n",
       "      <td>0.451223</td>\n",
       "    </tr>\n",
       "  </tbody>\n",
       "</table>\n",
       "</div>"
      ],
      "text/plain": [
       "        one       two\n",
       "a -0.547411  0.631706\n",
       "b -0.882442 -0.730313\n",
       "c -0.513099  0.451223"
      ]
     },
     "execution_count": 9,
     "metadata": {},
     "output_type": "execute_result"
    }
   ],
   "source": [
    "df2 = pd.DataFrame({'one' : pd.Series(np.random.randn(3), index=['a', 'b', 'c']),\n",
    "                   'two' : pd.Series(np.random.randn(3), index=['a', 'b', 'c']),\n",
    "                   })\n",
    "\n",
    "df2"
   ]
  },
  {
   "cell_type": "code",
   "execution_count": 8,
   "metadata": {},
   "outputs": [
    {
     "data": {
      "text/html": [
       "<div>\n",
       "<style scoped>\n",
       "    .dataframe tbody tr th:only-of-type {\n",
       "        vertical-align: middle;\n",
       "    }\n",
       "\n",
       "    .dataframe tbody tr th {\n",
       "        vertical-align: top;\n",
       "    }\n",
       "\n",
       "    .dataframe thead th {\n",
       "        text-align: right;\n",
       "    }\n",
       "</style>\n",
       "<table border=\"1\" class=\"dataframe\">\n",
       "  <thead>\n",
       "    <tr style=\"text-align: right;\">\n",
       "      <th></th>\n",
       "      <th>one</th>\n",
       "      <th>two</th>\n",
       "    </tr>\n",
       "  </thead>\n",
       "  <tbody>\n",
       "    <tr>\n",
       "      <th>a</th>\n",
       "      <td>-1.143812</td>\n",
       "      <td>-3.659409</td>\n",
       "    </tr>\n",
       "    <tr>\n",
       "      <th>b</th>\n",
       "      <td>-0.944000</td>\n",
       "      <td>0.460221</td>\n",
       "    </tr>\n",
       "    <tr>\n",
       "      <th>c</th>\n",
       "      <td>-1.527602</td>\n",
       "      <td>-0.776251</td>\n",
       "    </tr>\n",
       "  </tbody>\n",
       "</table>\n",
       "</div>"
      ],
      "text/plain": [
       "        one       two\n",
       "a -1.143812 -3.659409\n",
       "b -0.944000  0.460221\n",
       "c -1.527602 -0.776251"
      ]
     },
     "execution_count": 8,
     "metadata": {},
     "output_type": "execute_result"
    }
   ],
   "source": [
    "df3 = pd.DataFrame({'one' : pd.Series(np.random.randn(3), index=['a', 'b', 'c']),\n",
    "                   'two' : pd.Series(np.random.randn(3), index=['a', 'b', 'c']),\n",
    "                   })\n",
    "\n",
    "df3"
   ]
  },
  {
   "cell_type": "code",
   "execution_count": 10,
   "metadata": {},
   "outputs": [
    {
     "data": {
      "text/html": [
       "<div>\n",
       "<style scoped>\n",
       "    .dataframe tbody tr th:only-of-type {\n",
       "        vertical-align: middle;\n",
       "    }\n",
       "\n",
       "    .dataframe tbody tr th {\n",
       "        vertical-align: top;\n",
       "    }\n",
       "\n",
       "    .dataframe thead th {\n",
       "        text-align: right;\n",
       "    }\n",
       "</style>\n",
       "<table border=\"1\" class=\"dataframe\">\n",
       "  <thead>\n",
       "    <tr style=\"text-align: right;\">\n",
       "      <th></th>\n",
       "      <th>one</th>\n",
       "      <th>two</th>\n",
       "    </tr>\n",
       "  </thead>\n",
       "  <tbody>\n",
       "    <tr>\n",
       "      <th>a</th>\n",
       "      <td>1.296161</td>\n",
       "      <td>0.425753</td>\n",
       "    </tr>\n",
       "    <tr>\n",
       "      <th>b</th>\n",
       "      <td>0.815700</td>\n",
       "      <td>0.893428</td>\n",
       "    </tr>\n",
       "    <tr>\n",
       "      <th>c</th>\n",
       "      <td>0.876341</td>\n",
       "      <td>0.674101</td>\n",
       "    </tr>\n",
       "  </tbody>\n",
       "</table>\n",
       "</div>"
      ],
      "text/plain": [
       "        one       two\n",
       "a  1.296161  0.425753\n",
       "b  0.815700  0.893428\n",
       "c  0.876341  0.674101"
      ]
     },
     "execution_count": 10,
     "metadata": {},
     "output_type": "execute_result"
    }
   ],
   "source": [
    "df.reindex_like(df2)"
   ]
  },
  {
   "cell_type": "markdown",
   "metadata": {},
   "source": [
    "**Aligning objects with each other with `align`**\n",
    "\n",
    "The [`align()`](http://pandas.pydata.org/pandas-docs/version/0.20.3/generated/pandas.Series.align.html#pandas.Series.align) method is the fastest way to simultaneously align two objects. It supports a `join` argument (related to [joining and merging](http://pandas.pydata.org/pandas-docs/version/0.20.3/merging.html#merging)):\n",
    "\n",
    "> - `join='outer'`: take the union of the indexes (default)\n",
    "> - `join='left'`: use the calling object’s index\n",
    "> - `join='right'`: use the passed object’s index\n",
    "> - `join='inner'`: intersect the indexes\n",
    "\n",
    "It returns a tuple with both of the reindexed Series:"
   ]
  },
  {
   "cell_type": "markdown",
   "metadata": {},
   "source": [
    "# 使用 `align`将对象彼此对齐\n",
    "\n",
    "[`align()`](http://pandas.pydata.org/pandas-docs/version/0.20.3/generated/pandas.Series.align.html#pandas.Series.align) 方法是同时对齐两个对象最快的方法。 它支持一个 `join` 参数 (与 [joining and merging](http://pandas.pydata.org/pandas-docs/version/0.20.3/merging.html#merging)相关):\n",
    "\n",
    "> - `join='outer'`: take the union of the indexes (default)\n",
    "> - `join='left'`: use the calling object’s index\n",
    "> - `join='right'`: use the passed object’s index\n",
    "> - `join='inner'`: intersect the indexes\n",
    "\n",
    "> - `join ='outer'`：取索引的并集（默认）\n",
    "> - `join ='left'`：使用调用对象的索引\n",
    "> - `join ='right'`：使用传递的对象的索引\n",
    "> - `join ='inner'`：与索引相交\n",
    "\n",
    "它返回两个重建索引的Series的元组："
   ]
  },
  {
   "cell_type": "code",
   "execution_count": 11,
   "metadata": {
    "scrolled": true
   },
   "outputs": [
    {
     "data": {
      "text/plain": [
       "a    1.194754\n",
       "b   -1.660928\n",
       "c   -0.873620\n",
       "d   -0.939589\n",
       "e    1.095333\n",
       "dtype: float64"
      ]
     },
     "execution_count": 11,
     "metadata": {},
     "output_type": "execute_result"
    }
   ],
   "source": [
    "s = pd.Series(np.random.randn(5), index=['a', 'b', 'c', 'd', 'e'])\n",
    "s"
   ]
  },
  {
   "cell_type": "code",
   "execution_count": 12,
   "metadata": {},
   "outputs": [
    {
     "data": {
      "text/plain": [
       "a    1.194754\n",
       "b   -1.660928\n",
       "c   -0.873620\n",
       "d   -0.939589\n",
       "dtype: float64"
      ]
     },
     "execution_count": 12,
     "metadata": {},
     "output_type": "execute_result"
    }
   ],
   "source": [
    "s1 = s[:4]\n",
    "s1"
   ]
  },
  {
   "cell_type": "code",
   "execution_count": 13,
   "metadata": {},
   "outputs": [
    {
     "data": {
      "text/plain": [
       "b   -1.660928\n",
       "c   -0.873620\n",
       "d   -0.939589\n",
       "e    1.095333\n",
       "dtype: float64"
      ]
     },
     "execution_count": 13,
     "metadata": {},
     "output_type": "execute_result"
    }
   ],
   "source": [
    "s2 = s[1:]\n",
    "s2"
   ]
  },
  {
   "cell_type": "code",
   "execution_count": 14,
   "metadata": {
    "scrolled": true
   },
   "outputs": [
    {
     "data": {
      "text/plain": [
       "(a    1.194754\n",
       " b   -1.660928\n",
       " c   -0.873620\n",
       " d   -0.939589\n",
       " e         NaN\n",
       " dtype: float64, a         NaN\n",
       " b   -1.660928\n",
       " c   -0.873620\n",
       " d   -0.939589\n",
       " e    1.095333\n",
       " dtype: float64)"
      ]
     },
     "execution_count": 14,
     "metadata": {},
     "output_type": "execute_result"
    }
   ],
   "source": [
    "s1.align(s2)"
   ]
  },
  {
   "cell_type": "code",
   "execution_count": 15,
   "metadata": {
    "scrolled": true
   },
   "outputs": [
    {
     "data": {
      "text/plain": [
       "(b   -1.660928\n",
       " c   -0.873620\n",
       " d   -0.939589\n",
       " dtype: float64, b   -1.660928\n",
       " c   -0.873620\n",
       " d   -0.939589\n",
       " dtype: float64)"
      ]
     },
     "execution_count": 15,
     "metadata": {},
     "output_type": "execute_result"
    }
   ],
   "source": [
    "s1.align(s2, join='inner')"
   ]
  },
  {
   "cell_type": "code",
   "execution_count": 17,
   "metadata": {
    "scrolled": false
   },
   "outputs": [
    {
     "data": {
      "text/plain": [
       "(a    1.194754\n",
       " b   -1.660928\n",
       " c   -0.873620\n",
       " d   -0.939589\n",
       " dtype: float64, a         NaN\n",
       " b   -1.660928\n",
       " c   -0.873620\n",
       " d   -0.939589\n",
       " dtype: float64)"
      ]
     },
     "execution_count": 17,
     "metadata": {},
     "output_type": "execute_result"
    }
   ],
   "source": [
    "s1.align(s2, join='left')"
   ]
  },
  {
   "cell_type": "markdown",
   "metadata": {},
   "source": [
    "For DataFrames, the join method will be applied to both the index and the columns by default:\n",
    "\n",
    "对于DataFrames，默认情况下，join方法将应用于索引和列："
   ]
  },
  {
   "cell_type": "code",
   "execution_count": 16,
   "metadata": {
    "scrolled": true
   },
   "outputs": [
    {
     "data": {
      "text/plain": [
       "(        one       two\n",
       " a  1.296161  0.425753\n",
       " b  0.815700  0.893428\n",
       " c  0.876341  0.674101,         one       two\n",
       " a -0.547411  0.631706\n",
       " b -0.882442 -0.730313\n",
       " c -0.513099  0.451223)"
      ]
     },
     "execution_count": 16,
     "metadata": {},
     "output_type": "execute_result"
    }
   ],
   "source": [
    "df.align(df2, join='inner')"
   ]
  },
  {
   "cell_type": "markdown",
   "metadata": {},
   "source": [
    "You can also pass an `axis` option to only align on the specified axis:\n",
    "\n",
    "您还可以传递轴选项以仅在指定的轴上对齐："
   ]
  },
  {
   "cell_type": "code",
   "execution_count": 18,
   "metadata": {},
   "outputs": [
    {
     "data": {
      "text/plain": [
       "(        one       two     three\n",
       " a  1.296161  0.425753       NaN\n",
       " b  0.815700  0.893428  0.021893\n",
       " c  0.876341  0.674101 -0.748436,         one       two\n",
       " a -0.547411  0.631706\n",
       " b -0.882442 -0.730313\n",
       " c -0.513099  0.451223)"
      ]
     },
     "execution_count": 18,
     "metadata": {},
     "output_type": "execute_result"
    }
   ],
   "source": [
    "df.align(df2, join='inner', axis=0)"
   ]
  },
  {
   "cell_type": "markdown",
   "metadata": {},
   "source": [
    "If you pass a Series to [`DataFrame.align()`](http://pandas.pydata.org/pandas-docs/version/0.20.3/generated/pandas.DataFrame.align.html#pandas.DataFrame.align), you can choose to align both objects either on the DataFrame’s index or columns using the `axis` argument:\n",
    "\n",
    "如果你传递一个 Series 给 [`DataFrame.align()`](http://pandas.pydata.org/pandas-docs/version/0.20.3/generated/pandas.DataFrame.align.html#pandas.DataFrame.align), 您可以使用“axis”参数选择在DataFrame的索引或列上对齐两个对象："
   ]
  },
  {
   "cell_type": "code",
   "execution_count": 19,
   "metadata": {
    "scrolled": true
   },
   "outputs": [
    {
     "data": {
      "text/plain": [
       "(        one     three       two\n",
       " a  1.296161       NaN  0.425753\n",
       " b  0.815700  0.021893  0.893428\n",
       " c  0.876341 -0.748436  0.674101\n",
       " d       NaN -0.268829  0.441937, one     -0.547411\n",
       " three         NaN\n",
       " two      0.631706\n",
       " Name: a, dtype: float64)"
      ]
     },
     "execution_count": 19,
     "metadata": {},
     "output_type": "execute_result"
    }
   ],
   "source": [
    "df.align(df2.iloc[0], axis=1)"
   ]
  },
  {
   "cell_type": "markdown",
   "metadata": {},
   "source": [
    "**Filling while reindexing**\n",
    "\n",
    "[`reindex()`](http://pandas.pydata.org/pandas-docs/version/0.20.3/generated/pandas.Series.reindex.html#pandas.Series.reindex) takes an optional parameter `method` which is a filling method chosen from the following table:\n",
    "\n",
    "# 在重建索引时填充\n",
    "\n",
    "[`reindex()`](http://pandas.pydata.org/pandas-docs/version/0.20.3/generated/pandas.Series.reindex.html#pandas.Series.reindex) 接受一个可选的参数`method`，这是从下表中选择的方法："
   ]
  },
  {
   "cell_type": "markdown",
   "metadata": {},
   "source": [
    "| ethod            | Action                            |\n",
    "| ---------------- | --------------------------------- |\n",
    "| pad / ffill      | Fill values forward               |\n",
    "| bfill / backfill | Fill values backward              |\n",
    "| nearest          | Fill from the nearest index value |"
   ]
  },
  {
   "cell_type": "markdown",
   "metadata": {},
   "source": [
    "We illustrate these fill methods on a simple Series:\n",
    "\n",
    "我们在一个简单的Series中说明这些填充方法："
   ]
  },
  {
   "cell_type": "code",
   "execution_count": 21,
   "metadata": {},
   "outputs": [],
   "source": [
    "rng = pd.date_range('1/3/2000', periods=8)"
   ]
  },
  {
   "cell_type": "code",
   "execution_count": 22,
   "metadata": {},
   "outputs": [],
   "source": [
    "ts = pd.Series(np.random.randn(8), index=rng)"
   ]
  },
  {
   "cell_type": "code",
   "execution_count": 23,
   "metadata": {},
   "outputs": [],
   "source": [
    "ts2 = ts[[0, 3, 6]]"
   ]
  },
  {
   "cell_type": "code",
   "execution_count": 24,
   "metadata": {},
   "outputs": [
    {
     "data": {
      "text/plain": [
       "2000-01-03   -0.337940\n",
       "2000-01-04    0.293493\n",
       "2000-01-05    1.613010\n",
       "2000-01-06    1.347765\n",
       "2000-01-07   -0.498570\n",
       "2000-01-08   -0.673621\n",
       "2000-01-09    0.392016\n",
       "2000-01-10    0.720507\n",
       "Freq: D, dtype: float64"
      ]
     },
     "execution_count": 24,
     "metadata": {},
     "output_type": "execute_result"
    }
   ],
   "source": [
    "ts"
   ]
  },
  {
   "cell_type": "code",
   "execution_count": 25,
   "metadata": {
    "scrolled": true
   },
   "outputs": [
    {
     "data": {
      "text/plain": [
       "2000-01-03   -0.337940\n",
       "2000-01-06    1.347765\n",
       "2000-01-09    0.392016\n",
       "dtype: float64"
      ]
     },
     "execution_count": 25,
     "metadata": {},
     "output_type": "execute_result"
    }
   ],
   "source": [
    "ts2"
   ]
  },
  {
   "cell_type": "code",
   "execution_count": 26,
   "metadata": {},
   "outputs": [
    {
     "data": {
      "text/plain": [
       "2000-01-03   -0.337940\n",
       "2000-01-04         NaN\n",
       "2000-01-05         NaN\n",
       "2000-01-06    1.347765\n",
       "2000-01-07         NaN\n",
       "2000-01-08         NaN\n",
       "2000-01-09    0.392016\n",
       "2000-01-10         NaN\n",
       "Freq: D, dtype: float64"
      ]
     },
     "execution_count": 26,
     "metadata": {},
     "output_type": "execute_result"
    }
   ],
   "source": [
    "ts2.reindex(ts.index)"
   ]
  },
  {
   "cell_type": "code",
   "execution_count": 27,
   "metadata": {},
   "outputs": [
    {
     "data": {
      "text/plain": [
       "2000-01-03   -0.337940\n",
       "2000-01-04   -0.337940\n",
       "2000-01-05   -0.337940\n",
       "2000-01-06    1.347765\n",
       "2000-01-07    1.347765\n",
       "2000-01-08    1.347765\n",
       "2000-01-09    0.392016\n",
       "2000-01-10    0.392016\n",
       "Freq: D, dtype: float64"
      ]
     },
     "execution_count": 27,
     "metadata": {},
     "output_type": "execute_result"
    }
   ],
   "source": [
    "ts2.reindex(ts.index, method='ffill')"
   ]
  },
  {
   "cell_type": "code",
   "execution_count": 28,
   "metadata": {
    "scrolled": true
   },
   "outputs": [
    {
     "data": {
      "text/plain": [
       "2000-01-03   -0.337940\n",
       "2000-01-04    1.347765\n",
       "2000-01-05    1.347765\n",
       "2000-01-06    1.347765\n",
       "2000-01-07    0.392016\n",
       "2000-01-08    0.392016\n",
       "2000-01-09    0.392016\n",
       "2000-01-10         NaN\n",
       "Freq: D, dtype: float64"
      ]
     },
     "execution_count": 28,
     "metadata": {},
     "output_type": "execute_result"
    }
   ],
   "source": [
    "ts2.reindex(ts.index, method='bfill')"
   ]
  },
  {
   "cell_type": "code",
   "execution_count": 29,
   "metadata": {},
   "outputs": [
    {
     "data": {
      "text/plain": [
       "2000-01-03   -0.337940\n",
       "2000-01-04   -0.337940\n",
       "2000-01-05    1.347765\n",
       "2000-01-06    1.347765\n",
       "2000-01-07    1.347765\n",
       "2000-01-08    0.392016\n",
       "2000-01-09    0.392016\n",
       "2000-01-10    0.392016\n",
       "Freq: D, dtype: float64"
      ]
     },
     "execution_count": 29,
     "metadata": {},
     "output_type": "execute_result"
    }
   ],
   "source": [
    "ts2.reindex(ts.index, method='nearest')"
   ]
  },
  {
   "cell_type": "markdown",
   "metadata": {},
   "source": [
    "These methods require that the indexes are **ordered** increasing or decreasing.\n",
    "\n",
    "Note that the same result could have been achieved using [fillna](http://pandas.pydata.org/pandas-docs/version/0.20.3/missing_data.html#missing-data-fillna) (except for `method='nearest'`) or [interpolate](http://pandas.pydata.org/pandas-docs/version/0.20.3/missing_data.html#missing-data-interpolate):\n",
    "\n",
    "这些方法要求索引被 **ordered** 增加或减少。\n",
    "\n",
    "注意 同样的结果可以使用[fillna](http://pandas.pydata.org/pandas-docs/version/0.20.3/missing_data.html#missing-data-fillna) (except for `method='nearest'`) 或 [interpolate](http://pandas.pydata.org/pandas-docs/version/0.20.3/missing_data.html#missing-data-interpolate)实现:\n",
    "\n"
   ]
  },
  {
   "cell_type": "code",
   "execution_count": 30,
   "metadata": {},
   "outputs": [
    {
     "data": {
      "text/plain": [
       "2000-01-03   -0.337940\n",
       "2000-01-04   -0.337940\n",
       "2000-01-05   -0.337940\n",
       "2000-01-06    1.347765\n",
       "2000-01-07    1.347765\n",
       "2000-01-08    1.347765\n",
       "2000-01-09    0.392016\n",
       "2000-01-10    0.392016\n",
       "Freq: D, dtype: float64"
      ]
     },
     "execution_count": 30,
     "metadata": {},
     "output_type": "execute_result"
    }
   ],
   "source": [
    "ts2.reindex(ts.index).fillna(method='ffill')"
   ]
  },
  {
   "cell_type": "markdown",
   "metadata": {},
   "source": [
    "如果索引不是单调递增或递减的，[`reindex()`](http://pandas.pydata.org/pandas-docs/version/0.20.3/generated/pandas.Series.reindex.html#pandas.Series.reindex) 会触发 ValueError. [`fillna()`](http://pandas.pydata.org/pandas-docs/version/0.20.3/generated/pandas.Series.fillna.html#pandas.Series.fillna) 和[`interpolate()`](http://pandas.pydata.org/pandas-docs/version/0.20.3/generated/pandas.Series.interpolate.html#pandas.Series.interpolate) 则不会对索引的顺序进行任何检查。"
   ]
  },
  {
   "cell_type": "markdown",
   "metadata": {},
   "source": [
    "**Limits on filling while reindexing**\n",
    "\n",
    "The `limit` and `tolerance` arguments provide additional control over filling while reindexing. Limit specifies the maximum count of consecutive matches:\n",
    "\n",
    "# 重新索引时填充的限制\n",
    "\n",
    "`limit`和`tolerance`参数在重建索引时提供对填充的额外控制。限制指定连续匹配的最大数量："
   ]
  },
  {
   "cell_type": "code",
   "execution_count": 31,
   "metadata": {},
   "outputs": [
    {
     "data": {
      "text/plain": [
       "2000-01-03   -0.337940\n",
       "2000-01-04   -0.337940\n",
       "2000-01-05         NaN\n",
       "2000-01-06    1.347765\n",
       "2000-01-07    1.347765\n",
       "2000-01-08         NaN\n",
       "2000-01-09    0.392016\n",
       "2000-01-10    0.392016\n",
       "Freq: D, dtype: float64"
      ]
     },
     "execution_count": 31,
     "metadata": {},
     "output_type": "execute_result"
    }
   ],
   "source": [
    "ts2.reindex(ts.index, method='ffill', limit=1)"
   ]
  },
  {
   "cell_type": "markdown",
   "metadata": {},
   "source": [
    "In contrast, tolerance specifies the maximum distance between the index and indexer values:\n",
    "\n",
    "相反，tolerance 指定索引和索引器值之间的最大距离："
   ]
  },
  {
   "cell_type": "code",
   "execution_count": 32,
   "metadata": {
    "scrolled": true
   },
   "outputs": [
    {
     "data": {
      "text/plain": [
       "2000-01-03   -0.337940\n",
       "2000-01-04   -0.337940\n",
       "2000-01-05         NaN\n",
       "2000-01-06    1.347765\n",
       "2000-01-07    1.347765\n",
       "2000-01-08         NaN\n",
       "2000-01-09    0.392016\n",
       "2000-01-10    0.392016\n",
       "Freq: D, dtype: float64"
      ]
     },
     "execution_count": 32,
     "metadata": {},
     "output_type": "execute_result"
    }
   ],
   "source": [
    "ts2.reindex(ts.index, method='ffill', tolerance='1 day')"
   ]
  },
  {
   "cell_type": "markdown",
   "metadata": {},
   "source": [
    "Notice that when used on a `DatetimeIndex`, `TimedeltaIndex` or `PeriodIndex`, `tolerance` will coerced into a `Timedelta` if possible. This allows you to specify tolerance with appropriate strings.\n",
    "\n",
    "请注意 当在`DatetimeIndex`, `TimedeltaIndex` 或 `PeriodIndex`, `tolerance`上使用时，如果可能，将被强制转换为`Timedelta`. 这允许使用适当的字符串指定容差。"
   ]
  },
  {
   "cell_type": "markdown",
   "metadata": {},
   "source": [
    "**Dropping labels from an axis**\n",
    "\n",
    "A method closely related to `reindex` is the [`drop()`](http://pandas.pydata.org/pandas-docs/version/0.20.3/generated/pandas.DataFrame.drop.html#pandas.DataFrame.drop) function. It removes a set of labels from an axis:\n",
    "\n",
    "# 从轴上删除标签\n",
    "\n",
    "与 `reindex`密切相关的方法是[`drop()`](http://pandas.pydata.org/pandas-docs/version/0.20.3/generated/pandas.DataFrame.drop.html#pandas.DataFrame.drop) 函数。它从轴中删除一组标签。"
   ]
  },
  {
   "cell_type": "code",
   "execution_count": 33,
   "metadata": {},
   "outputs": [
    {
     "data": {
      "text/html": [
       "<div>\n",
       "<style scoped>\n",
       "    .dataframe tbody tr th:only-of-type {\n",
       "        vertical-align: middle;\n",
       "    }\n",
       "\n",
       "    .dataframe tbody tr th {\n",
       "        vertical-align: top;\n",
       "    }\n",
       "\n",
       "    .dataframe thead th {\n",
       "        text-align: right;\n",
       "    }\n",
       "</style>\n",
       "<table border=\"1\" class=\"dataframe\">\n",
       "  <thead>\n",
       "    <tr style=\"text-align: right;\">\n",
       "      <th></th>\n",
       "      <th>one</th>\n",
       "      <th>two</th>\n",
       "      <th>three</th>\n",
       "    </tr>\n",
       "  </thead>\n",
       "  <tbody>\n",
       "    <tr>\n",
       "      <th>a</th>\n",
       "      <td>1.296161</td>\n",
       "      <td>0.425753</td>\n",
       "      <td>NaN</td>\n",
       "    </tr>\n",
       "    <tr>\n",
       "      <th>b</th>\n",
       "      <td>0.815700</td>\n",
       "      <td>0.893428</td>\n",
       "      <td>0.021893</td>\n",
       "    </tr>\n",
       "    <tr>\n",
       "      <th>c</th>\n",
       "      <td>0.876341</td>\n",
       "      <td>0.674101</td>\n",
       "      <td>-0.748436</td>\n",
       "    </tr>\n",
       "    <tr>\n",
       "      <th>d</th>\n",
       "      <td>NaN</td>\n",
       "      <td>0.441937</td>\n",
       "      <td>-0.268829</td>\n",
       "    </tr>\n",
       "  </tbody>\n",
       "</table>\n",
       "</div>"
      ],
      "text/plain": [
       "        one       two     three\n",
       "a  1.296161  0.425753       NaN\n",
       "b  0.815700  0.893428  0.021893\n",
       "c  0.876341  0.674101 -0.748436\n",
       "d       NaN  0.441937 -0.268829"
      ]
     },
     "execution_count": 33,
     "metadata": {},
     "output_type": "execute_result"
    }
   ],
   "source": [
    "df"
   ]
  },
  {
   "cell_type": "code",
   "execution_count": 34,
   "metadata": {},
   "outputs": [
    {
     "data": {
      "text/html": [
       "<div>\n",
       "<style scoped>\n",
       "    .dataframe tbody tr th:only-of-type {\n",
       "        vertical-align: middle;\n",
       "    }\n",
       "\n",
       "    .dataframe tbody tr th {\n",
       "        vertical-align: top;\n",
       "    }\n",
       "\n",
       "    .dataframe thead th {\n",
       "        text-align: right;\n",
       "    }\n",
       "</style>\n",
       "<table border=\"1\" class=\"dataframe\">\n",
       "  <thead>\n",
       "    <tr style=\"text-align: right;\">\n",
       "      <th></th>\n",
       "      <th>one</th>\n",
       "      <th>two</th>\n",
       "      <th>three</th>\n",
       "    </tr>\n",
       "  </thead>\n",
       "  <tbody>\n",
       "    <tr>\n",
       "      <th>b</th>\n",
       "      <td>0.815700</td>\n",
       "      <td>0.893428</td>\n",
       "      <td>0.021893</td>\n",
       "    </tr>\n",
       "    <tr>\n",
       "      <th>c</th>\n",
       "      <td>0.876341</td>\n",
       "      <td>0.674101</td>\n",
       "      <td>-0.748436</td>\n",
       "    </tr>\n",
       "  </tbody>\n",
       "</table>\n",
       "</div>"
      ],
      "text/plain": [
       "        one       two     three\n",
       "b  0.815700  0.893428  0.021893\n",
       "c  0.876341  0.674101 -0.748436"
      ]
     },
     "execution_count": 34,
     "metadata": {},
     "output_type": "execute_result"
    }
   ],
   "source": [
    "df.drop(['a', 'd'], axis=0)"
   ]
  },
  {
   "cell_type": "code",
   "execution_count": 36,
   "metadata": {
    "scrolled": true
   },
   "outputs": [
    {
     "data": {
      "text/html": [
       "<div>\n",
       "<style scoped>\n",
       "    .dataframe tbody tr th:only-of-type {\n",
       "        vertical-align: middle;\n",
       "    }\n",
       "\n",
       "    .dataframe tbody tr th {\n",
       "        vertical-align: top;\n",
       "    }\n",
       "\n",
       "    .dataframe thead th {\n",
       "        text-align: right;\n",
       "    }\n",
       "</style>\n",
       "<table border=\"1\" class=\"dataframe\">\n",
       "  <thead>\n",
       "    <tr style=\"text-align: right;\">\n",
       "      <th></th>\n",
       "      <th>two</th>\n",
       "      <th>three</th>\n",
       "    </tr>\n",
       "  </thead>\n",
       "  <tbody>\n",
       "    <tr>\n",
       "      <th>a</th>\n",
       "      <td>0.425753</td>\n",
       "      <td>NaN</td>\n",
       "    </tr>\n",
       "    <tr>\n",
       "      <th>b</th>\n",
       "      <td>0.893428</td>\n",
       "      <td>0.021893</td>\n",
       "    </tr>\n",
       "    <tr>\n",
       "      <th>c</th>\n",
       "      <td>0.674101</td>\n",
       "      <td>-0.748436</td>\n",
       "    </tr>\n",
       "    <tr>\n",
       "      <th>d</th>\n",
       "      <td>0.441937</td>\n",
       "      <td>-0.268829</td>\n",
       "    </tr>\n",
       "  </tbody>\n",
       "</table>\n",
       "</div>"
      ],
      "text/plain": [
       "        two     three\n",
       "a  0.425753       NaN\n",
       "b  0.893428  0.021893\n",
       "c  0.674101 -0.748436\n",
       "d  0.441937 -0.268829"
      ]
     },
     "execution_count": 36,
     "metadata": {},
     "output_type": "execute_result"
    }
   ],
   "source": [
    "df.drop(['one'], axis=1)"
   ]
  },
  {
   "cell_type": "markdown",
   "metadata": {},
   "source": [
    "Note that the following also works, but is a bit less obvious / clean:\n",
    "\n",
    "请注意，下面的代码也可以工作，但不太明显/干净："
   ]
  },
  {
   "cell_type": "code",
   "execution_count": 37,
   "metadata": {
    "scrolled": true
   },
   "outputs": [
    {
     "data": {
      "text/html": [
       "<div>\n",
       "<style scoped>\n",
       "    .dataframe tbody tr th:only-of-type {\n",
       "        vertical-align: middle;\n",
       "    }\n",
       "\n",
       "    .dataframe tbody tr th {\n",
       "        vertical-align: top;\n",
       "    }\n",
       "\n",
       "    .dataframe thead th {\n",
       "        text-align: right;\n",
       "    }\n",
       "</style>\n",
       "<table border=\"1\" class=\"dataframe\">\n",
       "  <thead>\n",
       "    <tr style=\"text-align: right;\">\n",
       "      <th></th>\n",
       "      <th>one</th>\n",
       "      <th>two</th>\n",
       "      <th>three</th>\n",
       "    </tr>\n",
       "  </thead>\n",
       "  <tbody>\n",
       "    <tr>\n",
       "      <th>b</th>\n",
       "      <td>0.815700</td>\n",
       "      <td>0.893428</td>\n",
       "      <td>0.021893</td>\n",
       "    </tr>\n",
       "    <tr>\n",
       "      <th>c</th>\n",
       "      <td>0.876341</td>\n",
       "      <td>0.674101</td>\n",
       "      <td>-0.748436</td>\n",
       "    </tr>\n",
       "  </tbody>\n",
       "</table>\n",
       "</div>"
      ],
      "text/plain": [
       "        one       two     three\n",
       "b  0.815700  0.893428  0.021893\n",
       "c  0.876341  0.674101 -0.748436"
      ]
     },
     "execution_count": 37,
     "metadata": {},
     "output_type": "execute_result"
    }
   ],
   "source": [
    "df.reindex(df.index.difference(['a', 'd']))"
   ]
  },
  {
   "cell_type": "markdown",
   "metadata": {},
   "source": [
    "**Renaming / mapping labels**\n",
    "\n",
    "The [`rename()`](http://pandas.pydata.org/pandas-docs/version/0.20.3/generated/pandas.DataFrame.rename.html#pandas.DataFrame.rename) method allows you to relabel an axis based on some mapping (a dict or Series) or an arbitrary function.\n",
    "\n",
    "# 重命名 / 映射标签\n",
    "\n",
    "[`rename()`](http://pandas.pydata.org/pandas-docs/version/0.20.3/generated/pandas.DataFrame.rename.html#pandas.DataFrame.rename) 方法允许基于一些映射（dict 或 Series）或一个任意函数重新标记一个轴。"
   ]
  },
  {
   "cell_type": "code",
   "execution_count": 38,
   "metadata": {},
   "outputs": [
    {
     "data": {
      "text/plain": [
       "a    1.194754\n",
       "b   -1.660928\n",
       "c   -0.873620\n",
       "d   -0.939589\n",
       "e    1.095333\n",
       "dtype: float64"
      ]
     },
     "execution_count": 38,
     "metadata": {},
     "output_type": "execute_result"
    }
   ],
   "source": [
    "s"
   ]
  },
  {
   "cell_type": "code",
   "execution_count": 39,
   "metadata": {
    "scrolled": true
   },
   "outputs": [
    {
     "data": {
      "text/plain": [
       "A    1.194754\n",
       "B   -1.660928\n",
       "C   -0.873620\n",
       "D   -0.939589\n",
       "E    1.095333\n",
       "dtype: float64"
      ]
     },
     "execution_count": 39,
     "metadata": {},
     "output_type": "execute_result"
    }
   ],
   "source": [
    "s.rename(str.upper)"
   ]
  },
  {
   "cell_type": "markdown",
   "metadata": {},
   "source": [
    "If you pass a function, it must return a value when called with any of the labels (and must produce a set of unique values). A dict or Series can also be used:\n",
    "\n",
    "如果传递函数，则在使用任何标签调用时必须返回一个值（并且必须生成一组唯一值）。 也可以使用词典或Series："
   ]
  },
  {
   "cell_type": "code",
   "execution_count": 40,
   "metadata": {
    "scrolled": true
   },
   "outputs": [
    {
     "data": {
      "text/html": [
       "<div>\n",
       "<style scoped>\n",
       "    .dataframe tbody tr th:only-of-type {\n",
       "        vertical-align: middle;\n",
       "    }\n",
       "\n",
       "    .dataframe tbody tr th {\n",
       "        vertical-align: top;\n",
       "    }\n",
       "\n",
       "    .dataframe thead th {\n",
       "        text-align: right;\n",
       "    }\n",
       "</style>\n",
       "<table border=\"1\" class=\"dataframe\">\n",
       "  <thead>\n",
       "    <tr style=\"text-align: right;\">\n",
       "      <th></th>\n",
       "      <th>foo</th>\n",
       "      <th>bar</th>\n",
       "      <th>three</th>\n",
       "    </tr>\n",
       "  </thead>\n",
       "  <tbody>\n",
       "    <tr>\n",
       "      <th>apple</th>\n",
       "      <td>1.296161</td>\n",
       "      <td>0.425753</td>\n",
       "      <td>NaN</td>\n",
       "    </tr>\n",
       "    <tr>\n",
       "      <th>banana</th>\n",
       "      <td>0.815700</td>\n",
       "      <td>0.893428</td>\n",
       "      <td>0.021893</td>\n",
       "    </tr>\n",
       "    <tr>\n",
       "      <th>c</th>\n",
       "      <td>0.876341</td>\n",
       "      <td>0.674101</td>\n",
       "      <td>-0.748436</td>\n",
       "    </tr>\n",
       "    <tr>\n",
       "      <th>durian</th>\n",
       "      <td>NaN</td>\n",
       "      <td>0.441937</td>\n",
       "      <td>-0.268829</td>\n",
       "    </tr>\n",
       "  </tbody>\n",
       "</table>\n",
       "</div>"
      ],
      "text/plain": [
       "             foo       bar     three\n",
       "apple   1.296161  0.425753       NaN\n",
       "banana  0.815700  0.893428  0.021893\n",
       "c       0.876341  0.674101 -0.748436\n",
       "durian       NaN  0.441937 -0.268829"
      ]
     },
     "execution_count": 40,
     "metadata": {},
     "output_type": "execute_result"
    }
   ],
   "source": [
    "df.rename(columns={'one' : 'foo', 'two' : 'bar'},\n",
    "          index={'a' : 'apple', 'b' : 'banana', 'd' : 'durian'})"
   ]
  },
  {
   "cell_type": "markdown",
   "metadata": {},
   "source": [
    "If the mapping doesn’t include a column/index label, it isn’t renamed. Also extra labels in the mapping don’t throw an error.\n",
    "\n",
    "The [`rename()`](http://pandas.pydata.org/pandas-docs/version/0.20.3/generated/pandas.DataFrame.rename.html#pandas.DataFrame.rename) method also provides an `inplace` named parameter that is by default `False` and copies the underlying data. Pass `inplace=True` to rename the data in place.\n",
    "\n",
    "如果映射不包含列/索引标签，则不会重命名。 映射中的额外标签也不会引发错误。\n",
    "\n",
    "[`rename()`](http://pandas.pydata.org/pandas-docs/version/0.20.3/generated/pandas.DataFrame.rename.html#pandas.DataFrame.rename) 方法还提供一个`inplace`命名参数，默认为`False` 并复制基础数据。传递`inplace=True`以在原地重命名数据（即替换数据）。"
   ]
  },
  {
   "cell_type": "markdown",
   "metadata": {},
   "source": [
    "New in version 0.18.0.\n",
    "\n",
    "Finally, [`rename()`](http://pandas.pydata.org/pandas-docs/version/0.20.3/generated/pandas.Series.rename.html#pandas.Series.rename) also accepts a scalar or list-like for altering the `Series.name` attribute.\n",
    "\n",
    "最后, [`rename()`](http://pandas.pydata.org/pandas-docs/version/0.20.3/generated/pandas.Series.rename.html#pandas.Series.rename) 也接受一个标量 或类似列表来改变`Series.name`属性。"
   ]
  },
  {
   "cell_type": "code",
   "execution_count": 41,
   "metadata": {
    "scrolled": true
   },
   "outputs": [
    {
     "data": {
      "text/plain": [
       "a    1.194754\n",
       "b   -1.660928\n",
       "c   -0.873620\n",
       "d   -0.939589\n",
       "e    1.095333\n",
       "Name: scalar-name, dtype: float64"
      ]
     },
     "execution_count": 41,
     "metadata": {},
     "output_type": "execute_result"
    }
   ],
   "source": [
    "s.rename(\"scalar-name\")"
   ]
  },
  {
   "cell_type": "code",
   "execution_count": null,
   "metadata": {},
   "outputs": [],
   "source": []
  }
 ],
 "metadata": {
  "kernelspec": {
   "display_name": "Python 3",
   "language": "python",
   "name": "python3"
  },
  "language_info": {
   "codemirror_mode": {
    "name": "ipython",
    "version": 3
   },
   "file_extension": ".py",
   "mimetype": "text/x-python",
   "name": "python",
   "nbconvert_exporter": "python",
   "pygments_lexer": "ipython3",
   "version": "3.6.6"
  },
  "toc": {
   "base_numbering": 1,
   "nav_menu": {},
   "number_sections": true,
   "sideBar": true,
   "skip_h1_title": false,
   "title_cell": "Table of Contents",
   "title_sidebar": "Contents",
   "toc_cell": false,
   "toc_position": {
    "height": "calc(100% - 180px)",
    "left": "10px",
    "top": "150px",
    "width": "168.733px"
   },
   "toc_section_display": true,
   "toc_window_display": false
  }
 },
 "nbformat": 4,
 "nbformat_minor": 2
}
