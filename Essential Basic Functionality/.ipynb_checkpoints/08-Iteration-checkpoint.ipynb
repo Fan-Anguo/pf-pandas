{
 "cells": [
  {
   "cell_type": "markdown",
   "metadata": {},
   "source": [
    "Iteration\n",
    "===="
   ]
  },
  {
   "cell_type": "markdown",
   "metadata": {},
   "source": [
    "The behavior of basic iteration over pandas objects depends on the type. When iterating over a Series, it is regarded as array-like, and basic iteration produces the values. Other data structures, like DataFrame and Panel, follow the dict-like convention of iterating over the “keys” of the objects.\n",
    "\n",
    "基本迭代对pandas对象的行为取决于类型。 迭代一系列时，它被视为类似数组，基本迭代产生值。 其他数据结构，如DataFrame和Panel，遵循迭代对象“键”的类似dict的约定。"
   ]
  },
  {
   "cell_type": "markdown",
   "metadata": {},
   "source": [
    "In short, basic iteration (`for i in object`) produces:\n",
    "\n",
    "简而言之，基本迭代 (`for i in object`) 生成:\n",
    "\n",
    "- **Series**: values\n",
    "- **DataFrame**: column labels\n",
    "- **Panel**: item labels\n",
    "\n",
    "Thus, for example, iterating over a DataFrame gives you the column names:\n",
    "\n",
    "因此，例如，迭代一个DataFrame会给你列名称："
   ]
  },
  {
   "cell_type": "code",
   "execution_count": 2,
   "metadata": {
    "scrolled": true
   },
   "outputs": [
    {
     "data": {
      "text/html": [
       "<div>\n",
       "<style scoped>\n",
       "    .dataframe tbody tr th:only-of-type {\n",
       "        vertical-align: middle;\n",
       "    }\n",
       "\n",
       "    .dataframe tbody tr th {\n",
       "        vertical-align: top;\n",
       "    }\n",
       "\n",
       "    .dataframe thead th {\n",
       "        text-align: right;\n",
       "    }\n",
       "</style>\n",
       "<table border=\"1\" class=\"dataframe\">\n",
       "  <thead>\n",
       "    <tr style=\"text-align: right;\">\n",
       "      <th></th>\n",
       "      <th>col1</th>\n",
       "      <th>col2</th>\n",
       "    </tr>\n",
       "  </thead>\n",
       "  <tbody>\n",
       "    <tr>\n",
       "      <th>a</th>\n",
       "      <td>0.510256</td>\n",
       "      <td>-0.621711</td>\n",
       "    </tr>\n",
       "    <tr>\n",
       "      <th>b</th>\n",
       "      <td>1.598638</td>\n",
       "      <td>-0.574800</td>\n",
       "    </tr>\n",
       "    <tr>\n",
       "      <th>c</th>\n",
       "      <td>1.244569</td>\n",
       "      <td>0.931037</td>\n",
       "    </tr>\n",
       "  </tbody>\n",
       "</table>\n",
       "</div>"
      ],
      "text/plain": [
       "       col1      col2\n",
       "a  0.510256 -0.621711\n",
       "b  1.598638 -0.574800\n",
       "c  1.244569  0.931037"
      ]
     },
     "execution_count": 2,
     "metadata": {},
     "output_type": "execute_result"
    }
   ],
   "source": [
    "import numpy as np\n",
    "import pandas as pd\n",
    "\n",
    "df = pd.DataFrame({'col1' : np.random.randn(3), 'col2' : np.random.randn(3)},\n",
    "                  index=['a', 'b', 'c'])\n",
    "\n",
    "df"
   ]
  },
  {
   "cell_type": "code",
   "execution_count": 3,
   "metadata": {},
   "outputs": [
    {
     "name": "stdout",
     "output_type": "stream",
     "text": [
      "col1\n",
      "col2\n"
     ]
    }
   ],
   "source": [
    "for col in df:\n",
    "    print(col)"
   ]
  },
  {
   "cell_type": "markdown",
   "metadata": {},
   "source": [
    "Pandas objects also have the dict-like [`iteritems()`](http://pandas.pydata.org/pandas-docs/version/0.20.3/generated/pandas.DataFrame.iteritems.html#pandas.DataFrame.iteritems) method to iterate over the (key, value) pairs.\n",
    "\n",
    "Pandas 对象也有类似字典的[`iteritems()`](http://pandas.pydata.org/pandas-docs/version/0.20.3/generated/pandas.DataFrame.iteritems.html#pandas.DataFrame.iteritems) 方法以迭代`(key, value)`对。"
   ]
  },
  {
   "cell_type": "markdown",
   "metadata": {},
   "source": [
    "To iterate over the rows of a DataFrame, you can use the following methods:\n",
    "\n",
    "- [`iterrows()`](http://pandas.pydata.org/pandas-docs/version/0.20.3/generated/pandas.DataFrame.iterrows.html#pandas.DataFrame.iterrows): Iterate over the rows of a DataFrame as (index, Series) pairs. This converts the rows to Series objects, which can change the dtypes and has some performance implications.\n",
    "- [`itertuples()`](http://pandas.pydata.org/pandas-docs/version/0.20.3/generated/pandas.DataFrame.itertuples.html#pandas.DataFrame.itertuples): Iterate over the rows of a DataFrame as namedtuples of the values. This is a lot faster than [`iterrows()`](http://pandas.pydata.org/pandas-docs/version/0.20.3/generated/pandas.DataFrame.iterrows.html#pandas.DataFrame.iterrows), and is in most cases preferable to use to iterate over the values of a DataFrame."
   ]
  },
  {
   "cell_type": "markdown",
   "metadata": {},
   "source": [
    "要迭代DataFrame的行，您可以使用以下方法：\n",
    "\n",
    "- [`iterrows()`](http://pandas.pydata.org/pandas-docs/version/0.20.3/generated/pandas.DataFrame.iterrows.html#pandas.DataFrame.iterrows): 遍历DataFrame的行作为`(index, Series)`对. 这会将各行转换为Series对象，这会改变dtype，并具有一定的性能影响。\n",
    "- [`itertuples()`](http://pandas.pydata.org/pandas-docs/version/0.20.3/generated/pandas.DataFrame.itertuples.html#pandas.DataFrame.itertuples): 遍历DataFrame的行作为值的名称元组。这个比[`iterrows()`](http://pandas.pydata.org/pandas-docs/version/0.20.3/generated/pandas.DataFrame.iterrows.html#pandas.DataFrame.iterrows)快得多, 并且在大多数情况下，最好用于迭代DataFrame的值。"
   ]
  },
  {
   "cell_type": "markdown",
   "metadata": {},
   "source": [
    "**Warning**\n",
    "\n",
    "Iterating through pandas objects is generally **slow**. In many cases, iterating manually over the rows is not needed and can be avoided with one of the following approaches:\n",
    "\n",
    "- Look for a *vectorized* solution: many operations can be performed using built-in methods or numpy functions, (boolean) indexing, ...\n",
    "- When you have a function that cannot work on the full DataFrame/Series at once, it is better to use [`apply()`](http://pandas.pydata.org/pandas-docs/version/0.20.3/generated/pandas.DataFrame.apply.html#pandas.DataFrame.apply) instead of iterating over the values. See the docs on [function application](http://pandas.pydata.org/pandas-docs/version/0.20.3/basics.html#basics-apply).\n",
    "- If you need to do iterative manipulations on the values but performance is important, consider writing the inner loop using e.g. cython or numba. See the [enhancing performance](http://pandas.pydata.org/pandas-docs/version/0.20.3/enhancingperf.html#enhancingperf) section for some examples of this approach."
   ]
  },
  {
   "cell_type": "markdown",
   "metadata": {},
   "source": [
    "**Warning**\n",
    "\n",
    "通过pandas对象迭代通常是**slow**。在许多情况下，不需要在行上手动迭代，可以使用以下方法之一避免：\n",
    "\n",
    "- 寻找*矢量化*解决方案：许多操作可以使用内置方法或numpy函数，（布尔）索引，...\n",
    "- 当你的函数不能同时在完整的DataFrame / Series上工作时，最好使用[`apply()`](http://pandas.pydata.org/pandas-docs/version/0.20.3/generated/pandas.DataFrame.apply.html#pandas.DataFrame.apply) 而不是迭代值。参见文档 [function application](http://pandas.pydata.org/pandas-docs/version/0.20.3/basics.html#basics-apply).\n",
    "- 如果您需要对值进行迭代操作但性能很重要，请考虑使用cython 或 numba 来编写内部循环。有关此方法的一些例子请参见 [enhancing performance](http://pandas.pydata.org/pandas-docs/version/0.20.3/enhancingperf.html#enhancingperf) 部分。"
   ]
  },
  {
   "cell_type": "markdown",
   "metadata": {},
   "source": [
    "**Warning**\n",
    "\n",
    "You should **never modify** something you are iterating over. This is not guaranteed to work in all cases. Depending on the data types, the iterator returns a copy and not a view, and writing to it will have no effect!\n",
    "\n",
    "For example, in the following case setting the value has no effect:"
   ]
  },
  {
   "cell_type": "markdown",
   "metadata": {},
   "source": [
    "**警告**\n",
    "\n",
    "应该**永远不要修改**你正在迭代的东西。这并不能保证在所有情况下都有效。根据数据类型，迭代器返回副本而不是视图，写入它将无效！\n",
    "\n",
    "例如，在以下情况设置中，该值无效："
   ]
  },
  {
   "cell_type": "code",
   "execution_count": 4,
   "metadata": {},
   "outputs": [
    {
     "data": {
      "text/html": [
       "<div>\n",
       "<style scoped>\n",
       "    .dataframe tbody tr th:only-of-type {\n",
       "        vertical-align: middle;\n",
       "    }\n",
       "\n",
       "    .dataframe tbody tr th {\n",
       "        vertical-align: top;\n",
       "    }\n",
       "\n",
       "    .dataframe thead th {\n",
       "        text-align: right;\n",
       "    }\n",
       "</style>\n",
       "<table border=\"1\" class=\"dataframe\">\n",
       "  <thead>\n",
       "    <tr style=\"text-align: right;\">\n",
       "      <th></th>\n",
       "      <th>a</th>\n",
       "      <th>b</th>\n",
       "    </tr>\n",
       "  </thead>\n",
       "  <tbody>\n",
       "    <tr>\n",
       "      <th>0</th>\n",
       "      <td>1</td>\n",
       "      <td>a</td>\n",
       "    </tr>\n",
       "    <tr>\n",
       "      <th>1</th>\n",
       "      <td>2</td>\n",
       "      <td>b</td>\n",
       "    </tr>\n",
       "    <tr>\n",
       "      <th>2</th>\n",
       "      <td>3</td>\n",
       "      <td>c</td>\n",
       "    </tr>\n",
       "  </tbody>\n",
       "</table>\n",
       "</div>"
      ],
      "text/plain": [
       "   a  b\n",
       "0  1  a\n",
       "1  2  b\n",
       "2  3  c"
      ]
     },
     "execution_count": 4,
     "metadata": {},
     "output_type": "execute_result"
    }
   ],
   "source": [
    "df = pd.DataFrame({'a': [1, 2, 3], 'b': ['a', 'b', 'c']})\n",
    "df"
   ]
  },
  {
   "cell_type": "code",
   "execution_count": 5,
   "metadata": {},
   "outputs": [],
   "source": [
    "for index, row in df.iterrows():\n",
    "    row['a'] = 10"
   ]
  },
  {
   "cell_type": "code",
   "execution_count": 6,
   "metadata": {},
   "outputs": [
    {
     "data": {
      "text/html": [
       "<div>\n",
       "<style scoped>\n",
       "    .dataframe tbody tr th:only-of-type {\n",
       "        vertical-align: middle;\n",
       "    }\n",
       "\n",
       "    .dataframe tbody tr th {\n",
       "        vertical-align: top;\n",
       "    }\n",
       "\n",
       "    .dataframe thead th {\n",
       "        text-align: right;\n",
       "    }\n",
       "</style>\n",
       "<table border=\"1\" class=\"dataframe\">\n",
       "  <thead>\n",
       "    <tr style=\"text-align: right;\">\n",
       "      <th></th>\n",
       "      <th>a</th>\n",
       "      <th>b</th>\n",
       "    </tr>\n",
       "  </thead>\n",
       "  <tbody>\n",
       "    <tr>\n",
       "      <th>0</th>\n",
       "      <td>1</td>\n",
       "      <td>a</td>\n",
       "    </tr>\n",
       "    <tr>\n",
       "      <th>1</th>\n",
       "      <td>2</td>\n",
       "      <td>b</td>\n",
       "    </tr>\n",
       "    <tr>\n",
       "      <th>2</th>\n",
       "      <td>3</td>\n",
       "      <td>c</td>\n",
       "    </tr>\n",
       "  </tbody>\n",
       "</table>\n",
       "</div>"
      ],
      "text/plain": [
       "   a  b\n",
       "0  1  a\n",
       "1  2  b\n",
       "2  3  c"
      ]
     },
     "execution_count": 6,
     "metadata": {},
     "output_type": "execute_result"
    }
   ],
   "source": [
    "df"
   ]
  },
  {
   "cell_type": "markdown",
   "metadata": {},
   "source": [
    "**iteritems**\n",
    "\n",
    "Consistent with the dict-like interface, [`iteritems()`](http://pandas.pydata.org/pandas-docs/version/0.20.3/generated/pandas.DataFrame.iteritems.html#pandas.DataFrame.iteritems) iterates through key-value pairs:\n",
    "\n",
    "- **Series**: (index, scalar value) pairs\n",
    "- **DataFrame**: (column, Series) pairs\n",
    "- **Panel**: (item, DataFrame) pairs\n",
    "\n",
    "For example:"
   ]
  },
  {
   "cell_type": "markdown",
   "metadata": {},
   "source": [
    "# iteritems\n",
    "\n",
    "与 dict-like 接口一致, [`iteritems()`](http://pandas.pydata.org/pandas-docs/version/0.20.3/generated/pandas.DataFrame.iteritems.html#pandas.DataFrame.iteritems) 通过 key-value 对迭代：\n",
    "\n",
    "- **Series**: (index, scalar value) pairs\n",
    "- **DataFrame**: (column, Series) pairs\n",
    "- **Panel**: (item, DataFrame) pairs\n",
    "\n",
    "For example:"
   ]
  },
  {
   "cell_type": "code",
   "execution_count": 7,
   "metadata": {},
   "outputs": [
    {
     "name": "stderr",
     "output_type": "stream",
     "text": [
      "C:\\ProgramData\\Anaconda3\\lib\\site-packages\\IPython\\core\\interactiveshell.py:3265: FutureWarning: \n",
      "Panel is deprecated and will be removed in a future version.\n",
      "The recommended way to represent these types of 3-dimensional data are with a MultiIndex on a DataFrame, via the Panel.to_frame() method\n",
      "Alternatively, you can use the xarray package http://xarray.pydata.org/en/stable/.\n",
      "Pandas provides a `.to_xarray()` method to help automate this conversion.\n",
      "\n",
      "  exec(code_obj, self.user_global_ns, self.user_ns)\n"
     ]
    },
    {
     "data": {
      "text/plain": [
       "<class 'pandas.core.panel.Panel'>\n",
       "Dimensions: 2 (items) x 5 (major_axis) x 4 (minor_axis)\n",
       "Items axis: Item1 to Item2\n",
       "Major_axis axis: 2000-01-01 00:00:00 to 2000-01-05 00:00:00\n",
       "Minor_axis axis: A to D"
      ]
     },
     "execution_count": 7,
     "metadata": {},
     "output_type": "execute_result"
    }
   ],
   "source": [
    "wp = pd.Panel(np.random.randn(2, 5, 4), items=['Item1', 'Item2'],\n",
    "              major_axis=pd.date_range('1/1/2000', periods=5),\n",
    "              minor_axis=['A', 'B', 'C', 'D'])\n",
    "\n",
    "wp"
   ]
  },
  {
   "cell_type": "code",
   "execution_count": 8,
   "metadata": {},
   "outputs": [
    {
     "name": "stdout",
     "output_type": "stream",
     "text": [
      "Item1\n",
      "                   A         B         C         D\n",
      "2000-01-01  0.972171 -1.700848  0.105587 -0.955621\n",
      "2000-01-02 -1.417761  0.687126  1.023519  0.789865\n",
      "2000-01-03 -0.316405  0.174491  0.573109  0.552623\n",
      "2000-01-04 -1.708996  0.257747 -0.255739  0.885072\n",
      "2000-01-05  0.393431 -0.235166  0.967107 -1.576310\n",
      "Item2\n",
      "                   A         B         C         D\n",
      "2000-01-01  3.297379  0.261529  1.295011  0.150658\n",
      "2000-01-02 -1.350281  0.357317 -0.481826  1.300997\n",
      "2000-01-03 -0.445518 -0.299142  1.079205  0.898727\n",
      "2000-01-04  0.396400 -0.593469  1.041679  0.675742\n",
      "2000-01-05  0.376862 -0.005547  0.642474  2.700365\n"
     ]
    }
   ],
   "source": [
    "for item, frame in wp.iteritems():\n",
    "    print(item)\n",
    "    print(frame)"
   ]
  },
  {
   "cell_type": "markdown",
   "metadata": {},
   "source": [
    "# iterrows\n",
    "\n",
    "[`iterrows()`](http://pandas.pydata.org/pandas-docs/version/0.20.3/generated/pandas.DataFrame.iterrows.html#pandas.DataFrame.iterrows) allows you to iterate through the rows of a DataFrame as Series objects. It returns an iterator yielding each index value along with a Series containing the data in each row:\n",
    "\n",
    "[`iterrows()`](http://pandas.pydata.org/pandas-docs/version/0.20.3/generated/pandas.DataFrame.iterrows.html#pandas.DataFrame.iterrows) 允许迭代DataFrame的全部行作为Series对象。它返回一个迭代器，产生每个索引值以及包含每行数据的Series："
   ]
  },
  {
   "cell_type": "code",
   "execution_count": 9,
   "metadata": {},
   "outputs": [
    {
     "name": "stdout",
     "output_type": "stream",
     "text": [
      "0\n",
      "a    1\n",
      "b    a\n",
      "Name: 0, dtype: object\n",
      "1\n",
      "a    2\n",
      "b    b\n",
      "Name: 1, dtype: object\n",
      "2\n",
      "a    3\n",
      "b    c\n",
      "Name: 2, dtype: object\n"
     ]
    }
   ],
   "source": [
    "for row_index, row in df.iterrows():\n",
    "    print('%s\\n%s' % (row_index, row))"
   ]
  },
  {
   "cell_type": "markdown",
   "metadata": {},
   "source": [
    "**Note**\n",
    "\n",
    "Because [`iterrows()`](http://pandas.pydata.org/pandas-docs/version/0.20.3/generated/pandas.DataFrame.iterrows.html#pandas.DataFrame.iterrows) returns a Series for each row, it does **not** preserve dtypes across the rows (dtypes are preserved across columns for DataFrames). For example,\n",
    "\n",
    "**注意** \n",
    "\n",
    "因为[`iterrows()`](http://pandas.pydata.org/pandas-docs/version/0.20.3/generated/pandas.DataFrame.iterrows.html#pandas.DataFrame.iterrows) 为每行返回一个Series, 它**not**保留行中的dtypes(dtypes 被保留在DataFrames的列中。）。例如："
   ]
  },
  {
   "cell_type": "code",
   "execution_count": 11,
   "metadata": {},
   "outputs": [
    {
     "data": {
      "text/plain": [
       "int        int64\n",
       "float    float64\n",
       "dtype: object"
      ]
     },
     "execution_count": 11,
     "metadata": {},
     "output_type": "execute_result"
    }
   ],
   "source": [
    "df_orig = pd.DataFrame([[1, 1.5]], columns=['int', 'float'])\n",
    "\n",
    "df_orig.dtypes"
   ]
  },
  {
   "cell_type": "code",
   "execution_count": 13,
   "metadata": {},
   "outputs": [
    {
     "data": {
      "text/plain": [
       "int      1.0\n",
       "float    1.5\n",
       "Name: 0, dtype: float64"
      ]
     },
     "execution_count": 13,
     "metadata": {},
     "output_type": "execute_result"
    }
   ],
   "source": [
    "row = next(df_orig.iterrows())[1]\n",
    "\n",
    "row"
   ]
  },
  {
   "cell_type": "markdown",
   "metadata": {},
   "source": [
    "All values in `row`, returned as a Series, are now upcasted to floats, also the original integer value in column x:\n",
    "\n",
    "作为Series返回的`row`中的所有值现在都被上传为浮点数，也是列x中的原始整数值："
   ]
  },
  {
   "cell_type": "code",
   "execution_count": 14,
   "metadata": {},
   "outputs": [
    {
     "data": {
      "text/plain": [
       "dtype('float64')"
      ]
     },
     "execution_count": 14,
     "metadata": {},
     "output_type": "execute_result"
    }
   ],
   "source": [
    "row['int'].dtype"
   ]
  },
  {
   "cell_type": "code",
   "execution_count": 15,
   "metadata": {},
   "outputs": [
    {
     "data": {
      "text/plain": [
       "dtype('int64')"
      ]
     },
     "execution_count": 15,
     "metadata": {},
     "output_type": "execute_result"
    }
   ],
   "source": [
    "df_orig['int'].dtype"
   ]
  },
  {
   "cell_type": "markdown",
   "metadata": {},
   "source": [
    "To preserve dtypes while iterating over the rows, it is better to use [`itertuples()`](http://pandas.pydata.org/pandas-docs/version/0.20.3/generated/pandas.DataFrame.itertuples.html#pandas.DataFrame.itertuples) which returns namedtuples of the values and which is generally much faster as `iterrows`.\n",
    "\n",
    "为了在迭代行时保留dtypes，最好使用[`itertuples()`](http://pandas.pydata.org/pandas-docs/version/0.20.3/generated/pandas.DataFrame.itertuples.html#pandas.DataFrame.itertuples) ，它返回值的 namedtuples并且通常比`iterrows`快很多。"
   ]
  },
  {
   "cell_type": "markdown",
   "metadata": {},
   "source": [
    "For instance, a contrived way to transpose the DataFrame would be:\n",
    "\n",
    "例如，转换DataFrame的一种人为的方法是："
   ]
  },
  {
   "cell_type": "code",
   "execution_count": 17,
   "metadata": {},
   "outputs": [
    {
     "data": {
      "text/html": [
       "<div>\n",
       "<style scoped>\n",
       "    .dataframe tbody tr th:only-of-type {\n",
       "        vertical-align: middle;\n",
       "    }\n",
       "\n",
       "    .dataframe tbody tr th {\n",
       "        vertical-align: top;\n",
       "    }\n",
       "\n",
       "    .dataframe thead th {\n",
       "        text-align: right;\n",
       "    }\n",
       "</style>\n",
       "<table border=\"1\" class=\"dataframe\">\n",
       "  <thead>\n",
       "    <tr style=\"text-align: right;\">\n",
       "      <th></th>\n",
       "      <th>x</th>\n",
       "      <th>y</th>\n",
       "    </tr>\n",
       "  </thead>\n",
       "  <tbody>\n",
       "    <tr>\n",
       "      <th>0</th>\n",
       "      <td>1</td>\n",
       "      <td>4</td>\n",
       "    </tr>\n",
       "    <tr>\n",
       "      <th>1</th>\n",
       "      <td>2</td>\n",
       "      <td>5</td>\n",
       "    </tr>\n",
       "    <tr>\n",
       "      <th>2</th>\n",
       "      <td>3</td>\n",
       "      <td>6</td>\n",
       "    </tr>\n",
       "  </tbody>\n",
       "</table>\n",
       "</div>"
      ],
      "text/plain": [
       "   x  y\n",
       "0  1  4\n",
       "1  2  5\n",
       "2  3  6"
      ]
     },
     "execution_count": 17,
     "metadata": {},
     "output_type": "execute_result"
    }
   ],
   "source": [
    "df2 = pd.DataFrame({'x': [1, 2, 3], 'y': [4, 5, 6]})\n",
    "\n",
    "df2"
   ]
  },
  {
   "cell_type": "code",
   "execution_count": 18,
   "metadata": {},
   "outputs": [
    {
     "data": {
      "text/html": [
       "<div>\n",
       "<style scoped>\n",
       "    .dataframe tbody tr th:only-of-type {\n",
       "        vertical-align: middle;\n",
       "    }\n",
       "\n",
       "    .dataframe tbody tr th {\n",
       "        vertical-align: top;\n",
       "    }\n",
       "\n",
       "    .dataframe thead th {\n",
       "        text-align: right;\n",
       "    }\n",
       "</style>\n",
       "<table border=\"1\" class=\"dataframe\">\n",
       "  <thead>\n",
       "    <tr style=\"text-align: right;\">\n",
       "      <th></th>\n",
       "      <th>0</th>\n",
       "      <th>1</th>\n",
       "      <th>2</th>\n",
       "    </tr>\n",
       "  </thead>\n",
       "  <tbody>\n",
       "    <tr>\n",
       "      <th>x</th>\n",
       "      <td>1</td>\n",
       "      <td>2</td>\n",
       "      <td>3</td>\n",
       "    </tr>\n",
       "    <tr>\n",
       "      <th>y</th>\n",
       "      <td>4</td>\n",
       "      <td>5</td>\n",
       "      <td>6</td>\n",
       "    </tr>\n",
       "  </tbody>\n",
       "</table>\n",
       "</div>"
      ],
      "text/plain": [
       "   0  1  2\n",
       "x  1  2  3\n",
       "y  4  5  6"
      ]
     },
     "execution_count": 18,
     "metadata": {},
     "output_type": "execute_result"
    }
   ],
   "source": [
    "df2.T"
   ]
  },
  {
   "cell_type": "code",
   "execution_count": 19,
   "metadata": {},
   "outputs": [],
   "source": [
    "df2_t = pd.DataFrame(dict((idx,values) for idx, values in df2.iterrows()))"
   ]
  },
  {
   "cell_type": "code",
   "execution_count": 20,
   "metadata": {},
   "outputs": [
    {
     "data": {
      "text/html": [
       "<div>\n",
       "<style scoped>\n",
       "    .dataframe tbody tr th:only-of-type {\n",
       "        vertical-align: middle;\n",
       "    }\n",
       "\n",
       "    .dataframe tbody tr th {\n",
       "        vertical-align: top;\n",
       "    }\n",
       "\n",
       "    .dataframe thead th {\n",
       "        text-align: right;\n",
       "    }\n",
       "</style>\n",
       "<table border=\"1\" class=\"dataframe\">\n",
       "  <thead>\n",
       "    <tr style=\"text-align: right;\">\n",
       "      <th></th>\n",
       "      <th>0</th>\n",
       "      <th>1</th>\n",
       "      <th>2</th>\n",
       "    </tr>\n",
       "  </thead>\n",
       "  <tbody>\n",
       "    <tr>\n",
       "      <th>x</th>\n",
       "      <td>1</td>\n",
       "      <td>2</td>\n",
       "      <td>3</td>\n",
       "    </tr>\n",
       "    <tr>\n",
       "      <th>y</th>\n",
       "      <td>4</td>\n",
       "      <td>5</td>\n",
       "      <td>6</td>\n",
       "    </tr>\n",
       "  </tbody>\n",
       "</table>\n",
       "</div>"
      ],
      "text/plain": [
       "   0  1  2\n",
       "x  1  2  3\n",
       "y  4  5  6"
      ]
     },
     "execution_count": 20,
     "metadata": {},
     "output_type": "execute_result"
    }
   ],
   "source": [
    "df2_t"
   ]
  },
  {
   "cell_type": "markdown",
   "metadata": {},
   "source": [
    "**itertuples**\n",
    "\n",
    "The [`itertuples()`](http://pandas.pydata.org/pandas-docs/version/0.20.3/generated/pandas.DataFrame.itertuples.html#pandas.DataFrame.itertuples) method will return an iterator yielding a namedtuple for each row in the DataFrame. The first element of the tuple will be the row’s corresponding index value, while the remaining values are the row values.\n",
    "\n",
    "For instance,"
   ]
  },
  {
   "cell_type": "markdown",
   "metadata": {},
   "source": [
    "# itertuples\n",
    "\n",
    "[`itertuples()`](http://pandas.pydata.org/pandas-docs/version/0.20.3/generated/pandas.DataFrame.itertuples.html#pandas.DataFrame.itertuples) 方法为DataFrames的每行返回一个迭代器产生一个namedtuple。元组的第一个元素是行的相应索引值，而其余值是行值。\n",
    "\n",
    "例如,"
   ]
  },
  {
   "cell_type": "code",
   "execution_count": 21,
   "metadata": {},
   "outputs": [
    {
     "name": "stdout",
     "output_type": "stream",
     "text": [
      "Pandas(Index=0, a=1, b='a')\n",
      "Pandas(Index=1, a=2, b='b')\n",
      "Pandas(Index=2, a=3, b='c')\n"
     ]
    }
   ],
   "source": [
    "for row in df.itertuples():\n",
    "    print(row)"
   ]
  },
  {
   "cell_type": "markdown",
   "metadata": {},
   "source": [
    "This method does not convert the row to a Series object but just returns the values inside a namedtuple. Therefore, [`itertuples()`](http://pandas.pydata.org/pandas-docs/version/0.20.3/generated/pandas.DataFrame.itertuples.html#pandas.DataFrame.itertuples) preserves the data type of the values and is generally faster as [`iterrows()`](http://pandas.pydata.org/pandas-docs/version/0.20.3/generated/pandas.DataFrame.iterrows.html#pandas.DataFrame.iterrows).\n",
    "\n",
    "此方法不会将行转换为Series对象，而只返回namedtuple中的值。因此, [`itertuples()`](http://pandas.pydata.org/pandas-docs/version/0.20.3/generated/pandas.DataFrame.itertuples.html#pandas.DataFrame.itertuples) 保留值的数据类型并且通常比[`iterrows()`](http://pandas.pydata.org/pandas-docs/version/0.20.3/generated/pandas.DataFrame.iterrows.html#pandas.DataFrame.iterrows)更快."
   ]
  },
  {
   "cell_type": "markdown",
   "metadata": {},
   "source": [
    "Note The column names will be renamed to positional names if they are invalid Python identifiers, repeated, or start with an underscore. With a large number of columns (>255), regular tuples are returned.\n",
    "\n",
    "**注意** 如果列名称是无效的Python标识符，重复或以下划线开头，则列名称将重命名为位置名称。 使用大量列（> 255）时，将返回常规元组。"
   ]
  },
  {
   "cell_type": "code",
   "execution_count": null,
   "metadata": {},
   "outputs": [],
   "source": []
  }
 ],
 "metadata": {
  "kernelspec": {
   "display_name": "Python 3",
   "language": "python",
   "name": "python3"
  },
  "language_info": {
   "codemirror_mode": {
    "name": "ipython",
    "version": 3
   },
   "file_extension": ".py",
   "mimetype": "text/x-python",
   "name": "python",
   "nbconvert_exporter": "python",
   "pygments_lexer": "ipython3",
   "version": "3.6.6"
  },
  "toc": {
   "base_numbering": 1,
   "nav_menu": {},
   "number_sections": true,
   "sideBar": true,
   "skip_h1_title": false,
   "title_cell": "Table of Contents",
   "title_sidebar": "Contents",
   "toc_cell": false,
   "toc_position": {},
   "toc_section_display": true,
   "toc_window_display": false
  }
 },
 "nbformat": 4,
 "nbformat_minor": 2
}
