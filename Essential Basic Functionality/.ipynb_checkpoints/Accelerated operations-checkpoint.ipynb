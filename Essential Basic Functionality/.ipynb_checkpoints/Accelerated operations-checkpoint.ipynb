{
 "cells": [
  {
   "cell_type": "markdown",
   "metadata": {},
   "source": [
    "Accelerated operations\n",
    "====\n",
    "**加速操作**"
   ]
  },
  {
   "cell_type": "markdown",
   "metadata": {},
   "source": [
    "pandas has support for accelerating certain types of binary numerical and boolean operations using the `numexpr`library and the `bottleneck` libraries.\n",
    "\n",
    "These libraries are especially useful when dealing with large data sets, and provide large speedups. `numexpr` uses smart chunking, caching, and multiple cores. `bottleneck` is a set of specialized cython routines that are especially fast when dealing with arrays that have `nans`."
   ]
  },
  {
   "cell_type": "markdown",
   "metadata": {},
   "source": [
    "pandas支持使用`numexpr`库和`bottleneck`库加速某些类型的二进制数值和布尔运算。\n",
    "\n",
    "这些库在处理大型数据集时特别有用，并提供大量加速。`numexpr`使用智能分块，缓存和多核。`bottleneck`是一组专门的cython例程，在处理具有`nans`的数组时特别快。"
   ]
  },
  {
   "cell_type": "markdown",
   "metadata": {},
   "source": [
    "Here is a sample (using 100 column x 100,000 row DataFrames):\n",
    "\n",
    "下面是一个例子（使用 100列 * 100，000行的DataFrame）："
   ]
  },
  {
   "cell_type": "markdown",
   "metadata": {},
   "source": [
    "| Operation   | 0.11.0 (ms) | Prior Version (ms) | Ratio to Prior |\n",
    "| ----------- | ----------- | ------------------ | -------------- |\n",
    "| `df1 > df2` | 13.32       | 125.35             | 0.1063         |\n",
    "| `df1 * df2` | 21.71       | 36.63              | 0.5928         |\n",
    "| `df1 + df2` | 22.04       | 36.50              | 0.6039         |"
   ]
  },
  {
   "cell_type": "markdown",
   "metadata": {},
   "source": [
    "You are highly encouraged to install both libraries. See the section [Recommended Dependencies](http://pandas.pydata.org/pandas-docs/version/0.20.3/install.html#install-recommended-dependencies) for more installation info.\n",
    "\n",
    "非常鼓励安装这两个库。更多的安装信息请参见You are highly encouraged to install both libraries. See the section [Recommended Dependencies](http://pandas.pydata.org/pandas-docs/version/0.20.3/install.html#install-recommended-dependencies) for more installation info.\n",
    "\n",
    "\n",
    "These are both enabled to be used by default, you can control this by setting the options:\n",
    "\n",
    "这些都可以在默认情况下使用，您可以通过设置选项来控制它：\n",
    "\n",
    "New in version 0.20.0.\n",
    "\n",
    "```\n",
    "pd.set_option('compute.use_bottleneck', False)\n",
    "pd.set_option('compute.use_numexpr', False)\n",
    "```"
   ]
  },
  {
   "cell_type": "markdown",
   "metadata": {},
   "source": []
  }
 ],
 "metadata": {
  "kernelspec": {
   "display_name": "Python 3",
   "language": "python",
   "name": "python3"
  },
  "language_info": {
   "codemirror_mode": {
    "name": "ipython",
    "version": 3
   },
   "file_extension": ".py",
   "mimetype": "text/x-python",
   "name": "python",
   "nbconvert_exporter": "python",
   "pygments_lexer": "ipython3",
   "version": "3.6.6"
  },
  "toc": {
   "nav_menu": {},
   "number_sections": true,
   "sideBar": true,
   "skip_h1_title": false,
   "title_cell": "Table of Contents",
   "title_sidebar": "Contents",
   "toc_cell": false,
   "toc_position": {},
   "toc_section_display": true,
   "toc_window_display": false
  }
 },
 "nbformat": 4,
 "nbformat_minor": 2
}
