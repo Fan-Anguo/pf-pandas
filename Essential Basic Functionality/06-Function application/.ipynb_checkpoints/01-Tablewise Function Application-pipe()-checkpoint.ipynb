{
 "cells": [
  {
   "cell_type": "markdown",
   "metadata": {},
   "source": [
    "应用 Function\n",
    "====\n",
    "\n",
    "要将您自己或其他库的函数应用于pandas对象，主要有以下三种方法。使用哪个方法适当，取决于函数是期望在整个`DataFrame`或`Series`上，还是行或列方式，或元素方式上运行。\n",
    "\n",
    "1. [Tablewise Function Application](http://pandas.pydata.org/pandas-docs/version/0.20.3/basics.html#tablewise-function-application): [`pipe()`](http://pandas.pydata.org/pandas-docs/version/0.20.3/generated/pandas.DataFrame.pipe.html#pandas.DataFrame.pipe)\n",
    "2. [Row or Column-wise Function Application](http://pandas.pydata.org/pandas-docs/version/0.20.3/basics.html#row-or-column-wise-function-application): [`apply()`](http://pandas.pydata.org/pandas-docs/version/0.20.3/generated/pandas.DataFrame.apply.html#pandas.DataFrame.apply)\n",
    "3. [Aggregation API](http://pandas.pydata.org/pandas-docs/version/0.20.3/basics.html#aggregation-api): [`agg()`](http://pandas.pydata.org/pandas-docs/version/0.20.3/generated/pandas.DataFrame.agg.html#pandas.DataFrame.agg) and [`transform()`](http://pandas.pydata.org/pandas-docs/version/0.20.3/generated/pandas.DataFrame.transform.html#pandas.DataFrame.transform)\n",
    "4. [Applying Elementwise Functions](http://pandas.pydata.org/pandas-docs/version/0.20.3/basics.html#applying-elementwise-functions): [`applymap()`](http://pandas.pydata.org/pandas-docs/version/0.20.3/generated/pandas.DataFrame.applymap.html#pandas.DataFrame.applymap)"
   ]
  },
  {
   "cell_type": "markdown",
   "metadata": {},
   "source": [
    "Tablewise Function Application: pipe()\n",
    "====\n",
    "**表格式应用函数**"
   ]
  },
  {
   "cell_type": "markdown",
   "metadata": {},
   "source": [
    "`DataFrames` and `Series` can of course just be passed into functions. However, if the function needs to be called in a chain, consider using the [`pipe()`](http://pandas.pydata.org/pandas-docs/version/0.20.3/generated/pandas.DataFrame.pipe.html#pandas.DataFrame.pipe) method. Compare the following\n",
    "\n",
    "`DataFrames`和`Series`当然可以被传递给函数。但是，如果需要在链中调用函数，请考虑使用[`pipe()`](http://pandas.pydata.org/pandas-docs/version/0.20.3/generated/pandas.DataFrame.pipe.html#pandas.DataFrame.pipe) 方法。 比较以下内容："
   ]
  },
  {
   "cell_type": "markdown",
   "metadata": {},
   "source": [
    "```\n",
    "# f, g, and h are functions taking and returning ``DataFrames``\n",
    ">>> f(g(h(df), arg1=1), arg2=2, arg3=3)\n",
    "```\n",
    "\n",
    "下面的代码与此等价：\n",
    "\n",
    "```\n",
    ">>> (df.pipe(h)\n",
    "       .pipe(g, arg1=1)\n",
    "       .pipe(f, arg2=2, arg3=3)\n",
    "    )\n",
    "    ```"
   ]
  },
  {
   "cell_type": "markdown",
   "metadata": {},
   "source": [
    "Pandas encourages the second style, which is known as method chaining. `pipe` makes it easy to use your own or another library’s functions in method chains, alongside pandas’ methods.\n",
    "\n",
    "pandas鼓励第二种风格，即所谓的方法链。 `pipe`可以很容易地在方法链中使用自己定义的或其他库的函数，以及pandas的方法。 \n",
    "\n",
    "In the example above, the functions `f`, `g`, and `h` each expected the `DataFrame` as the first positional argument. What if the function you wish to apply takes its data as, say, the second argument? In this case, provide `pipe` with a tuple of `(callable, data_keyword)`. `.pipe` will route the `DataFrame` to the argument specified in the tuple.\n",
    "\n",
    "在上面的例子中，函数`f`，`g`和`h`都将`DataFrame`作为第一个位置参数。 如果您要应用的函数将其数据作为第二个参数，该怎么办？ 在这种情况下，为`pipe`提供一个`（callable，data_keyword）`元组。 `.pipe`将`DataFrame`路由到元组中指定的参数。\n",
    "\n",
    "For example, we can fit a regression using statsmodels. Their API expects a formula first and a `DataFrame` as the second argument, `data`. We pass in the function, keyword pair `(sm.poisson, 'data')` to `pipe`:\n",
    "\n",
    "例如，我们可以使用statsmodels进行回归拟合。 它们的 API 首先需要一个公式，和一个`DataFrame`作为第二个参数，`data`。 我们将函数和数据集关键字对`（sm.poisson，'data'）`传递给`pipe`："
   ]
  },
  {
   "cell_type": "code",
   "execution_count": 7,
   "metadata": {},
   "outputs": [
    {
     "data": {
      "text/html": [
       "<div>\n",
       "<style scoped>\n",
       "    .dataframe tbody tr th:only-of-type {\n",
       "        vertical-align: middle;\n",
       "    }\n",
       "\n",
       "    .dataframe tbody tr th {\n",
       "        vertical-align: top;\n",
       "    }\n",
       "\n",
       "    .dataframe thead th {\n",
       "        text-align: right;\n",
       "    }\n",
       "</style>\n",
       "<table border=\"1\" class=\"dataframe\">\n",
       "  <thead>\n",
       "    <tr style=\"text-align: right;\">\n",
       "      <th></th>\n",
       "      <th>Unnamed: 0</th>\n",
       "      <th>year</th>\n",
       "      <th>stint</th>\n",
       "      <th>team</th>\n",
       "      <th>lg</th>\n",
       "      <th>g</th>\n",
       "      <th>ab</th>\n",
       "      <th>r</th>\n",
       "      <th>h</th>\n",
       "      <th>X2b</th>\n",
       "      <th>...</th>\n",
       "      <th>rbi</th>\n",
       "      <th>sb</th>\n",
       "      <th>cs</th>\n",
       "      <th>bb</th>\n",
       "      <th>so</th>\n",
       "      <th>ibb</th>\n",
       "      <th>hbp</th>\n",
       "      <th>sh</th>\n",
       "      <th>sf</th>\n",
       "      <th>gidp</th>\n",
       "    </tr>\n",
       "    <tr>\n",
       "      <th>id</th>\n",
       "      <th></th>\n",
       "      <th></th>\n",
       "      <th></th>\n",
       "      <th></th>\n",
       "      <th></th>\n",
       "      <th></th>\n",
       "      <th></th>\n",
       "      <th></th>\n",
       "      <th></th>\n",
       "      <th></th>\n",
       "      <th></th>\n",
       "      <th></th>\n",
       "      <th></th>\n",
       "      <th></th>\n",
       "      <th></th>\n",
       "      <th></th>\n",
       "      <th></th>\n",
       "      <th></th>\n",
       "      <th></th>\n",
       "      <th></th>\n",
       "      <th></th>\n",
       "    </tr>\n",
       "  </thead>\n",
       "  <tbody>\n",
       "    <tr>\n",
       "      <th>ansonca01</th>\n",
       "      <td>4</td>\n",
       "      <td>1871</td>\n",
       "      <td>1</td>\n",
       "      <td>RC1</td>\n",
       "      <td>NaN</td>\n",
       "      <td>25</td>\n",
       "      <td>120</td>\n",
       "      <td>29</td>\n",
       "      <td>39</td>\n",
       "      <td>11</td>\n",
       "      <td>...</td>\n",
       "      <td>16.0</td>\n",
       "      <td>6.0</td>\n",
       "      <td>2.0</td>\n",
       "      <td>2</td>\n",
       "      <td>1.0</td>\n",
       "      <td>NaN</td>\n",
       "      <td>NaN</td>\n",
       "      <td>NaN</td>\n",
       "      <td>NaN</td>\n",
       "      <td>NaN</td>\n",
       "    </tr>\n",
       "    <tr>\n",
       "      <th>forceda01</th>\n",
       "      <td>44</td>\n",
       "      <td>1871</td>\n",
       "      <td>1</td>\n",
       "      <td>WS3</td>\n",
       "      <td>NaN</td>\n",
       "      <td>32</td>\n",
       "      <td>162</td>\n",
       "      <td>45</td>\n",
       "      <td>45</td>\n",
       "      <td>9</td>\n",
       "      <td>...</td>\n",
       "      <td>29.0</td>\n",
       "      <td>8.0</td>\n",
       "      <td>0.0</td>\n",
       "      <td>4</td>\n",
       "      <td>0.0</td>\n",
       "      <td>NaN</td>\n",
       "      <td>NaN</td>\n",
       "      <td>NaN</td>\n",
       "      <td>NaN</td>\n",
       "      <td>NaN</td>\n",
       "    </tr>\n",
       "    <tr>\n",
       "      <th>mathebo01</th>\n",
       "      <td>68</td>\n",
       "      <td>1871</td>\n",
       "      <td>1</td>\n",
       "      <td>FW1</td>\n",
       "      <td>NaN</td>\n",
       "      <td>19</td>\n",
       "      <td>89</td>\n",
       "      <td>15</td>\n",
       "      <td>24</td>\n",
       "      <td>3</td>\n",
       "      <td>...</td>\n",
       "      <td>10.0</td>\n",
       "      <td>2.0</td>\n",
       "      <td>1.0</td>\n",
       "      <td>2</td>\n",
       "      <td>0.0</td>\n",
       "      <td>NaN</td>\n",
       "      <td>NaN</td>\n",
       "      <td>NaN</td>\n",
       "      <td>NaN</td>\n",
       "      <td>NaN</td>\n",
       "    </tr>\n",
       "    <tr>\n",
       "      <th>startjo01</th>\n",
       "      <td>99</td>\n",
       "      <td>1871</td>\n",
       "      <td>1</td>\n",
       "      <td>NY2</td>\n",
       "      <td>NaN</td>\n",
       "      <td>33</td>\n",
       "      <td>161</td>\n",
       "      <td>35</td>\n",
       "      <td>58</td>\n",
       "      <td>5</td>\n",
       "      <td>...</td>\n",
       "      <td>34.0</td>\n",
       "      <td>4.0</td>\n",
       "      <td>2.0</td>\n",
       "      <td>3</td>\n",
       "      <td>0.0</td>\n",
       "      <td>NaN</td>\n",
       "      <td>NaN</td>\n",
       "      <td>NaN</td>\n",
       "      <td>NaN</td>\n",
       "      <td>NaN</td>\n",
       "    </tr>\n",
       "    <tr>\n",
       "      <th>suttoez01</th>\n",
       "      <td>102</td>\n",
       "      <td>1871</td>\n",
       "      <td>1</td>\n",
       "      <td>CL1</td>\n",
       "      <td>NaN</td>\n",
       "      <td>29</td>\n",
       "      <td>128</td>\n",
       "      <td>35</td>\n",
       "      <td>45</td>\n",
       "      <td>3</td>\n",
       "      <td>...</td>\n",
       "      <td>23.0</td>\n",
       "      <td>3.0</td>\n",
       "      <td>1.0</td>\n",
       "      <td>1</td>\n",
       "      <td>0.0</td>\n",
       "      <td>NaN</td>\n",
       "      <td>NaN</td>\n",
       "      <td>NaN</td>\n",
       "      <td>NaN</td>\n",
       "      <td>NaN</td>\n",
       "    </tr>\n",
       "  </tbody>\n",
       "</table>\n",
       "<p>5 rows × 22 columns</p>\n",
       "</div>"
      ],
      "text/plain": [
       "           Unnamed: 0  year  stint team   lg   g   ab   r   h  X2b  ...   \\\n",
       "id                                                                  ...    \n",
       "ansonca01           4  1871      1  RC1  NaN  25  120  29  39   11  ...    \n",
       "forceda01          44  1871      1  WS3  NaN  32  162  45  45    9  ...    \n",
       "mathebo01          68  1871      1  FW1  NaN  19   89  15  24    3  ...    \n",
       "startjo01          99  1871      1  NY2  NaN  33  161  35  58    5  ...    \n",
       "suttoez01         102  1871      1  CL1  NaN  29  128  35  45    3  ...    \n",
       "\n",
       "            rbi   sb   cs  bb   so  ibb  hbp  sh  sf  gidp  \n",
       "id                                                          \n",
       "ansonca01  16.0  6.0  2.0   2  1.0  NaN  NaN NaN NaN   NaN  \n",
       "forceda01  29.0  8.0  0.0   4  0.0  NaN  NaN NaN NaN   NaN  \n",
       "mathebo01  10.0  2.0  1.0   2  0.0  NaN  NaN NaN NaN   NaN  \n",
       "startjo01  34.0  4.0  2.0   3  0.0  NaN  NaN NaN NaN   NaN  \n",
       "suttoez01  23.0  3.0  1.0   1  0.0  NaN  NaN NaN NaN   NaN  \n",
       "\n",
       "[5 rows x 22 columns]"
      ]
     },
     "execution_count": 7,
     "metadata": {},
     "output_type": "execute_result"
    }
   ],
   "source": [
    "import pandas as pd\n",
    "import numpy as np\n",
    "import statsmodels.formula.api as sm\n",
    "\n",
    "bb = pd.read_csv('../../baseball.csv', index_col='id')\n",
    "\n",
    "bb.head()"
   ]
  },
  {
   "cell_type": "code",
   "execution_count": 8,
   "metadata": {},
   "outputs": [
    {
     "name": "stdout",
     "output_type": "stream",
     "text": [
      "Optimization terminated successfully.\n",
      "         Current function value: 2.948624\n",
      "         Iterations 10\n"
     ]
    },
    {
     "data": {
      "text/html": [
       "<table class=\"simpletable\">\n",
       "<caption>Poisson Regression Results</caption>\n",
       "<tr>\n",
       "  <th>Dep. Variable:</th>        <td>hr</td>        <th>  No. Observations:  </th>   <td> 18236</td>   \n",
       "</tr>\n",
       "<tr>\n",
       "  <th>Model:</th>              <td>Poisson</td>     <th>  Df Residuals:      </th>   <td> 18227</td>   \n",
       "</tr>\n",
       "<tr>\n",
       "  <th>Method:</th>               <td>MLE</td>       <th>  Df Model:          </th>   <td>     8</td>   \n",
       "</tr>\n",
       "<tr>\n",
       "  <th>Date:</th>          <td>Fri, 05 Oct 2018</td> <th>  Pseudo R-squ.:     </th>   <td>0.5616</td>   \n",
       "</tr>\n",
       "<tr>\n",
       "  <th>Time:</th>              <td>09:16:38</td>     <th>  Log-Likelihood:    </th>  <td> -53771.</td>  \n",
       "</tr>\n",
       "<tr>\n",
       "  <th>converged:</th>           <td>True</td>       <th>  LL-Null:           </th> <td>-1.2265e+05</td>\n",
       "</tr>\n",
       "<tr>\n",
       "  <th> </th>                      <td> </td>        <th>  LLR p-value:       </th>   <td> 0.000</td>   \n",
       "</tr>\n",
       "</table>\n",
       "<table class=\"simpletable\">\n",
       "<tr>\n",
       "       <td></td>          <th>coef</th>     <th>std err</th>      <th>z</th>      <th>P>|z|</th>  <th>[0.025</th>    <th>0.975]</th>  \n",
       "</tr>\n",
       "<tr>\n",
       "  <th>Intercept</th>   <td>  -30.0945</td> <td>    0.219</td> <td> -137.475</td> <td> 0.000</td> <td>  -30.524</td> <td>  -29.665</td>\n",
       "</tr>\n",
       "<tr>\n",
       "  <th>C(lg)[T.AL]</th> <td>    0.0118</td> <td>    0.052</td> <td>    0.228</td> <td> 0.819</td> <td>   -0.089</td> <td>    0.113</td>\n",
       "</tr>\n",
       "<tr>\n",
       "  <th>C(lg)[T.FL]</th> <td>   -0.1573</td> <td>    0.125</td> <td>   -1.254</td> <td> 0.210</td> <td>   -0.403</td> <td>    0.089</td>\n",
       "</tr>\n",
       "<tr>\n",
       "  <th>C(lg)[T.NL]</th> <td>   -0.0079</td> <td>    0.052</td> <td>   -0.153</td> <td> 0.878</td> <td>   -0.109</td> <td>    0.093</td>\n",
       "</tr>\n",
       "<tr>\n",
       "  <th>C(lg)[T.PL]</th> <td>    0.2712</td> <td>    0.096</td> <td>    2.830</td> <td> 0.005</td> <td>    0.083</td> <td>    0.459</td>\n",
       "</tr>\n",
       "<tr>\n",
       "  <th>C(lg)[T.UA]</th> <td>   -0.4598</td> <td>    0.381</td> <td>   -1.206</td> <td> 0.228</td> <td>   -1.207</td> <td>    0.288</td>\n",
       "</tr>\n",
       "<tr>\n",
       "  <th>ln_h</th>        <td>    1.1199</td> <td>    0.012</td> <td>   95.898</td> <td> 0.000</td> <td>    1.097</td> <td>    1.143</td>\n",
       "</tr>\n",
       "<tr>\n",
       "  <th>year</th>        <td>    0.0136</td> <td>    0.000</td> <td>  125.931</td> <td> 0.000</td> <td>    0.013</td> <td>    0.014</td>\n",
       "</tr>\n",
       "<tr>\n",
       "  <th>g</th>           <td>    0.0028</td> <td>    0.000</td> <td>   13.533</td> <td> 0.000</td> <td>    0.002</td> <td>    0.003</td>\n",
       "</tr>\n",
       "</table>"
      ],
      "text/plain": [
       "<class 'statsmodels.iolib.summary.Summary'>\n",
       "\"\"\"\n",
       "                          Poisson Regression Results                          \n",
       "==============================================================================\n",
       "Dep. Variable:                     hr   No. Observations:                18236\n",
       "Model:                        Poisson   Df Residuals:                    18227\n",
       "Method:                           MLE   Df Model:                            8\n",
       "Date:                Fri, 05 Oct 2018   Pseudo R-squ.:                  0.5616\n",
       "Time:                        09:16:38   Log-Likelihood:                -53771.\n",
       "converged:                       True   LL-Null:                   -1.2265e+05\n",
       "                                        LLR p-value:                     0.000\n",
       "===============================================================================\n",
       "                  coef    std err          z      P>|z|      [0.025      0.975]\n",
       "-------------------------------------------------------------------------------\n",
       "Intercept     -30.0945      0.219   -137.475      0.000     -30.524     -29.665\n",
       "C(lg)[T.AL]     0.0118      0.052      0.228      0.819      -0.089       0.113\n",
       "C(lg)[T.FL]    -0.1573      0.125     -1.254      0.210      -0.403       0.089\n",
       "C(lg)[T.NL]    -0.0079      0.052     -0.153      0.878      -0.109       0.093\n",
       "C(lg)[T.PL]     0.2712      0.096      2.830      0.005       0.083       0.459\n",
       "C(lg)[T.UA]    -0.4598      0.381     -1.206      0.228      -1.207       0.288\n",
       "ln_h            1.1199      0.012     95.898      0.000       1.097       1.143\n",
       "year            0.0136      0.000    125.931      0.000       0.013       0.014\n",
       "g               0.0028      0.000     13.533      0.000       0.002       0.003\n",
       "===============================================================================\n",
       "\"\"\""
      ]
     },
     "execution_count": 8,
     "metadata": {},
     "output_type": "execute_result"
    }
   ],
   "source": [
    "(bb.query('h > 0')\n",
    " .assign(ln_h = lambda df: np.log(df.h))\n",
    " .pipe((sm.poisson, 'data'), 'hr ~ ln_h + year + g + C(lg)')\n",
    " .fit()\n",
    " .summary()\n",
    ")"
   ]
  },
  {
   "cell_type": "markdown",
   "metadata": {},
   "source": [
    "`pipe()`方式可以使在pandas对象上连续执行多个函数操作的代码变得简洁明了，并且有助于跟踪函数及其相应参数的应用顺序。"
   ]
  },
  {
   "cell_type": "markdown",
   "metadata": {},
   "source": [
    "## pipe语法\n",
    "`DataFrame.pipe(func, *args, **kwargs)`\n",
    "\n",
    "### Parameters:\t\n",
    "**func** : function\n",
    "\n",
    "要应用于NDFrame的函数。 `args`和`kwargs`是传入`func`的参数。\n",
    "\n",
    "注意：默认`func`的第一个位置参数是`NDFrame`，如果在定义`func`时，第一个位置参数不是`NDFrame`，在`pipe()`中需要使用`data`关键字引用`NDFrame`的名称，显示地指定`NDFrame`。\n",
    "\n",
    "**args** : positional arguments passed into func. 位置参数，传递给`func`。\n",
    "\n",
    "**kwargs** : a dictionary of keyword arguments passed into func. 字典关键字参数，传递给`func`。"
   ]
  },
  {
   "cell_type": "markdown",
   "metadata": {},
   "source": [
    "### Returns:\t\n",
    "**object** : the return type of func. \n",
    "\n",
    "**对象**：`func`返回的类型。"
   ]
  },
  {
   "cell_type": "markdown",
   "metadata": {},
   "source": [
    "**Notes**\n",
    "\n",
    "当将期望在`Series`或`DataFrames`上将函数链接在一起时，使用`.pipe`，而不是这样写：\n",
    "\n",
    "> `f(g(h(df), arg1=a), arg2=b, arg3=c)`\n",
    "\n",
    "应该这样写：\n",
    "\n",
    "```\n",
    ">>> (df.pipe(h)\n",
    "...    .pipe(g, arg1=a)\n",
    "...    .pipe(f, arg2=b, arg3=c)\n",
    "... )\n",
    "```\n",
    "\n",
    "如果有一个函数不是将数据作为第一个参数，例如作为第二个参数，则传递一个元组，指示哪个关键字需要数据。 例如，假设`f`将数据作为`arg2`：\n",
    "\n",
    "```\n",
    ">>> (df.pipe(h)\n",
    "...    .pipe(g, arg1=a)\n",
    "...    .pipe((f, 'arg2'), arg1=a, arg3=c)\n",
    "...  )\n",
    "```\n",
    "\n",
    "即将 `func`参数和该函数需要数据集作为参数的参数名称字符串组成一个元组，作为`pipe()`的第一个参数。"
   ]
  },
  {
   "cell_type": "markdown",
   "metadata": {},
   "source": [
    "## Example 1\n",
    "\n",
    "假设想要将以下三个函数应用于DataFrame或Series：\n",
    "\n",
    "- 第一个函数对数据集做减法\n",
    "- 第二个函数对数据集做除法\n",
    "- 第三个函数对数据集先做乘方，再做与标量求模。"
   ]
  },
  {
   "cell_type": "markdown",
   "metadata": {},
   "source": [
    "先创建这些函数：\n",
    "\n",
    "```\n",
    "def adder(dataset,addn):\n",
    "    dataset += addn\n",
    "    return dataset\n",
    "    \n",
    "def div(dataset,divn):\n",
    "    dataset /= divn\n",
    "    return dataset\n",
    "    \n",
    "def time_mod(dataset, tn, mn):\n",
    "    dataset = np.mod(np.power(dataset,mn),tn)\n",
    "    return dataset\n",
    "```"
   ]
  },
  {
   "cell_type": "markdown",
   "metadata": {},
   "source": [
    "首先，我使用`adder`函数向数据集指定列的每个条目添加2。然后，使用`div`函数将指定列的每个条目除以2。最后，用`time_log`函数将指定列执行乘方和log运算。"
   ]
  },
  {
   "cell_type": "markdown",
   "metadata": {},
   "source": [
    "## 示例代码"
   ]
  },
  {
   "cell_type": "code",
   "execution_count": 9,
   "metadata": {},
   "outputs": [],
   "source": [
    "import numpy as np\n",
    "import pandas as pd"
   ]
  },
  {
   "cell_type": "code",
   "execution_count": 10,
   "metadata": {},
   "outputs": [],
   "source": [
    "def adder(dataset,addn):\n",
    "    dataset += addn\n",
    "    return dataset"
   ]
  },
  {
   "cell_type": "code",
   "execution_count": 11,
   "metadata": {},
   "outputs": [],
   "source": [
    "def div(dataset,divn):\n",
    "    dataset /= divn\n",
    "    return dataset"
   ]
  },
  {
   "cell_type": "code",
   "execution_count": 12,
   "metadata": {},
   "outputs": [],
   "source": [
    "def time_mod(dataset, tn, mn):\n",
    "    dataframe = np.mod(np.power(dataset,mn),tn)\n",
    "    return dataset"
   ]
  },
  {
   "cell_type": "code",
   "execution_count": 13,
   "metadata": {},
   "outputs": [],
   "source": [
    "dn = np.arange(1,10,1).reshape(3,3)"
   ]
  },
  {
   "cell_type": "code",
   "execution_count": 14,
   "metadata": {},
   "outputs": [],
   "source": [
    "df = pd.DataFrame(data = dn,index=['A','B','C'],columns=['col1','col2','col3'])"
   ]
  },
  {
   "cell_type": "code",
   "execution_count": 15,
   "metadata": {
    "scrolled": true
   },
   "outputs": [
    {
     "data": {
      "text/html": [
       "<div>\n",
       "<style scoped>\n",
       "    .dataframe tbody tr th:only-of-type {\n",
       "        vertical-align: middle;\n",
       "    }\n",
       "\n",
       "    .dataframe tbody tr th {\n",
       "        vertical-align: top;\n",
       "    }\n",
       "\n",
       "    .dataframe thead th {\n",
       "        text-align: right;\n",
       "    }\n",
       "</style>\n",
       "<table border=\"1\" class=\"dataframe\">\n",
       "  <thead>\n",
       "    <tr style=\"text-align: right;\">\n",
       "      <th></th>\n",
       "      <th>col1</th>\n",
       "      <th>col2</th>\n",
       "      <th>col3</th>\n",
       "    </tr>\n",
       "  </thead>\n",
       "  <tbody>\n",
       "    <tr>\n",
       "      <th>A</th>\n",
       "      <td>0.75</td>\n",
       "      <td>1.00</td>\n",
       "      <td>1.25</td>\n",
       "    </tr>\n",
       "    <tr>\n",
       "      <th>B</th>\n",
       "      <td>1.50</td>\n",
       "      <td>1.75</td>\n",
       "      <td>2.00</td>\n",
       "    </tr>\n",
       "    <tr>\n",
       "      <th>C</th>\n",
       "      <td>2.25</td>\n",
       "      <td>2.50</td>\n",
       "      <td>2.75</td>\n",
       "    </tr>\n",
       "  </tbody>\n",
       "</table>\n",
       "</div>"
      ],
      "text/plain": [
       "   col1  col2  col3\n",
       "A  0.75  1.00  1.25\n",
       "B  1.50  1.75  2.00\n",
       "C  2.25  2.50  2.75"
      ]
     },
     "execution_count": 15,
     "metadata": {},
     "output_type": "execute_result"
    }
   ],
   "source": [
    "(df.pipe(adder, addn=2)\n",
    "       .pipe(div, divn=4)\n",
    "       .pipe(time_mod, tn=4, mn=2)\n",
    ")"
   ]
  },
  {
   "cell_type": "markdown",
   "metadata": {},
   "source": [
    "**注意**：\n",
    "\n",
    "要应用`pipe()`，函数的第一个参数一般应是数据集，在`pipe()`链接函数时，函数的第一个参数省略，会自动传递调用的数据集给`func`。例如，`adder`接受两个参数`adder(dataframe, addn)`。第一个参数`dataframe`接收数据集，可以直接使用`pipe(adder, addn)`。\n",
    "\n",
    "如果要应用于`pipe()`的函数的第一个参数不是数据集，就不起作用。解决办法是指定`pipe`函数中引用数据集的参数名称，即告知pipe，该函数中哪个参数引用数据集。方法是：\n",
    "\n",
    "- 将 `func`名 和函数定义中代表数据集的参数名称字符串组成一个元组，作为`pipe()`的第一个参数传递。**参数名称需要引用包括，即将参数名称作为字典键**。"
   ]
  },
  {
   "cell_type": "markdown",
   "metadata": {},
   "source": [
    "## 示例 2\n",
    "\n",
    "现在重新定义`adder()`函数，将数据集作为第二个参数：`adder（addn，dataset）`。\n",
    "\n",
    "要在`pipe()`中使用该函数，格式如下：`DataFrame.pipe((adder,\"dataset\"), addn)`。"
   ]
  },
  {
   "cell_type": "code",
   "execution_count": 16,
   "metadata": {},
   "outputs": [],
   "source": [
    "def adder(addn,dataset):  #adder函数的dataset参数表示数据集\n",
    "    dataset += addn\n",
    "    return dataset"
   ]
  },
  {
   "cell_type": "code",
   "execution_count": 17,
   "metadata": {},
   "outputs": [],
   "source": [
    "df = pd.DataFrame(data = dn,index=['A','B','C'],columns=['col1','col2','col3'])"
   ]
  },
  {
   "cell_type": "code",
   "execution_count": 18,
   "metadata": {},
   "outputs": [
    {
     "data": {
      "text/html": [
       "<div>\n",
       "<style scoped>\n",
       "    .dataframe tbody tr th:only-of-type {\n",
       "        vertical-align: middle;\n",
       "    }\n",
       "\n",
       "    .dataframe tbody tr th {\n",
       "        vertical-align: top;\n",
       "    }\n",
       "\n",
       "    .dataframe thead th {\n",
       "        text-align: right;\n",
       "    }\n",
       "</style>\n",
       "<table border=\"1\" class=\"dataframe\">\n",
       "  <thead>\n",
       "    <tr style=\"text-align: right;\">\n",
       "      <th></th>\n",
       "      <th>col1</th>\n",
       "      <th>col2</th>\n",
       "      <th>col3</th>\n",
       "    </tr>\n",
       "  </thead>\n",
       "  <tbody>\n",
       "    <tr>\n",
       "      <th>A</th>\n",
       "      <td>0.75</td>\n",
       "      <td>1.00</td>\n",
       "      <td>1.25</td>\n",
       "    </tr>\n",
       "    <tr>\n",
       "      <th>B</th>\n",
       "      <td>1.50</td>\n",
       "      <td>1.75</td>\n",
       "      <td>2.00</td>\n",
       "    </tr>\n",
       "    <tr>\n",
       "      <th>C</th>\n",
       "      <td>2.25</td>\n",
       "      <td>2.50</td>\n",
       "      <td>2.75</td>\n",
       "    </tr>\n",
       "  </tbody>\n",
       "</table>\n",
       "</div>"
      ],
      "text/plain": [
       "   col1  col2  col3\n",
       "A  0.75  1.00  1.25\n",
       "B  1.50  1.75  2.00\n",
       "C  2.25  2.50  2.75"
      ]
     },
     "execution_count": 18,
     "metadata": {},
     "output_type": "execute_result"
    }
   ],
   "source": [
    "(df.pipe((adder, 'dataset'),addn=2) #adder函数的dataset参数表示数据集，和函数名组成一个元组，参数名需要用引号包括。\n",
    "       .pipe(div,divn=4)\n",
    "       .pipe(time_mod,tn=4,mn=2)\n",
    ")"
   ]
  }
 ],
 "metadata": {
  "kernelspec": {
   "display_name": "Python 3",
   "language": "python",
   "name": "python3"
  },
  "language_info": {
   "codemirror_mode": {
    "name": "ipython",
    "version": 3
   },
   "file_extension": ".py",
   "mimetype": "text/x-python",
   "name": "python",
   "nbconvert_exporter": "python",
   "pygments_lexer": "ipython3",
   "version": "3.6.6"
  },
  "toc": {
   "nav_menu": {},
   "number_sections": true,
   "sideBar": true,
   "skip_h1_title": false,
   "title_cell": "Table of Contents",
   "title_sidebar": "Contents",
   "toc_cell": false,
   "toc_position": {},
   "toc_section_display": true,
   "toc_window_display": false
  }
 },
 "nbformat": 4,
 "nbformat_minor": 2
}
