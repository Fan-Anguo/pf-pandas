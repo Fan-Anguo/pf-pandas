{
 "cells": [
  {
   "cell_type": "markdown",
   "metadata": {},
   "source": [
    "Copying\n",
    "===="
   ]
  },
  {
   "cell_type": "markdown",
   "metadata": {},
   "source": [
    "The [`copy()`](http://pandas.pydata.org/pandas-docs/version/0.20.3/generated/pandas.DataFrame.copy.html#pandas.DataFrame.copy) method on pandas objects copies the underlying data (though not the axis indexes, since they are immutable) and returns a new object. Note that **it is seldom necessary to copy objects**. For example, there are only a handful of ways to alter a DataFrame *in-place*:\n",
    "\n",
    "> - Inserting, deleting, or modifying a column\n",
    "> - Assigning to the `index` or `columns` attributes\n",
    "> - For homogeneous data, directly modifying the values via the `values` attribute or advanced indexing\n",
    "\n",
    "To be clear, no pandas methods have the side effect of modifying your data; almost all methods return new objects, leaving the original object untouched. If data is modified, it is because you did so explicitly."
   ]
  },
  {
   "cell_type": "markdown",
   "metadata": {},
   "source": [
    "pandas对象上的 [`copy()`](http://pandas.pydata.org/pandas-docs/version/0.20.3/generated/pandas.DataFrame.copy.html#pandas.DataFrame.copy) 方法复制基础数据 (虽然不是轴索引，因为它们是不可变的。)并且返回一个新对象。注意 **很少需要复制对象**。例如, 只有少数方法可以就地*in-place*改变DataFrame ：\n",
    "\n",
    "> - Inserting, deleting, or modifying a column\n",
    "> - 插入，删除或修改列\n",
    "> - Assigning to the `index` or `columns` attributes\n",
    "> - 分配给`index`或`columns`属性\n",
    "> - For homogeneous data, directly modifying the values via the `values` attribute or advanced indexing\n",
    "> - 对于同类数据，通过`values`属性或高级索引直接修改值\n",
    "\n",
    "需要说明的是，没有pandas方法会产生修改数据的副作用; 几乎所有方法都返回新对象，使原始对象保持不变。 如果修改了数据，那是因为您明确地这样做了。"
   ]
  },
  {
   "cell_type": "markdown",
   "metadata": {},
   "source": []
  },
  {
   "cell_type": "code",
   "execution_count": null,
   "metadata": {},
   "outputs": [],
   "source": []
  }
 ],
 "metadata": {
  "kernelspec": {
   "display_name": "Python 3",
   "language": "python",
   "name": "python3"
  },
  "language_info": {
   "codemirror_mode": {
    "name": "ipython",
    "version": 3
   },
   "file_extension": ".py",
   "mimetype": "text/x-python",
   "name": "python",
   "nbconvert_exporter": "python",
   "pygments_lexer": "ipython3",
   "version": "3.6.6"
  },
  "toc": {
   "base_numbering": 1,
   "nav_menu": {},
   "number_sections": true,
   "sideBar": true,
   "skip_h1_title": false,
   "title_cell": "Table of Contents",
   "title_sidebar": "Contents",
   "toc_cell": false,
   "toc_position": {},
   "toc_section_display": true,
   "toc_window_display": false
  }
 },
 "nbformat": 4,
 "nbformat_minor": 2
}
