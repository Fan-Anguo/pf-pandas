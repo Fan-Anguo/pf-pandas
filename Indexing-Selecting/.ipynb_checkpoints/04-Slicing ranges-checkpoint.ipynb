{
 "cells": [
  {
   "cell_type": "markdown",
   "metadata": {},
   "source": [
    "Slicing ranges\n",
    "====\n",
    "**切片范围**"
   ]
  },
  {
   "cell_type": "markdown",
   "metadata": {},
   "source": [
    "The most robust and consistent way of slicing ranges along arbitrary axes is described in the [Selection by Position](http://pandas.pydata.org/pandas-docs/version/0.20.3/indexing.html#indexing-integer)section detailing the `.iloc` method. For now, we explain the semantics of slicing using the `[]` operator.\n",
    "\n",
    "With Series, the syntax works exactly as with an ndarray, returning a slice of the values and the corresponding labels:\n",
    "\n",
    "The most robust and consistent way of slicing ranges along arbitrary axes is described in the 在[Selection by Position](http://pandas.pydata.org/pandas-docs/version/0.20.3/indexing.html#indexing-integer)一节中详细描述了`.iloc`方法，这是沿任意轴切片范围的最有力和一致的方法。现在，我们用`[]`操作符解释切片的语义。\n",
    "\n",
    "对于 Series, 语法与 ndarray 的完全一样。返回一片值和相应的标签："
   ]
  },
  {
   "cell_type": "code",
   "execution_count": 1,
   "metadata": {},
   "outputs": [
    {
     "data": {
      "text/html": [
       "<div>\n",
       "<style scoped>\n",
       "    .dataframe tbody tr th:only-of-type {\n",
       "        vertical-align: middle;\n",
       "    }\n",
       "\n",
       "    .dataframe tbody tr th {\n",
       "        vertical-align: top;\n",
       "    }\n",
       "\n",
       "    .dataframe thead th {\n",
       "        text-align: right;\n",
       "    }\n",
       "</style>\n",
       "<table border=\"1\" class=\"dataframe\">\n",
       "  <thead>\n",
       "    <tr style=\"text-align: right;\">\n",
       "      <th></th>\n",
       "      <th>A</th>\n",
       "      <th>B</th>\n",
       "      <th>C</th>\n",
       "      <th>D</th>\n",
       "    </tr>\n",
       "  </thead>\n",
       "  <tbody>\n",
       "    <tr>\n",
       "      <th>2000-01-01</th>\n",
       "      <td>-1.354933</td>\n",
       "      <td>0.206253</td>\n",
       "      <td>-1.763504</td>\n",
       "      <td>1.090261</td>\n",
       "    </tr>\n",
       "    <tr>\n",
       "      <th>2000-01-02</th>\n",
       "      <td>-0.016341</td>\n",
       "      <td>0.839175</td>\n",
       "      <td>1.050656</td>\n",
       "      <td>-0.207724</td>\n",
       "    </tr>\n",
       "    <tr>\n",
       "      <th>2000-01-03</th>\n",
       "      <td>-1.078707</td>\n",
       "      <td>1.532966</td>\n",
       "      <td>0.600653</td>\n",
       "      <td>0.436237</td>\n",
       "    </tr>\n",
       "    <tr>\n",
       "      <th>2000-01-04</th>\n",
       "      <td>0.110230</td>\n",
       "      <td>-2.038813</td>\n",
       "      <td>-2.249184</td>\n",
       "      <td>-1.486154</td>\n",
       "    </tr>\n",
       "    <tr>\n",
       "      <th>2000-01-05</th>\n",
       "      <td>2.032643</td>\n",
       "      <td>-0.103226</td>\n",
       "      <td>0.681967</td>\n",
       "      <td>0.900394</td>\n",
       "    </tr>\n",
       "    <tr>\n",
       "      <th>2000-01-06</th>\n",
       "      <td>0.766157</td>\n",
       "      <td>1.269461</td>\n",
       "      <td>-2.125910</td>\n",
       "      <td>0.376657</td>\n",
       "    </tr>\n",
       "    <tr>\n",
       "      <th>2000-01-07</th>\n",
       "      <td>-2.252692</td>\n",
       "      <td>0.948152</td>\n",
       "      <td>0.136550</td>\n",
       "      <td>-0.484152</td>\n",
       "    </tr>\n",
       "    <tr>\n",
       "      <th>2000-01-08</th>\n",
       "      <td>2.928896</td>\n",
       "      <td>-0.613671</td>\n",
       "      <td>0.291236</td>\n",
       "      <td>-2.074055</td>\n",
       "    </tr>\n",
       "  </tbody>\n",
       "</table>\n",
       "</div>"
      ],
      "text/plain": [
       "                   A         B         C         D\n",
       "2000-01-01 -1.354933  0.206253 -1.763504  1.090261\n",
       "2000-01-02 -0.016341  0.839175  1.050656 -0.207724\n",
       "2000-01-03 -1.078707  1.532966  0.600653  0.436237\n",
       "2000-01-04  0.110230 -2.038813 -2.249184 -1.486154\n",
       "2000-01-05  2.032643 -0.103226  0.681967  0.900394\n",
       "2000-01-06  0.766157  1.269461 -2.125910  0.376657\n",
       "2000-01-07 -2.252692  0.948152  0.136550 -0.484152\n",
       "2000-01-08  2.928896 -0.613671  0.291236 -2.074055"
      ]
     },
     "execution_count": 1,
     "metadata": {},
     "output_type": "execute_result"
    }
   ],
   "source": [
    "import numpy as np \n",
    "import pandas as pd\n",
    "\n",
    "dates = pd.date_range('1/1/2000', periods=8)\n",
    "\n",
    "df = pd.DataFrame(np.random.randn(8, 4), index=dates, columns=['A', 'B', 'C', 'D'])\n",
    "\n",
    "df"
   ]
  },
  {
   "cell_type": "code",
   "execution_count": 3,
   "metadata": {},
   "outputs": [
    {
     "data": {
      "text/plain": [
       "2000-01-01   -1.354933\n",
       "2000-01-02   -0.016341\n",
       "2000-01-03   -1.078707\n",
       "2000-01-04    0.110230\n",
       "2000-01-05    2.032643\n",
       "2000-01-06    0.766157\n",
       "2000-01-07   -2.252692\n",
       "2000-01-08    2.928896\n",
       "Freq: D, Name: A, dtype: float64"
      ]
     },
     "execution_count": 3,
     "metadata": {},
     "output_type": "execute_result"
    }
   ],
   "source": [
    "s = df['A']\n",
    "\n",
    "s"
   ]
  },
  {
   "cell_type": "code",
   "execution_count": 4,
   "metadata": {},
   "outputs": [
    {
     "data": {
      "text/plain": [
       "2000-01-01   -1.354933\n",
       "2000-01-02   -0.016341\n",
       "2000-01-03   -1.078707\n",
       "2000-01-04    0.110230\n",
       "2000-01-05    2.032643\n",
       "Freq: D, Name: A, dtype: float64"
      ]
     },
     "execution_count": 4,
     "metadata": {},
     "output_type": "execute_result"
    }
   ],
   "source": [
    "s[:5]"
   ]
  },
  {
   "cell_type": "code",
   "execution_count": 5,
   "metadata": {},
   "outputs": [
    {
     "data": {
      "text/plain": [
       "2000-01-01   -1.354933\n",
       "2000-01-03   -1.078707\n",
       "2000-01-05    2.032643\n",
       "2000-01-07   -2.252692\n",
       "Freq: 2D, Name: A, dtype: float64"
      ]
     },
     "execution_count": 5,
     "metadata": {},
     "output_type": "execute_result"
    }
   ],
   "source": [
    "s[::2]"
   ]
  },
  {
   "cell_type": "code",
   "execution_count": 6,
   "metadata": {},
   "outputs": [
    {
     "data": {
      "text/plain": [
       "2000-01-08    2.928896\n",
       "2000-01-07   -2.252692\n",
       "2000-01-06    0.766157\n",
       "2000-01-05    2.032643\n",
       "2000-01-04    0.110230\n",
       "2000-01-03   -1.078707\n",
       "2000-01-02   -0.016341\n",
       "2000-01-01   -1.354933\n",
       "Freq: -1D, Name: A, dtype: float64"
      ]
     },
     "execution_count": 6,
     "metadata": {},
     "output_type": "execute_result"
    }
   ],
   "source": [
    "s[::-1]"
   ]
  },
  {
   "cell_type": "markdown",
   "metadata": {},
   "source": [
    "Note that setting works as well:\n",
    "\n",
    "请注意，设置也可以工作："
   ]
  },
  {
   "cell_type": "code",
   "execution_count": 7,
   "metadata": {},
   "outputs": [
    {
     "data": {
      "text/plain": [
       "2000-01-01    0.000000\n",
       "2000-01-02    0.000000\n",
       "2000-01-03    0.000000\n",
       "2000-01-04    0.000000\n",
       "2000-01-05    0.000000\n",
       "2000-01-06    0.766157\n",
       "2000-01-07   -2.252692\n",
       "2000-01-08    2.928896\n",
       "Freq: D, Name: A, dtype: float64"
      ]
     },
     "execution_count": 7,
     "metadata": {},
     "output_type": "execute_result"
    }
   ],
   "source": [
    "s2 = s.copy()\n",
    "\n",
    "s2[:5] = 0\n",
    "\n",
    "s2"
   ]
  },
  {
   "cell_type": "markdown",
   "metadata": {},
   "source": [
    "With DataFrame, slicing inside of `[]` **slices the rows**. This is provided largely as a convenience since it is such a common operation.\n",
    "\n",
    "对DataFrame，`[]`内部的切取是**行切片**。 这主要是为了方便而提供的，因为它是非常常见的操作。"
   ]
  },
  {
   "cell_type": "code",
   "execution_count": 8,
   "metadata": {},
   "outputs": [
    {
     "data": {
      "text/html": [
       "<div>\n",
       "<style scoped>\n",
       "    .dataframe tbody tr th:only-of-type {\n",
       "        vertical-align: middle;\n",
       "    }\n",
       "\n",
       "    .dataframe tbody tr th {\n",
       "        vertical-align: top;\n",
       "    }\n",
       "\n",
       "    .dataframe thead th {\n",
       "        text-align: right;\n",
       "    }\n",
       "</style>\n",
       "<table border=\"1\" class=\"dataframe\">\n",
       "  <thead>\n",
       "    <tr style=\"text-align: right;\">\n",
       "      <th></th>\n",
       "      <th>A</th>\n",
       "      <th>B</th>\n",
       "      <th>C</th>\n",
       "      <th>D</th>\n",
       "    </tr>\n",
       "  </thead>\n",
       "  <tbody>\n",
       "    <tr>\n",
       "      <th>2000-01-01</th>\n",
       "      <td>-1.354933</td>\n",
       "      <td>0.206253</td>\n",
       "      <td>-1.763504</td>\n",
       "      <td>1.090261</td>\n",
       "    </tr>\n",
       "    <tr>\n",
       "      <th>2000-01-02</th>\n",
       "      <td>-0.016341</td>\n",
       "      <td>0.839175</td>\n",
       "      <td>1.050656</td>\n",
       "      <td>-0.207724</td>\n",
       "    </tr>\n",
       "    <tr>\n",
       "      <th>2000-01-03</th>\n",
       "      <td>-1.078707</td>\n",
       "      <td>1.532966</td>\n",
       "      <td>0.600653</td>\n",
       "      <td>0.436237</td>\n",
       "    </tr>\n",
       "  </tbody>\n",
       "</table>\n",
       "</div>"
      ],
      "text/plain": [
       "                   A         B         C         D\n",
       "2000-01-01 -1.354933  0.206253 -1.763504  1.090261\n",
       "2000-01-02 -0.016341  0.839175  1.050656 -0.207724\n",
       "2000-01-03 -1.078707  1.532966  0.600653  0.436237"
      ]
     },
     "execution_count": 8,
     "metadata": {},
     "output_type": "execute_result"
    }
   ],
   "source": [
    "df[:3]"
   ]
  },
  {
   "cell_type": "code",
   "execution_count": 10,
   "metadata": {},
   "outputs": [
    {
     "data": {
      "text/html": [
       "<div>\n",
       "<style scoped>\n",
       "    .dataframe tbody tr th:only-of-type {\n",
       "        vertical-align: middle;\n",
       "    }\n",
       "\n",
       "    .dataframe tbody tr th {\n",
       "        vertical-align: top;\n",
       "    }\n",
       "\n",
       "    .dataframe thead th {\n",
       "        text-align: right;\n",
       "    }\n",
       "</style>\n",
       "<table border=\"1\" class=\"dataframe\">\n",
       "  <thead>\n",
       "    <tr style=\"text-align: right;\">\n",
       "      <th></th>\n",
       "      <th>A</th>\n",
       "      <th>B</th>\n",
       "      <th>C</th>\n",
       "      <th>D</th>\n",
       "    </tr>\n",
       "  </thead>\n",
       "  <tbody>\n",
       "    <tr>\n",
       "      <th>2000-01-01</th>\n",
       "      <td>-1.354933</td>\n",
       "      <td>0.206253</td>\n",
       "      <td>-1.763504</td>\n",
       "      <td>1.090261</td>\n",
       "    </tr>\n",
       "    <tr>\n",
       "      <th>2000-01-02</th>\n",
       "      <td>-0.016341</td>\n",
       "      <td>0.839175</td>\n",
       "      <td>1.050656</td>\n",
       "      <td>-0.207724</td>\n",
       "    </tr>\n",
       "    <tr>\n",
       "      <th>2000-01-03</th>\n",
       "      <td>-1.078707</td>\n",
       "      <td>1.532966</td>\n",
       "      <td>0.600653</td>\n",
       "      <td>0.436237</td>\n",
       "    </tr>\n",
       "    <tr>\n",
       "      <th>2000-01-04</th>\n",
       "      <td>0.110230</td>\n",
       "      <td>-2.038813</td>\n",
       "      <td>-2.249184</td>\n",
       "      <td>-1.486154</td>\n",
       "    </tr>\n",
       "    <tr>\n",
       "      <th>2000-01-05</th>\n",
       "      <td>2.032643</td>\n",
       "      <td>-0.103226</td>\n",
       "      <td>0.681967</td>\n",
       "      <td>0.900394</td>\n",
       "    </tr>\n",
       "    <tr>\n",
       "      <th>2000-01-06</th>\n",
       "      <td>0.766157</td>\n",
       "      <td>1.269461</td>\n",
       "      <td>-2.125910</td>\n",
       "      <td>0.376657</td>\n",
       "    </tr>\n",
       "    <tr>\n",
       "      <th>2000-01-07</th>\n",
       "      <td>-2.252692</td>\n",
       "      <td>0.948152</td>\n",
       "      <td>0.136550</td>\n",
       "      <td>-0.484152</td>\n",
       "    </tr>\n",
       "    <tr>\n",
       "      <th>2000-01-08</th>\n",
       "      <td>2.928896</td>\n",
       "      <td>-0.613671</td>\n",
       "      <td>0.291236</td>\n",
       "      <td>-2.074055</td>\n",
       "    </tr>\n",
       "  </tbody>\n",
       "</table>\n",
       "</div>"
      ],
      "text/plain": [
       "                   A         B         C         D\n",
       "2000-01-01 -1.354933  0.206253 -1.763504  1.090261\n",
       "2000-01-02 -0.016341  0.839175  1.050656 -0.207724\n",
       "2000-01-03 -1.078707  1.532966  0.600653  0.436237\n",
       "2000-01-04  0.110230 -2.038813 -2.249184 -1.486154\n",
       "2000-01-05  2.032643 -0.103226  0.681967  0.900394\n",
       "2000-01-06  0.766157  1.269461 -2.125910  0.376657\n",
       "2000-01-07 -2.252692  0.948152  0.136550 -0.484152\n",
       "2000-01-08  2.928896 -0.613671  0.291236 -2.074055"
      ]
     },
     "execution_count": 10,
     "metadata": {},
     "output_type": "execute_result"
    }
   ],
   "source": [
    "df[::1]"
   ]
  },
  {
   "cell_type": "code",
   "execution_count": null,
   "metadata": {},
   "outputs": [],
   "source": []
  },
  {
   "cell_type": "code",
   "execution_count": null,
   "metadata": {},
   "outputs": [],
   "source": []
  }
 ],
 "metadata": {
  "kernelspec": {
   "display_name": "Python 3",
   "language": "python",
   "name": "python3"
  },
  "language_info": {
   "codemirror_mode": {
    "name": "ipython",
    "version": 3
   },
   "file_extension": ".py",
   "mimetype": "text/x-python",
   "name": "python",
   "nbconvert_exporter": "python",
   "pygments_lexer": "ipython3",
   "version": "3.6.6"
  },
  "toc": {
   "nav_menu": {},
   "number_sections": true,
   "sideBar": true,
   "skip_h1_title": false,
   "title_cell": "Table of Contents",
   "title_sidebar": "Contents",
   "toc_cell": false,
   "toc_position": {},
   "toc_section_display": true,
   "toc_window_display": false
  }
 },
 "nbformat": 4,
 "nbformat_minor": 2
}
