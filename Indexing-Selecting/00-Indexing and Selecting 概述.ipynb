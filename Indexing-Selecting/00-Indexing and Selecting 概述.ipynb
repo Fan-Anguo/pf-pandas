{
 "cells": [
  {
   "cell_type": "markdown",
   "metadata": {},
   "source": [
    "# Indexing and Selecting Data\n",
    "\n",
    "**索引和选择数据**\n",
    "\n",
    "The axis labeling information in pandas objects serves many purposes:\n",
    "\n",
    "pandas对象中的轴标记信息有多种用途：\n",
    "\n",
    "> - Identifies data (i.e. provides *metadata*) using known indicators, important for analysis, visualization, and interactive console display\n",
    "> - 使用已知指针标识数据（即提供*metadata*），这对于分析，可视化和交互式控制台显示非常重要\n",
    "> - Enables automatic and explicit data alignment\n",
    "> - 启用自动和显式数据对齐\n",
    "> - Allows intuitive getting and setting of subsets of the data set\n",
    "> - 允许直观地获取和设置数据集的子集\n",
    "\n",
    "In this section, we will focus on the final point: namely, how to slice, dice, and generally get and set subsets of pandas objects. The primary focus will be on Series and DataFrame as they have received more development attention in this area. Expect more work to be invested in higher-dimensional data structures (including `Panel`) in the future, especially in label-based advanced indexing.\n",
    "\n",
    "在本节中，我们将重点关注最后一点：即如何切片，切块，以及通常获取和设置pandas对象的子集。主要关注的是Series和DataFrame，因为它们在这一领域得到了更多的开发关注。预计未来将有更多工作投入更高维度的数据结构（包括“Panel”），特别是在基于标签的高级索引中。\n",
    "\n",
    "**Note** \n",
    "\n",
    "The Python and NumPy indexing operators `[]` and attribute operator `.` provide quick and easy access to pandas data structures across a wide range of use cases. This makes interactive work intuitive, as there’s little new to learn if you already know how to deal with Python dictionaries and NumPy arrays. However, since the type of the data to be accessed isn’t known in advance, directly using standard operators has some optimization limits. For production code, we recommended that you take advantage of the optimized pandas data access methods exposed in this chapter.\n",
    "\n",
    "Python和NumPy索引操作符`[]`和属性操作符`.`提供了对pandas数据结构快速和轻松访问广泛的案例。这使得交互式工作变得直观，因为如果您已经知道如何处理Python字典和NumPy数组，那么几乎没有什么新东西需要学习。但是，由于要访问的数据类型不是预先知道的，因此直接使用标准运算符会有一些优化限制。对于生产代码，我们建议您利用本章中介绍的优化的pandas数据访问方法。"
   ]
  },
  {
   "cell_type": "markdown",
   "metadata": {},
   "source": [
    "**Warning **\n",
    "\n",
    "Whether a copy or a reference is returned for a setting operation, may depend on the context. This is sometimes called `chained assignment` and should be avoided. See [Returning a View versus Copy](http://pandas.pydata.org/pandas-docs/version/0.20.3/indexing.html#indexing-view-versus-copy)\n",
    "\n",
    "**Warning **\n",
    "\n",
    "对于一个设置操作是返回副本还是引用, 可能取决于上下文环境。这有时被称为 `chained assignment` （链式分配），应该尽尽可能避免这种情况。参见 [Returning a View versus Copy](http://pandas.pydata.org/pandas-docs/version/0.20.3/indexing.html#indexing-view-versus-copy)"
   ]
  },
  {
   "cell_type": "markdown",
   "metadata": {},
   "source": [
    "**Warning**\n",
    "\n",
    "In 0.15.0 `Index` has internally been refactored to no longer subclass `ndarray` but instead subclass`PandasObject`, similarly to the rest of the pandas objects. This should be a transparent change with only very limited API implications (See the [Internal Refactoring](http://pandas.pydata.org/pandas-docs/version/0.20.3/whatsnew.html#whatsnew-0150-refactoring))"
   ]
  },
  {
   "cell_type": "markdown",
   "metadata": {},
   "source": [
    "在 0.15.0 版中， `Index` 已在内部重构为不再子类化`ndarray` 而是子类化`PandasObject`, 类似于其它pandas对象。这是一个透明的变化，仅有非常有限的API含义 (参见 [Internal Refactoring](http://pandas.pydata.org/pandas-docs/version/0.20.3/whatsnew.html#whatsnew-0150-refactoring))"
   ]
  },
  {
   "cell_type": "markdown",
   "metadata": {},
   "source": [
    "**Warning**\n",
    "\n",
    "Indexing on an integer-based Index with floats has been clarified in 0.18.0, for a summary of the changes, see [here](http://pandas.pydata.org/pandas-docs/version/0.20.3/whatsnew.html#whatsnew-0180-float-indexers).\n",
    "\n",
    "使用浮点数对基于整数的索引进行索引已在0.18.0中进行了说明，有关更改的摘要，请参见[here](http://pandas.pydata.org/pandas-docs/version/0.20.3/whatsnew.html#whatsnew-0180-float-indexers).。"
   ]
  },
  {
   "cell_type": "markdown",
   "metadata": {},
   "source": [
    "See the [MultiIndex / Advanced Indexing](http://pandas.pydata.org/pandas-docs/version/0.20.3/advanced.html#advanced) for `MultiIndex` and more advanced indexing documentation.\n",
    "\n",
    "See the [cookbook](http://pandas.pydata.org/pandas-docs/version/0.20.3/cookbook.html#cookbook-selection) for some advanced strategies\n",
    "\n",
    "关于 `MultiIndex` 和更高级的检索说明请参见 [MultiIndex / Advanced Indexing](http://pandas.pydata.org/pandas-docs/version/0.20.3/advanced.html#advanced) 。\n",
    "\n",
    "关于一些高级的策略请参见[cookbook](http://pandas.pydata.org/pandas-docs/version/0.20.3/cookbook.html#cookbook-selection)。"
   ]
  },
  {
   "cell_type": "markdown",
   "metadata": {},
   "source": []
  },
  {
   "cell_type": "markdown",
   "metadata": {},
   "source": []
  },
  {
   "cell_type": "markdown",
   "metadata": {},
   "source": []
  }
 ],
 "metadata": {
  "kernelspec": {
   "display_name": "Python 3",
   "language": "python",
   "name": "python3"
  },
  "language_info": {
   "codemirror_mode": {
    "name": "ipython",
    "version": 3
   },
   "file_extension": ".py",
   "mimetype": "text/x-python",
   "name": "python",
   "nbconvert_exporter": "python",
   "pygments_lexer": "ipython3",
   "version": "3.6.6"
  },
  "toc": {
   "nav_menu": {},
   "number_sections": true,
   "sideBar": true,
   "skip_h1_title": false,
   "title_cell": "Table of Contents",
   "title_sidebar": "Contents",
   "toc_cell": false,
   "toc_position": {},
   "toc_section_display": true,
   "toc_window_display": false
  }
 },
 "nbformat": 4,
 "nbformat_minor": 2
}
