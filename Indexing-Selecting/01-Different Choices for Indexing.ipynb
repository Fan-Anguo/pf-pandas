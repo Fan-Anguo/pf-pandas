{
 "cells": [
  {
   "cell_type": "markdown",
   "metadata": {},
   "source": [
    "Different Choices for Indexing\n",
    "====\n",
    "**索引的不同选择**"
   ]
  },
  {
   "cell_type": "markdown",
   "metadata": {},
   "source": [
    "New in version 0.11.0.\n",
    "\n",
    "Object selection has had a number of user-requested additions in order to support more explicit location based indexing. Pandas now supports three types of multi-axis indexing.\n",
    "\n",
    "\n",
    "版本0.11.0中的新功能。\n",
    "\n",
    "有许多用户请求添加对象选择以支持更明确的基于位置的索引。 Pandas现在支持三种类型的多轴索引。"
   ]
  },
  {
   "cell_type": "markdown",
   "metadata": {},
   "source": [
    "- `.loc` is primarily label based, but may also be used with a boolean array. `.loc` will raise `KeyError` when the items are not found. Allowed inputs are:\n",
    "- `.loc`主要是基于标签的，但也可以与布尔数组一起使用。当找不到条目时，`.loc`将引发`KeyError`。 允许的输入是：\n",
    "\n",
    ">- A single label, e.g. `5` or `'a'`, (note that `5` is interpreted as a *label* of the index. This use is **not** an integer position along the index)\n",
    "> - 单个标签，例如 `5`或`'a'`，（注意`5`被解释为索引的*标签*。这个用法**不是**沿索引的整数位置）\n",
    "\n",
    ">- A list or array of labels `['a', 'b', 'c']`\n",
    "> - 标签列表或数组`['a'，'b'，'c']`\n",
    "\n",
    ">- A slice object with labels `'a':'f'`, (note that contrary to usual python slices, **both** the start and the stop are included!)\n",
    "> - 带有标签`'a':'f'`的切片对象：（注意，与通常的python切片相反，起始和停止**都**被包括！）\n",
    "\n",
    ">- A boolean array\n",
    "> - 布尔数组\n",
    "\n",
    ">- A `callable` function with one argument (the calling Series, DataFrame or Panel) and that returns valid output for indexing (one of the above)\n",
    "> - 带有一个参数（调用Series，DataFrame或Panel）的`callable`函数，它返回索引的有效输出（上面之一）"
   ]
  },
  {
   "cell_type": "markdown",
   "metadata": {},
   "source": [
    "New in version 0.18.1.\n",
    "\n",
    "更多内容参见 [Selection by Label](http://pandas.pydata.org/pandas-docs/version/0.20.3/indexing.html#indexing-label)"
   ]
  },
  {
   "cell_type": "markdown",
   "metadata": {},
   "source": [
    "- `.iloc` is primarily integer position based (from `0` to `length-1` of the axis), but may also be used with a boolean array. `.iloc` will raise `IndexError` if a requested indexer is out-of-bounds, except *slice* indexers which allow out-of-bounds indexing. (this conforms with python/numpy *slice* semantics). Allowed inputs are:\n",
    "- `.iloc`主要是基于整数位置（从轴的“0”到“length-1”），但也可以与布尔数组一起使用。 如果请求的索引器超出范围，`.iloc`将引发`IndexError`，但* slice * indexers除外，它允许越界索引。 （这符合python / numpy * slice *语义）。 允许的输入是：\n",
    "\n",
    ">- An integer e.g. `5`\n",
    ">- A list or array of integers `[4, 3, 0]`\n",
    ">- A slice object with ints `1:7`\n",
    ">- A boolean array\n",
    ">- A `callable` function with one argument (the calling Series, DataFrame or Panel) and that returns valid output for indexing (one of the above)\n",
    "\n",
    "\n",
    "> - 整数，例如`5`\n",
    "> - 整数列表或数组`[4,3,0]`\n",
    "> - 具有整数“1：7”的切片对象\n",
    "> - 布尔数组\n",
    "> - 带有一个参数（调用Series，DataFrame或Panel）的`callable`函数，它返回索引的有效输出（上面之一）"
   ]
  },
  {
   "cell_type": "markdown",
   "metadata": {},
   "source": [
    "New in version 0.18.1.\n",
    "\n",
    "See more at [Selection by Position](http://pandas.pydata.org/pandas-docs/version/0.20.3/indexing.html#indexing-integer)\n",
    "\n",
    "See more at [Advanced Indexing](http://pandas.pydata.org/pandas-docs/version/0.20.3/advanced.html#advanced) and [Advanced Hierarchical](http://pandas.pydata.org/pandas-docs/version/0.20.3/advanced.html#advanced-advanced-hierarchical)."
   ]
  },
  {
   "cell_type": "markdown",
   "metadata": {},
   "source": [
    "- `.loc`, `.iloc`, and also `[]` indexing can accept a `callable` as indexer. See more at [Selection By Callable](http://pandas.pydata.org/pandas-docs/version/0.20.3/indexing.html#indexing-callable).\n",
    "\n",
    "Getting values from an object with multi-axes selection uses the following notation (using `.loc` as an example, but applies to `.iloc` as well). Any of the axes accessors may be the null slice `:`. Axes left out of the specification are assumed to be `:`. (e.g. `p.loc['a']` is equiv to `p.loc['a', :, :]`)"
   ]
  },
  {
   "cell_type": "markdown",
   "metadata": {},
   "source": [
    "- `.loc`, `.iloc`, 和 `[]` 索引可以接受一个 `callable`作为索引器。更多内容请参见 [Selection By Callable](http://pandas.pydata.org/pandas-docs/version/0.20.3/indexing.html#indexing-callable).\n",
    "\n",
    "从具有多轴选择的对象获取值使用以下表示法(使用 `.loc` 作为例子，但也适用于`.iloc`).  任何轴访问器都可以是空切片`:`。在规范中遗漏的轴被认为是 `:`。(例如. `p.loc['a']` 等于 `p.loc['a', :, :]`)"
   ]
  },
  {
   "cell_type": "markdown",
   "metadata": {},
   "source": [
    "| Object   Type | Indexers                                        |\n",
    "| ------------- | ----------------------------------------------- |\n",
    "| Series        | s.loc[indexer]                                  |\n",
    "| DataFrame     | df.loc[row_indexer,column_indexer]              |\n",
    "| Panel         | p.loc[item_indexer,major_indexer,minor_indexer] |"
   ]
  },
  {
   "cell_type": "markdown",
   "metadata": {},
   "source": [
    "# End"
   ]
  }
 ],
 "metadata": {
  "kernelspec": {
   "display_name": "Python 3",
   "language": "python",
   "name": "python3"
  },
  "language_info": {
   "codemirror_mode": {
    "name": "ipython",
    "version": 3
   },
   "file_extension": ".py",
   "mimetype": "text/x-python",
   "name": "python",
   "nbconvert_exporter": "python",
   "pygments_lexer": "ipython3",
   "version": "3.6.6"
  },
  "toc": {
   "base_numbering": 1,
   "nav_menu": {},
   "number_sections": true,
   "sideBar": true,
   "skip_h1_title": false,
   "title_cell": "Table of Contents",
   "title_sidebar": "Contents",
   "toc_cell": false,
   "toc_position": {},
   "toc_section_display": true,
   "toc_window_display": false
  }
 },
 "nbformat": 4,
 "nbformat_minor": 2
}
