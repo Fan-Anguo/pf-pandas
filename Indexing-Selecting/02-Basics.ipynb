{
 "cells": [
  {
   "cell_type": "markdown",
   "metadata": {},
   "source": [
    "Basics\n",
    "===="
   ]
  },
  {
   "cell_type": "markdown",
   "metadata": {},
   "source": [
    "As mentioned when introducing the data structures in the [last section](http://pandas.pydata.org/pandas-docs/version/0.20.3/basics.html#basics), the primary function of indexing with `[]` (a.k.a. `__getitem__` for those familiar with implementing class behavior in Python) is selecting out lower-dimensional slices. Thus,\n",
    "\n",
    "As mentioned when introducing the data structures in the 正如在 [last section](http://pandas.pydata.org/pandas-docs/version/0.20.3/basics.html#basics)中介绍数据结构时提到的，使用`[]`(对于那些熟悉在Python中实现类行为的人来说又称为 `__getitem__`)检索的主要功能是选择出低维的切片。因此,"
   ]
  },
  {
   "cell_type": "markdown",
   "metadata": {},
   "source": [
    "| Object Type | Selection         | Return Value Type                         |\n",
    "| ----------- | ----------------- | ----------------------------------------- |\n",
    "| Series      | `series[label]`   | scalar value                              |\n",
    "| DataFrame   | `frame[colname]`  | `Series` corresponding to colname         |\n",
    "| Panel       | `panel[itemname]` | `DataFrame` corresponding to the itemname |"
   ]
  },
  {
   "cell_type": "markdown",
   "metadata": {},
   "source": [
    "Here we construct a simple time series data set to use for illustrating the indexing functionality:\n",
    "\n",
    "下面，我们构造一个简单的时间序列数据集，用于说明索引功能："
   ]
  },
  {
   "cell_type": "code",
   "execution_count": 3,
   "metadata": {},
   "outputs": [
    {
     "data": {
      "text/html": [
       "<div>\n",
       "<style scoped>\n",
       "    .dataframe tbody tr th:only-of-type {\n",
       "        vertical-align: middle;\n",
       "    }\n",
       "\n",
       "    .dataframe tbody tr th {\n",
       "        vertical-align: top;\n",
       "    }\n",
       "\n",
       "    .dataframe thead th {\n",
       "        text-align: right;\n",
       "    }\n",
       "</style>\n",
       "<table border=\"1\" class=\"dataframe\">\n",
       "  <thead>\n",
       "    <tr style=\"text-align: right;\">\n",
       "      <th></th>\n",
       "      <th>A</th>\n",
       "      <th>B</th>\n",
       "      <th>C</th>\n",
       "      <th>D</th>\n",
       "    </tr>\n",
       "  </thead>\n",
       "  <tbody>\n",
       "    <tr>\n",
       "      <th>2000-01-01</th>\n",
       "      <td>0.289160</td>\n",
       "      <td>-0.495616</td>\n",
       "      <td>0.091665</td>\n",
       "      <td>0.610683</td>\n",
       "    </tr>\n",
       "    <tr>\n",
       "      <th>2000-01-02</th>\n",
       "      <td>0.078071</td>\n",
       "      <td>-0.445411</td>\n",
       "      <td>1.190165</td>\n",
       "      <td>0.194903</td>\n",
       "    </tr>\n",
       "    <tr>\n",
       "      <th>2000-01-03</th>\n",
       "      <td>-0.037347</td>\n",
       "      <td>-1.939111</td>\n",
       "      <td>-0.734941</td>\n",
       "      <td>-0.210678</td>\n",
       "    </tr>\n",
       "    <tr>\n",
       "      <th>2000-01-04</th>\n",
       "      <td>0.684029</td>\n",
       "      <td>1.675777</td>\n",
       "      <td>0.676420</td>\n",
       "      <td>-0.621123</td>\n",
       "    </tr>\n",
       "    <tr>\n",
       "      <th>2000-01-05</th>\n",
       "      <td>0.493408</td>\n",
       "      <td>0.894284</td>\n",
       "      <td>0.419566</td>\n",
       "      <td>0.465993</td>\n",
       "    </tr>\n",
       "    <tr>\n",
       "      <th>2000-01-06</th>\n",
       "      <td>1.077312</td>\n",
       "      <td>0.381970</td>\n",
       "      <td>1.702055</td>\n",
       "      <td>-0.107530</td>\n",
       "    </tr>\n",
       "    <tr>\n",
       "      <th>2000-01-07</th>\n",
       "      <td>0.336457</td>\n",
       "      <td>0.181531</td>\n",
       "      <td>1.079590</td>\n",
       "      <td>-1.066298</td>\n",
       "    </tr>\n",
       "    <tr>\n",
       "      <th>2000-01-08</th>\n",
       "      <td>0.414856</td>\n",
       "      <td>0.029001</td>\n",
       "      <td>0.398494</td>\n",
       "      <td>0.257284</td>\n",
       "    </tr>\n",
       "  </tbody>\n",
       "</table>\n",
       "</div>"
      ],
      "text/plain": [
       "                   A         B         C         D\n",
       "2000-01-01  0.289160 -0.495616  0.091665  0.610683\n",
       "2000-01-02  0.078071 -0.445411  1.190165  0.194903\n",
       "2000-01-03 -0.037347 -1.939111 -0.734941 -0.210678\n",
       "2000-01-04  0.684029  1.675777  0.676420 -0.621123\n",
       "2000-01-05  0.493408  0.894284  0.419566  0.465993\n",
       "2000-01-06  1.077312  0.381970  1.702055 -0.107530\n",
       "2000-01-07  0.336457  0.181531  1.079590 -1.066298\n",
       "2000-01-08  0.414856  0.029001  0.398494  0.257284"
      ]
     },
     "execution_count": 3,
     "metadata": {},
     "output_type": "execute_result"
    }
   ],
   "source": [
    "import numpy as np \n",
    "import pandas as pd\n",
    "\n",
    "dates = pd.date_range('1/1/2000', periods=8)\n",
    "\n",
    "df = pd.DataFrame(np.random.randn(8, 4), index=dates, columns=['A', 'B', 'C', 'D'])\n",
    "\n",
    "df"
   ]
  },
  {
   "cell_type": "code",
   "execution_count": 5,
   "metadata": {},
   "outputs": [
    {
     "name": "stderr",
     "output_type": "stream",
     "text": [
      "C:\\ProgramData\\Anaconda3\\lib\\site-packages\\IPython\\core\\interactiveshell.py:2961: FutureWarning: \n",
      "Panel is deprecated and will be removed in a future version.\n",
      "The recommended way to represent these types of 3-dimensional data are with a MultiIndex on a DataFrame, via the Panel.to_frame() method\n",
      "Alternatively, you can use the xarray package http://xarray.pydata.org/en/stable/.\n",
      "Pandas provides a `.to_xarray()` method to help automate this conversion.\n",
      "\n",
      "  exec(code_obj, self.user_global_ns, self.user_ns)\n"
     ]
    },
    {
     "data": {
      "text/plain": [
       "<class 'pandas.core.panel.Panel'>\n",
       "Dimensions: 2 (items) x 8 (major_axis) x 4 (minor_axis)\n",
       "Items axis: one to two\n",
       "Major_axis axis: 2000-01-01 00:00:00 to 2000-01-08 00:00:00\n",
       "Minor_axis axis: A to D"
      ]
     },
     "execution_count": 5,
     "metadata": {},
     "output_type": "execute_result"
    }
   ],
   "source": [
    "panel = pd.Panel({'one' : df, 'two' : df - df.mean()})\n",
    "\n",
    "panel"
   ]
  },
  {
   "cell_type": "markdown",
   "metadata": {},
   "source": [
    "**Note** None of the indexing functionality is time series specific unless specifically stated.\n",
    "\n",
    "注意除非特别说明，否则索引功能都不是特定于时间序列的。"
   ]
  },
  {
   "cell_type": "markdown",
   "metadata": {},
   "source": [
    "Thus, as per above, we have the most basic indexing using `[]`:\n",
    "\n",
    "因此，如上所述，我们使用`[]`进行最基本的索引："
   ]
  },
  {
   "cell_type": "code",
   "execution_count": 7,
   "metadata": {},
   "outputs": [
    {
     "data": {
      "text/plain": [
       "2000-01-01    0.289160\n",
       "2000-01-02    0.078071\n",
       "2000-01-03   -0.037347\n",
       "2000-01-04    0.684029\n",
       "2000-01-05    0.493408\n",
       "2000-01-06    1.077312\n",
       "2000-01-07    0.336457\n",
       "2000-01-08    0.414856\n",
       "Freq: D, Name: A, dtype: float64"
      ]
     },
     "execution_count": 7,
     "metadata": {},
     "output_type": "execute_result"
    }
   ],
   "source": [
    "s = df['A']\n",
    "\n",
    "s"
   ]
  },
  {
   "cell_type": "code",
   "execution_count": 9,
   "metadata": {},
   "outputs": [
    {
     "data": {
      "text/plain": [
       "1.0773119735983447"
      ]
     },
     "execution_count": 9,
     "metadata": {},
     "output_type": "execute_result"
    }
   ],
   "source": [
    "s[dates[5]]"
   ]
  },
  {
   "cell_type": "code",
   "execution_count": 10,
   "metadata": {},
   "outputs": [
    {
     "data": {
      "text/html": [
       "<div>\n",
       "<style scoped>\n",
       "    .dataframe tbody tr th:only-of-type {\n",
       "        vertical-align: middle;\n",
       "    }\n",
       "\n",
       "    .dataframe tbody tr th {\n",
       "        vertical-align: top;\n",
       "    }\n",
       "\n",
       "    .dataframe thead th {\n",
       "        text-align: right;\n",
       "    }\n",
       "</style>\n",
       "<table border=\"1\" class=\"dataframe\">\n",
       "  <thead>\n",
       "    <tr style=\"text-align: right;\">\n",
       "      <th></th>\n",
       "      <th>A</th>\n",
       "      <th>B</th>\n",
       "      <th>C</th>\n",
       "      <th>D</th>\n",
       "    </tr>\n",
       "  </thead>\n",
       "  <tbody>\n",
       "    <tr>\n",
       "      <th>2000-01-01</th>\n",
       "      <td>-0.127833</td>\n",
       "      <td>-0.530919</td>\n",
       "      <td>-0.511212</td>\n",
       "      <td>0.670278</td>\n",
       "    </tr>\n",
       "    <tr>\n",
       "      <th>2000-01-02</th>\n",
       "      <td>-0.338922</td>\n",
       "      <td>-0.480714</td>\n",
       "      <td>0.587289</td>\n",
       "      <td>0.254499</td>\n",
       "    </tr>\n",
       "    <tr>\n",
       "      <th>2000-01-03</th>\n",
       "      <td>-0.454341</td>\n",
       "      <td>-1.974414</td>\n",
       "      <td>-1.337817</td>\n",
       "      <td>-0.151082</td>\n",
       "    </tr>\n",
       "    <tr>\n",
       "      <th>2000-01-04</th>\n",
       "      <td>0.267035</td>\n",
       "      <td>1.640474</td>\n",
       "      <td>0.073543</td>\n",
       "      <td>-0.561528</td>\n",
       "    </tr>\n",
       "    <tr>\n",
       "      <th>2000-01-05</th>\n",
       "      <td>0.076415</td>\n",
       "      <td>0.858981</td>\n",
       "      <td>-0.183311</td>\n",
       "      <td>0.525589</td>\n",
       "    </tr>\n",
       "    <tr>\n",
       "      <th>2000-01-06</th>\n",
       "      <td>0.660319</td>\n",
       "      <td>0.346667</td>\n",
       "      <td>1.099178</td>\n",
       "      <td>-0.047934</td>\n",
       "    </tr>\n",
       "    <tr>\n",
       "      <th>2000-01-07</th>\n",
       "      <td>-0.080536</td>\n",
       "      <td>0.146228</td>\n",
       "      <td>0.476713</td>\n",
       "      <td>-1.006702</td>\n",
       "    </tr>\n",
       "    <tr>\n",
       "      <th>2000-01-08</th>\n",
       "      <td>-0.002138</td>\n",
       "      <td>-0.006302</td>\n",
       "      <td>-0.204383</td>\n",
       "      <td>0.316880</td>\n",
       "    </tr>\n",
       "  </tbody>\n",
       "</table>\n",
       "</div>"
      ],
      "text/plain": [
       "                   A         B         C         D\n",
       "2000-01-01 -0.127833 -0.530919 -0.511212  0.670278\n",
       "2000-01-02 -0.338922 -0.480714  0.587289  0.254499\n",
       "2000-01-03 -0.454341 -1.974414 -1.337817 -0.151082\n",
       "2000-01-04  0.267035  1.640474  0.073543 -0.561528\n",
       "2000-01-05  0.076415  0.858981 -0.183311  0.525589\n",
       "2000-01-06  0.660319  0.346667  1.099178 -0.047934\n",
       "2000-01-07 -0.080536  0.146228  0.476713 -1.006702\n",
       "2000-01-08 -0.002138 -0.006302 -0.204383  0.316880"
      ]
     },
     "execution_count": 10,
     "metadata": {},
     "output_type": "execute_result"
    }
   ],
   "source": [
    " panel['two']"
   ]
  },
  {
   "cell_type": "markdown",
   "metadata": {},
   "source": [
    "YYou can pass a list of columns to `[]` to select columns in that order. If a column is not contained in the DataFrame, an exception will be raised. Multiple columns can also be set in this manner:\n",
    "\n",
    "您可以将列列表传递给`[]`以按顺序选择列。 如果DataFrame中未包含列，则会引发异常。 也可以通过以下方式设置多列："
   ]
  },
  {
   "cell_type": "code",
   "execution_count": 11,
   "metadata": {},
   "outputs": [
    {
     "data": {
      "text/html": [
       "<div>\n",
       "<style scoped>\n",
       "    .dataframe tbody tr th:only-of-type {\n",
       "        vertical-align: middle;\n",
       "    }\n",
       "\n",
       "    .dataframe tbody tr th {\n",
       "        vertical-align: top;\n",
       "    }\n",
       "\n",
       "    .dataframe thead th {\n",
       "        text-align: right;\n",
       "    }\n",
       "</style>\n",
       "<table border=\"1\" class=\"dataframe\">\n",
       "  <thead>\n",
       "    <tr style=\"text-align: right;\">\n",
       "      <th></th>\n",
       "      <th>A</th>\n",
       "      <th>B</th>\n",
       "      <th>C</th>\n",
       "      <th>D</th>\n",
       "    </tr>\n",
       "  </thead>\n",
       "  <tbody>\n",
       "    <tr>\n",
       "      <th>2000-01-01</th>\n",
       "      <td>0.289160</td>\n",
       "      <td>-0.495616</td>\n",
       "      <td>0.091665</td>\n",
       "      <td>0.610683</td>\n",
       "    </tr>\n",
       "    <tr>\n",
       "      <th>2000-01-02</th>\n",
       "      <td>0.078071</td>\n",
       "      <td>-0.445411</td>\n",
       "      <td>1.190165</td>\n",
       "      <td>0.194903</td>\n",
       "    </tr>\n",
       "    <tr>\n",
       "      <th>2000-01-03</th>\n",
       "      <td>-0.037347</td>\n",
       "      <td>-1.939111</td>\n",
       "      <td>-0.734941</td>\n",
       "      <td>-0.210678</td>\n",
       "    </tr>\n",
       "    <tr>\n",
       "      <th>2000-01-04</th>\n",
       "      <td>0.684029</td>\n",
       "      <td>1.675777</td>\n",
       "      <td>0.676420</td>\n",
       "      <td>-0.621123</td>\n",
       "    </tr>\n",
       "    <tr>\n",
       "      <th>2000-01-05</th>\n",
       "      <td>0.493408</td>\n",
       "      <td>0.894284</td>\n",
       "      <td>0.419566</td>\n",
       "      <td>0.465993</td>\n",
       "    </tr>\n",
       "    <tr>\n",
       "      <th>2000-01-06</th>\n",
       "      <td>1.077312</td>\n",
       "      <td>0.381970</td>\n",
       "      <td>1.702055</td>\n",
       "      <td>-0.107530</td>\n",
       "    </tr>\n",
       "    <tr>\n",
       "      <th>2000-01-07</th>\n",
       "      <td>0.336457</td>\n",
       "      <td>0.181531</td>\n",
       "      <td>1.079590</td>\n",
       "      <td>-1.066298</td>\n",
       "    </tr>\n",
       "    <tr>\n",
       "      <th>2000-01-08</th>\n",
       "      <td>0.414856</td>\n",
       "      <td>0.029001</td>\n",
       "      <td>0.398494</td>\n",
       "      <td>0.257284</td>\n",
       "    </tr>\n",
       "  </tbody>\n",
       "</table>\n",
       "</div>"
      ],
      "text/plain": [
       "                   A         B         C         D\n",
       "2000-01-01  0.289160 -0.495616  0.091665  0.610683\n",
       "2000-01-02  0.078071 -0.445411  1.190165  0.194903\n",
       "2000-01-03 -0.037347 -1.939111 -0.734941 -0.210678\n",
       "2000-01-04  0.684029  1.675777  0.676420 -0.621123\n",
       "2000-01-05  0.493408  0.894284  0.419566  0.465993\n",
       "2000-01-06  1.077312  0.381970  1.702055 -0.107530\n",
       "2000-01-07  0.336457  0.181531  1.079590 -1.066298\n",
       "2000-01-08  0.414856  0.029001  0.398494  0.257284"
      ]
     },
     "execution_count": 11,
     "metadata": {},
     "output_type": "execute_result"
    }
   ],
   "source": [
    "df"
   ]
  },
  {
   "cell_type": "code",
   "execution_count": 12,
   "metadata": {},
   "outputs": [],
   "source": [
    "df[['B', 'A']] = df[['A', 'B']]"
   ]
  },
  {
   "cell_type": "code",
   "execution_count": 13,
   "metadata": {},
   "outputs": [
    {
     "data": {
      "text/html": [
       "<div>\n",
       "<style scoped>\n",
       "    .dataframe tbody tr th:only-of-type {\n",
       "        vertical-align: middle;\n",
       "    }\n",
       "\n",
       "    .dataframe tbody tr th {\n",
       "        vertical-align: top;\n",
       "    }\n",
       "\n",
       "    .dataframe thead th {\n",
       "        text-align: right;\n",
       "    }\n",
       "</style>\n",
       "<table border=\"1\" class=\"dataframe\">\n",
       "  <thead>\n",
       "    <tr style=\"text-align: right;\">\n",
       "      <th></th>\n",
       "      <th>A</th>\n",
       "      <th>B</th>\n",
       "      <th>C</th>\n",
       "      <th>D</th>\n",
       "    </tr>\n",
       "  </thead>\n",
       "  <tbody>\n",
       "    <tr>\n",
       "      <th>2000-01-01</th>\n",
       "      <td>-0.495616</td>\n",
       "      <td>0.289160</td>\n",
       "      <td>0.091665</td>\n",
       "      <td>0.610683</td>\n",
       "    </tr>\n",
       "    <tr>\n",
       "      <th>2000-01-02</th>\n",
       "      <td>-0.445411</td>\n",
       "      <td>0.078071</td>\n",
       "      <td>1.190165</td>\n",
       "      <td>0.194903</td>\n",
       "    </tr>\n",
       "    <tr>\n",
       "      <th>2000-01-03</th>\n",
       "      <td>-1.939111</td>\n",
       "      <td>-0.037347</td>\n",
       "      <td>-0.734941</td>\n",
       "      <td>-0.210678</td>\n",
       "    </tr>\n",
       "    <tr>\n",
       "      <th>2000-01-04</th>\n",
       "      <td>1.675777</td>\n",
       "      <td>0.684029</td>\n",
       "      <td>0.676420</td>\n",
       "      <td>-0.621123</td>\n",
       "    </tr>\n",
       "    <tr>\n",
       "      <th>2000-01-05</th>\n",
       "      <td>0.894284</td>\n",
       "      <td>0.493408</td>\n",
       "      <td>0.419566</td>\n",
       "      <td>0.465993</td>\n",
       "    </tr>\n",
       "    <tr>\n",
       "      <th>2000-01-06</th>\n",
       "      <td>0.381970</td>\n",
       "      <td>1.077312</td>\n",
       "      <td>1.702055</td>\n",
       "      <td>-0.107530</td>\n",
       "    </tr>\n",
       "    <tr>\n",
       "      <th>2000-01-07</th>\n",
       "      <td>0.181531</td>\n",
       "      <td>0.336457</td>\n",
       "      <td>1.079590</td>\n",
       "      <td>-1.066298</td>\n",
       "    </tr>\n",
       "    <tr>\n",
       "      <th>2000-01-08</th>\n",
       "      <td>0.029001</td>\n",
       "      <td>0.414856</td>\n",
       "      <td>0.398494</td>\n",
       "      <td>0.257284</td>\n",
       "    </tr>\n",
       "  </tbody>\n",
       "</table>\n",
       "</div>"
      ],
      "text/plain": [
       "                   A         B         C         D\n",
       "2000-01-01 -0.495616  0.289160  0.091665  0.610683\n",
       "2000-01-02 -0.445411  0.078071  1.190165  0.194903\n",
       "2000-01-03 -1.939111 -0.037347 -0.734941 -0.210678\n",
       "2000-01-04  1.675777  0.684029  0.676420 -0.621123\n",
       "2000-01-05  0.894284  0.493408  0.419566  0.465993\n",
       "2000-01-06  0.381970  1.077312  1.702055 -0.107530\n",
       "2000-01-07  0.181531  0.336457  1.079590 -1.066298\n",
       "2000-01-08  0.029001  0.414856  0.398494  0.257284"
      ]
     },
     "execution_count": 13,
     "metadata": {},
     "output_type": "execute_result"
    }
   ],
   "source": [
    "df"
   ]
  },
  {
   "cell_type": "markdown",
   "metadata": {},
   "source": [
    "You may find this useful for applying a transform (in-place) to a subset of the columns.\n",
    "\n",
    "您可能会发现这对于将变换（就地）应用于列的子集非常有用。"
   ]
  },
  {
   "cell_type": "markdown",
   "metadata": {},
   "source": [
    "**Warning** \n",
    "\n",
    "pandas aligns all AXES when setting `Series` and `DataFrame` from `.loc`, and `.iloc`.\n",
    "\n",
    "当从`.loc`和`.iloc`设置`Series`和`DataFrame`时，pandas会对齐所有AXES。\n",
    "\n",
    "This will **not** modify `df` because the column alignment is before value assignment.\n",
    "\n",
    "这不会修改`df`，因为列对齐在赋值之前。"
   ]
  },
  {
   "cell_type": "code",
   "execution_count": 17,
   "metadata": {},
   "outputs": [
    {
     "data": {
      "text/html": [
       "<div>\n",
       "<style scoped>\n",
       "    .dataframe tbody tr th:only-of-type {\n",
       "        vertical-align: middle;\n",
       "    }\n",
       "\n",
       "    .dataframe tbody tr th {\n",
       "        vertical-align: top;\n",
       "    }\n",
       "\n",
       "    .dataframe thead th {\n",
       "        text-align: right;\n",
       "    }\n",
       "</style>\n",
       "<table border=\"1\" class=\"dataframe\">\n",
       "  <thead>\n",
       "    <tr style=\"text-align: right;\">\n",
       "      <th></th>\n",
       "      <th>A</th>\n",
       "      <th>B</th>\n",
       "    </tr>\n",
       "  </thead>\n",
       "  <tbody>\n",
       "    <tr>\n",
       "      <th>2000-01-01</th>\n",
       "      <td>-0.495616</td>\n",
       "      <td>0.289160</td>\n",
       "    </tr>\n",
       "    <tr>\n",
       "      <th>2000-01-02</th>\n",
       "      <td>-0.445411</td>\n",
       "      <td>0.078071</td>\n",
       "    </tr>\n",
       "    <tr>\n",
       "      <th>2000-01-03</th>\n",
       "      <td>-1.939111</td>\n",
       "      <td>-0.037347</td>\n",
       "    </tr>\n",
       "    <tr>\n",
       "      <th>2000-01-04</th>\n",
       "      <td>1.675777</td>\n",
       "      <td>0.684029</td>\n",
       "    </tr>\n",
       "    <tr>\n",
       "      <th>2000-01-05</th>\n",
       "      <td>0.894284</td>\n",
       "      <td>0.493408</td>\n",
       "    </tr>\n",
       "    <tr>\n",
       "      <th>2000-01-06</th>\n",
       "      <td>0.381970</td>\n",
       "      <td>1.077312</td>\n",
       "    </tr>\n",
       "    <tr>\n",
       "      <th>2000-01-07</th>\n",
       "      <td>0.181531</td>\n",
       "      <td>0.336457</td>\n",
       "    </tr>\n",
       "    <tr>\n",
       "      <th>2000-01-08</th>\n",
       "      <td>0.029001</td>\n",
       "      <td>0.414856</td>\n",
       "    </tr>\n",
       "  </tbody>\n",
       "</table>\n",
       "</div>"
      ],
      "text/plain": [
       "                   A         B\n",
       "2000-01-01 -0.495616  0.289160\n",
       "2000-01-02 -0.445411  0.078071\n",
       "2000-01-03 -1.939111 -0.037347\n",
       "2000-01-04  1.675777  0.684029\n",
       "2000-01-05  0.894284  0.493408\n",
       "2000-01-06  0.381970  1.077312\n",
       "2000-01-07  0.181531  0.336457\n",
       "2000-01-08  0.029001  0.414856"
      ]
     },
     "execution_count": 17,
     "metadata": {},
     "output_type": "execute_result"
    }
   ],
   "source": [
    "df[['A', 'B']]"
   ]
  },
  {
   "cell_type": "code",
   "execution_count": 18,
   "metadata": {},
   "outputs": [
    {
     "data": {
      "text/html": [
       "<div>\n",
       "<style scoped>\n",
       "    .dataframe tbody tr th:only-of-type {\n",
       "        vertical-align: middle;\n",
       "    }\n",
       "\n",
       "    .dataframe tbody tr th {\n",
       "        vertical-align: top;\n",
       "    }\n",
       "\n",
       "    .dataframe thead th {\n",
       "        text-align: right;\n",
       "    }\n",
       "</style>\n",
       "<table border=\"1\" class=\"dataframe\">\n",
       "  <thead>\n",
       "    <tr style=\"text-align: right;\">\n",
       "      <th></th>\n",
       "      <th>A</th>\n",
       "      <th>B</th>\n",
       "    </tr>\n",
       "  </thead>\n",
       "  <tbody>\n",
       "    <tr>\n",
       "      <th>2000-01-01</th>\n",
       "      <td>-0.495616</td>\n",
       "      <td>0.289160</td>\n",
       "    </tr>\n",
       "    <tr>\n",
       "      <th>2000-01-02</th>\n",
       "      <td>-0.445411</td>\n",
       "      <td>0.078071</td>\n",
       "    </tr>\n",
       "    <tr>\n",
       "      <th>2000-01-03</th>\n",
       "      <td>-1.939111</td>\n",
       "      <td>-0.037347</td>\n",
       "    </tr>\n",
       "    <tr>\n",
       "      <th>2000-01-04</th>\n",
       "      <td>1.675777</td>\n",
       "      <td>0.684029</td>\n",
       "    </tr>\n",
       "    <tr>\n",
       "      <th>2000-01-05</th>\n",
       "      <td>0.894284</td>\n",
       "      <td>0.493408</td>\n",
       "    </tr>\n",
       "    <tr>\n",
       "      <th>2000-01-06</th>\n",
       "      <td>0.381970</td>\n",
       "      <td>1.077312</td>\n",
       "    </tr>\n",
       "    <tr>\n",
       "      <th>2000-01-07</th>\n",
       "      <td>0.181531</td>\n",
       "      <td>0.336457</td>\n",
       "    </tr>\n",
       "    <tr>\n",
       "      <th>2000-01-08</th>\n",
       "      <td>0.029001</td>\n",
       "      <td>0.414856</td>\n",
       "    </tr>\n",
       "  </tbody>\n",
       "</table>\n",
       "</div>"
      ],
      "text/plain": [
       "                   A         B\n",
       "2000-01-01 -0.495616  0.289160\n",
       "2000-01-02 -0.445411  0.078071\n",
       "2000-01-03 -1.939111 -0.037347\n",
       "2000-01-04  1.675777  0.684029\n",
       "2000-01-05  0.894284  0.493408\n",
       "2000-01-06  0.381970  1.077312\n",
       "2000-01-07  0.181531  0.336457\n",
       "2000-01-08  0.029001  0.414856"
      ]
     },
     "execution_count": 18,
     "metadata": {},
     "output_type": "execute_result"
    }
   ],
   "source": [
    "df.loc[:,['B', 'A']] = df[['A', 'B']]\n",
    "\n",
    "df[['A', 'B']]"
   ]
  },
  {
   "cell_type": "markdown",
   "metadata": {},
   "source": [
    "The correct way is to use raw values\n",
    "\n",
    "正确的方法是使用原始值"
   ]
  },
  {
   "cell_type": "code",
   "execution_count": 21,
   "metadata": {},
   "outputs": [
    {
     "data": {
      "text/html": [
       "<div>\n",
       "<style scoped>\n",
       "    .dataframe tbody tr th:only-of-type {\n",
       "        vertical-align: middle;\n",
       "    }\n",
       "\n",
       "    .dataframe tbody tr th {\n",
       "        vertical-align: top;\n",
       "    }\n",
       "\n",
       "    .dataframe thead th {\n",
       "        text-align: right;\n",
       "    }\n",
       "</style>\n",
       "<table border=\"1\" class=\"dataframe\">\n",
       "  <thead>\n",
       "    <tr style=\"text-align: right;\">\n",
       "      <th></th>\n",
       "      <th>A</th>\n",
       "      <th>B</th>\n",
       "    </tr>\n",
       "  </thead>\n",
       "  <tbody>\n",
       "    <tr>\n",
       "      <th>2000-01-01</th>\n",
       "      <td>0.289160</td>\n",
       "      <td>-0.495616</td>\n",
       "    </tr>\n",
       "    <tr>\n",
       "      <th>2000-01-02</th>\n",
       "      <td>0.078071</td>\n",
       "      <td>-0.445411</td>\n",
       "    </tr>\n",
       "    <tr>\n",
       "      <th>2000-01-03</th>\n",
       "      <td>-0.037347</td>\n",
       "      <td>-1.939111</td>\n",
       "    </tr>\n",
       "    <tr>\n",
       "      <th>2000-01-04</th>\n",
       "      <td>0.684029</td>\n",
       "      <td>1.675777</td>\n",
       "    </tr>\n",
       "    <tr>\n",
       "      <th>2000-01-05</th>\n",
       "      <td>0.493408</td>\n",
       "      <td>0.894284</td>\n",
       "    </tr>\n",
       "    <tr>\n",
       "      <th>2000-01-06</th>\n",
       "      <td>1.077312</td>\n",
       "      <td>0.381970</td>\n",
       "    </tr>\n",
       "    <tr>\n",
       "      <th>2000-01-07</th>\n",
       "      <td>0.336457</td>\n",
       "      <td>0.181531</td>\n",
       "    </tr>\n",
       "    <tr>\n",
       "      <th>2000-01-08</th>\n",
       "      <td>0.414856</td>\n",
       "      <td>0.029001</td>\n",
       "    </tr>\n",
       "  </tbody>\n",
       "</table>\n",
       "</div>"
      ],
      "text/plain": [
       "                   A         B\n",
       "2000-01-01  0.289160 -0.495616\n",
       "2000-01-02  0.078071 -0.445411\n",
       "2000-01-03 -0.037347 -1.939111\n",
       "2000-01-04  0.684029  1.675777\n",
       "2000-01-05  0.493408  0.894284\n",
       "2000-01-06  1.077312  0.381970\n",
       "2000-01-07  0.336457  0.181531\n",
       "2000-01-08  0.414856  0.029001"
      ]
     },
     "execution_count": 21,
     "metadata": {},
     "output_type": "execute_result"
    }
   ],
   "source": [
    "df.loc[:,['B', 'A']] = df[['A', 'B']].values\n",
    "\n",
    "df[['A', 'B']]"
   ]
  },
  {
   "cell_type": "markdown",
   "metadata": {},
   "source": []
  }
 ],
 "metadata": {
  "kernelspec": {
   "display_name": "Python 3",
   "language": "python",
   "name": "python3"
  },
  "language_info": {
   "codemirror_mode": {
    "name": "ipython",
    "version": 3
   },
   "file_extension": ".py",
   "mimetype": "text/x-python",
   "name": "python",
   "nbconvert_exporter": "python",
   "pygments_lexer": "ipython3",
   "version": "3.6.6"
  },
  "toc": {
   "nav_menu": {},
   "number_sections": true,
   "sideBar": true,
   "skip_h1_title": false,
   "title_cell": "Table of Contents",
   "title_sidebar": "Contents",
   "toc_cell": false,
   "toc_position": {},
   "toc_section_display": true,
   "toc_window_display": false
  }
 },
 "nbformat": 4,
 "nbformat_minor": 2
}
